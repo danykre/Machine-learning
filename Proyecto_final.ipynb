{
  "cells": [
    {
      "cell_type": "markdown",
      "metadata": {
        "id": "bHYAqDdpfTPz"
      },
      "source": [
        "# **Data Science II CoderHouse [Comisión #67485]**"
      ]
    },
    {
      "cell_type": "markdown",
      "metadata": {
        "id": "YOZndBiJgHoC"
      },
      "source": [
        "## **Alumno:** Daniel Kresisch"
      ]
    },
    {
      "cell_type": "markdown",
      "source": [
        "## **Presentación del proyecto**"
      ],
      "metadata": {
        "id": "ZAngFZJXDmKK"
      }
    },
    {
      "cell_type": "markdown",
      "source": [
        "###**Abstracto con motivación de audiencia**"
      ],
      "metadata": {
        "id": "jAhfr-vChTW5"
      }
    },
    {
      "cell_type": "markdown",
      "source": [
        "En un entorno digital cada vez más exigente, las empresas deben anticiparse a la demanda del mercado para optimizar recursos y aumentar su competitividad. Este proyecto de Data Science tiene como objetivo predecir las ventas de **Digital Soluciones S.A.** mediante técnicas de Machine Learning, con el fin de mejorar la planificación logística, comercial y financiera.\n",
        "\n",
        "El proyecto está dirigido a quienes toman decisiones en áreas como marketing, ventas y dirección general, y buscan aplicar modelos predictivos respaldados por datos concretos y experiencia operativa, para impulsar la eficiencia y fortalecer la estrategia de negocio."
      ],
      "metadata": {
        "id": "apx2JLXJpbYz"
      }
    },
    {
      "cell_type": "markdown",
      "source": [
        "###**Contexto comercial y contexto analítico**"
      ],
      "metadata": {
        "id": "FatlRDAzhaQ1"
      }
    },
    {
      "cell_type": "markdown",
      "source": [
        "####Contexto comercial:\n",
        "Digital Soluciones S.A. vende ropa, libros, electrónica y artículos para el hogar en varios países (España, Argentina, Brasil, Colombia, entre otros). Atiende clientes de distintos perfiles y regiones, lo que dificulta analizar su comportamiento de compra. Por ello, necesita herramientas predictivas para optimizar su inventario, campañas y estrategias regionales."
      ],
      "metadata": {
        "id": "-hG8SgfRhecQ"
      }
    },
    {
      "cell_type": "markdown",
      "source": [
        "####Contexto analítico:\n",
        "El dataset, extraído de la plataforma Kaggle, incluye pedidos con variables como fecha, país, ciudad, producto, categoría, cantidad, precio, descuento, pago, envío y totales de venta. Se usará un enfoque supervisado para estimar el monto total (Precio_Total), considerando patrones temporales, demográficos y comerciales, con el fin de construir un modelo predictivo confiable."
      ],
      "metadata": {
        "id": "x06Q7COMhhVd"
      }
    },
    {
      "cell_type": "markdown",
      "source": [
        "### **Preguntas a resolver mediante el Análisis de Datos**"
      ],
      "metadata": {
        "id": "LYf5ot6Foeaq"
      }
    },
    {
      "cell_type": "markdown",
      "source": [
        "###  1. ¿Cuáles son los métodos de pago más utilizados por los clientes?\n"
      ],
      "metadata": {
        "id": "sDuTEsIwoxu2"
      }
    },
    {
      "cell_type": "markdown",
      "source": [
        "### 2. ¿Qué productos tienen más descuentos?"
      ],
      "metadata": {
        "id": "52XvSMIloyAB"
      }
    },
    {
      "cell_type": "markdown",
      "source": [
        "### 3. ¿Cuáles son los productos más vendidos?"
      ],
      "metadata": {
        "id": "4XWnDcdnoySj"
      }
    },
    {
      "cell_type": "markdown",
      "source": [
        "### 4. ¿Hay mucha demora en el envío?"
      ],
      "metadata": {
        "id": "V9_G6-VJoyg1"
      }
    },
    {
      "cell_type": "markdown",
      "source": [
        "### 5. ¿Cuáles son los meses donde hay más ventas?"
      ],
      "metadata": {
        "id": "g2k82c3CpOGv"
      }
    },
    {
      "cell_type": "markdown",
      "source": [
        "###**Objetivo general del proyecto**\n"
      ],
      "metadata": {
        "id": "kzrQC9Kyh1Uh"
      }
    },
    {
      "cell_type": "markdown",
      "source": [
        "El principal objetivo es construir un modelo predictivo que nos permita estimar el valor total de una venta (Precio_Total). A partir de las características del cliente, el producto y la operación, este modelo servirá como una herramienta valiosa de planificación para las áreas de ventas y logística, ayudando a optimizar recursos y a tomar decisiones más informadas."
      ],
      "metadata": {
        "id": "IUrIqHEorbwS"
      }
    },
    {
      "cell_type": "markdown",
      "source": [
        "####Tipo de modelo a utilizar\n",
        "Para este proyecto se va a utilizar la regresión lineal. Es un modelo supervisado, simple y lo más importante, altamente interpretable. La regresión lineal permitirá entender de manera clara y directa cómo cada variable influye en el precio final de la venta. Además, servirá como un excelente punto de partida (o línea base), con la cual se podrá comparar la efectividad de modelos más complejos en el futuro si fuera necesario."
      ],
      "metadata": {
        "id": "Z95NVO63h26T"
      }
    },
    {
      "cell_type": "markdown",
      "source": [
        "####Variables clave\n",
        "\n",
        "Las variables que se utilizarán para construir el modelo son:\n",
        "\n",
        "* **Variables numéricas:** Edad, Precio_Unitario, Cantidad, Descuento y Días_de_envío.\n",
        "\n",
        "* **Variables categóricas:** País, Ciudad, Género, Categoría y Subcategoría del producto, y Método_de_pago. Estas variables serán procesadas y transformadas para que puedan ser utilizadas en el modelo.\n",
        "\n",
        "* **Variable de tiempo:** Fecha_Pedido, que será transformada para capturar la estacionalidad (por ejemplo, el día de la semana o el mes)."
      ],
      "metadata": {
        "id": "3wM8ZOC3h6Th"
      }
    },
    {
      "cell_type": "markdown",
      "source": [
        "## **Presentación ejecutiva**"
      ],
      "metadata": {
        "id": "btv7z1h9E-LF"
      }
    },
    {
      "cell_type": "markdown",
      "source": [
        "[Ver la presentación ejecutiva](https://drive.google.com/file/d/1T0PxN1H6CyY-4UzhaO0HkFvijD7lsU6C/view)"
      ],
      "metadata": {
        "id": "dHjBSdCvFK9i"
      }
    },
    {
      "cell_type": "markdown",
      "metadata": {
        "id": "qJ7o-_6Oi-uC"
      },
      "source": [
        "## **Lectura de datos**\n",
        "\n",
        "---\n",
        "\n"
      ]
    },
    {
      "cell_type": "code",
      "execution_count": null,
      "metadata": {
        "id": "YcsF-zPqHRT2"
      },
      "outputs": [],
      "source": [
        "# Importación de las librerias\n",
        "import pandas as pd\n",
        "import numpy as np\n",
        "import seaborn as sns\n",
        "import matplotlib.pyplot as plt"
      ]
    },
    {
      "cell_type": "code",
      "source": [
        "# Para que Python no muestre errores\n",
        "import warnings\n",
        "warnings.filterwarnings('ignore')"
      ],
      "metadata": {
        "id": "IcrFl5gbI87r"
      },
      "execution_count": null,
      "outputs": []
    },
    {
      "cell_type": "code",
      "source": [
        "# Conexión con Google Drive\n",
        "from google.colab import drive\n",
        "import os\n",
        "drive.mount('/content/gdrive')"
      ],
      "metadata": {
        "colab": {
          "base_uri": "https://localhost:8080/"
        },
        "id": "2c2tHzX8HxCy",
        "outputId": "32faa1cd-7b33-4d0a-ef70-b49df28cfb4d"
      },
      "execution_count": null,
      "outputs": [
        {
          "output_type": "stream",
          "name": "stdout",
          "text": [
            "Mounted at /content/gdrive\n"
          ]
        }
      ]
    },
    {
      "cell_type": "code",
      "execution_count": null,
      "metadata": {
        "id": "eiIVE7_xNmkt",
        "colab": {
          "base_uri": "https://localhost:8080/"
        },
        "outputId": "fe71124d-84e1-485f-bec4-13d8b5b612e7"
      },
      "outputs": [
        {
          "output_type": "stream",
          "name": "stdout",
          "text": [
            "/content/gdrive/MyDrive/Coderhouse/Data Science II/Desafios/Proyecto final\n"
          ]
        }
      ],
      "source": [
        "# Ubicación del dataset\n",
        "%cd '/content/gdrive/MyDrive/Coderhouse/Data Science II/Desafios/Proyecto final'"
      ]
    },
    {
      "cell_type": "code",
      "source": [
        "# Lectura del dataset\n",
        "df = pd.read_excel ('Digital_Soluciones.xlsx')"
      ],
      "metadata": {
        "id": "OvdCkio5ji_m"
      },
      "execution_count": null,
      "outputs": []
    },
    {
      "cell_type": "code",
      "source": [
        "# Primeros 5 registros\n",
        "df.head()"
      ],
      "metadata": {
        "id": "w_DYh7tFjtxL",
        "colab": {
          "base_uri": "https://localhost:8080/",
          "height": 313
        },
        "outputId": "2f1213cc-77f5-49a6-dba0-e0a5dbbddc88"
      },
      "execution_count": null,
      "outputs": [
        {
          "output_type": "execute_result",
          "data": {
            "text/plain": [
              "  ID_Pedido ID_Cliente   Nombre_Cliente     Género Edad      País     Ciudad  \\\n",
              "0  P-100000     C-6342  Samantha Davila       Otro   39    España   Valencia   \n",
              "1  P-100001     C-4192      Jacob Burns   Femenino   43    España     Madrid   \n",
              "2  P-100002     C-9546   Denise Bullock  Masculino   65    España  Barcelona   \n",
              "3  P-100003     C-6072       Erin Jones   Femenino   48  Colombia   Medellín   \n",
              "4  P-100004     C-5199       Shawn Reed   Femenino   36    España   Valencia   \n",
              "\n",
              "  ID_Producto Nombre_Producto    Categoría Subcategoría  Precio_Unitario  \\\n",
              "0      PR-977           Jeans         Ropa        Jeans           785.26   \n",
              "1      PR-143         Muebles        Hogar      Muebles           376.62   \n",
              "2      PR-857         Ficción       Libros      Ficción            94.64   \n",
              "3      PR-266          Tablet  Electrónica       Tablet           966.04   \n",
              "4      PR-151          Cómics       Libros       Cómics           722.05   \n",
              "\n",
              "   Cantidad  Descuento  Precio_Total         Fecha_Pedido  \\\n",
              "0         2       0.09       1429.17  2025-03-04 00:00:00   \n",
              "1         1       0.13        327.66  2024-03-03 00:00:00   \n",
              "2         5       0.06        444.81  2023-10-14 00:00:00   \n",
              "3         1       0.27        705.21  2024-11-02 00:00:00   \n",
              "4         3       0.22       1689.60  2024-01-20 00:00:00   \n",
              "\n",
              "              Método_Pago  Días_Envío  \n",
              "0        Contra Reembolso         8.0  \n",
              "1      Tarjeta de Crédito        10.0  \n",
              "2  Transferencia Bancaria         2.0  \n",
              "3        Contra Reembolso        10.0  \n",
              "4  Transferencia Bancaria         6.0  "
            ],
            "text/html": [
              "\n",
              "  <div id=\"df-3afbc4c0-5afb-4f4b-afc4-59d2b0342245\" class=\"colab-df-container\">\n",
              "    <div>\n",
              "<style scoped>\n",
              "    .dataframe tbody tr th:only-of-type {\n",
              "        vertical-align: middle;\n",
              "    }\n",
              "\n",
              "    .dataframe tbody tr th {\n",
              "        vertical-align: top;\n",
              "    }\n",
              "\n",
              "    .dataframe thead th {\n",
              "        text-align: right;\n",
              "    }\n",
              "</style>\n",
              "<table border=\"1\" class=\"dataframe\">\n",
              "  <thead>\n",
              "    <tr style=\"text-align: right;\">\n",
              "      <th></th>\n",
              "      <th>ID_Pedido</th>\n",
              "      <th>ID_Cliente</th>\n",
              "      <th>Nombre_Cliente</th>\n",
              "      <th>Género</th>\n",
              "      <th>Edad</th>\n",
              "      <th>País</th>\n",
              "      <th>Ciudad</th>\n",
              "      <th>ID_Producto</th>\n",
              "      <th>Nombre_Producto</th>\n",
              "      <th>Categoría</th>\n",
              "      <th>Subcategoría</th>\n",
              "      <th>Precio_Unitario</th>\n",
              "      <th>Cantidad</th>\n",
              "      <th>Descuento</th>\n",
              "      <th>Precio_Total</th>\n",
              "      <th>Fecha_Pedido</th>\n",
              "      <th>Método_Pago</th>\n",
              "      <th>Días_Envío</th>\n",
              "    </tr>\n",
              "  </thead>\n",
              "  <tbody>\n",
              "    <tr>\n",
              "      <th>0</th>\n",
              "      <td>P-100000</td>\n",
              "      <td>C-6342</td>\n",
              "      <td>Samantha Davila</td>\n",
              "      <td>Otro</td>\n",
              "      <td>39</td>\n",
              "      <td>España</td>\n",
              "      <td>Valencia</td>\n",
              "      <td>PR-977</td>\n",
              "      <td>Jeans</td>\n",
              "      <td>Ropa</td>\n",
              "      <td>Jeans</td>\n",
              "      <td>785.26</td>\n",
              "      <td>2</td>\n",
              "      <td>0.09</td>\n",
              "      <td>1429.17</td>\n",
              "      <td>2025-03-04 00:00:00</td>\n",
              "      <td>Contra Reembolso</td>\n",
              "      <td>8.0</td>\n",
              "    </tr>\n",
              "    <tr>\n",
              "      <th>1</th>\n",
              "      <td>P-100001</td>\n",
              "      <td>C-4192</td>\n",
              "      <td>Jacob Burns</td>\n",
              "      <td>Femenino</td>\n",
              "      <td>43</td>\n",
              "      <td>España</td>\n",
              "      <td>Madrid</td>\n",
              "      <td>PR-143</td>\n",
              "      <td>Muebles</td>\n",
              "      <td>Hogar</td>\n",
              "      <td>Muebles</td>\n",
              "      <td>376.62</td>\n",
              "      <td>1</td>\n",
              "      <td>0.13</td>\n",
              "      <td>327.66</td>\n",
              "      <td>2024-03-03 00:00:00</td>\n",
              "      <td>Tarjeta de Crédito</td>\n",
              "      <td>10.0</td>\n",
              "    </tr>\n",
              "    <tr>\n",
              "      <th>2</th>\n",
              "      <td>P-100002</td>\n",
              "      <td>C-9546</td>\n",
              "      <td>Denise Bullock</td>\n",
              "      <td>Masculino</td>\n",
              "      <td>65</td>\n",
              "      <td>España</td>\n",
              "      <td>Barcelona</td>\n",
              "      <td>PR-857</td>\n",
              "      <td>Ficción</td>\n",
              "      <td>Libros</td>\n",
              "      <td>Ficción</td>\n",
              "      <td>94.64</td>\n",
              "      <td>5</td>\n",
              "      <td>0.06</td>\n",
              "      <td>444.81</td>\n",
              "      <td>2023-10-14 00:00:00</td>\n",
              "      <td>Transferencia Bancaria</td>\n",
              "      <td>2.0</td>\n",
              "    </tr>\n",
              "    <tr>\n",
              "      <th>3</th>\n",
              "      <td>P-100003</td>\n",
              "      <td>C-6072</td>\n",
              "      <td>Erin Jones</td>\n",
              "      <td>Femenino</td>\n",
              "      <td>48</td>\n",
              "      <td>Colombia</td>\n",
              "      <td>Medellín</td>\n",
              "      <td>PR-266</td>\n",
              "      <td>Tablet</td>\n",
              "      <td>Electrónica</td>\n",
              "      <td>Tablet</td>\n",
              "      <td>966.04</td>\n",
              "      <td>1</td>\n",
              "      <td>0.27</td>\n",
              "      <td>705.21</td>\n",
              "      <td>2024-11-02 00:00:00</td>\n",
              "      <td>Contra Reembolso</td>\n",
              "      <td>10.0</td>\n",
              "    </tr>\n",
              "    <tr>\n",
              "      <th>4</th>\n",
              "      <td>P-100004</td>\n",
              "      <td>C-5199</td>\n",
              "      <td>Shawn Reed</td>\n",
              "      <td>Femenino</td>\n",
              "      <td>36</td>\n",
              "      <td>España</td>\n",
              "      <td>Valencia</td>\n",
              "      <td>PR-151</td>\n",
              "      <td>Cómics</td>\n",
              "      <td>Libros</td>\n",
              "      <td>Cómics</td>\n",
              "      <td>722.05</td>\n",
              "      <td>3</td>\n",
              "      <td>0.22</td>\n",
              "      <td>1689.60</td>\n",
              "      <td>2024-01-20 00:00:00</td>\n",
              "      <td>Transferencia Bancaria</td>\n",
              "      <td>6.0</td>\n",
              "    </tr>\n",
              "  </tbody>\n",
              "</table>\n",
              "</div>\n",
              "    <div class=\"colab-df-buttons\">\n",
              "\n",
              "  <div class=\"colab-df-container\">\n",
              "    <button class=\"colab-df-convert\" onclick=\"convertToInteractive('df-3afbc4c0-5afb-4f4b-afc4-59d2b0342245')\"\n",
              "            title=\"Convert this dataframe to an interactive table.\"\n",
              "            style=\"display:none;\">\n",
              "\n",
              "  <svg xmlns=\"http://www.w3.org/2000/svg\" height=\"24px\" viewBox=\"0 -960 960 960\">\n",
              "    <path d=\"M120-120v-720h720v720H120Zm60-500h600v-160H180v160Zm220 220h160v-160H400v160Zm0 220h160v-160H400v160ZM180-400h160v-160H180v160Zm440 0h160v-160H620v160ZM180-180h160v-160H180v160Zm440 0h160v-160H620v160Z\"/>\n",
              "  </svg>\n",
              "    </button>\n",
              "\n",
              "  <style>\n",
              "    .colab-df-container {\n",
              "      display:flex;\n",
              "      gap: 12px;\n",
              "    }\n",
              "\n",
              "    .colab-df-convert {\n",
              "      background-color: #E8F0FE;\n",
              "      border: none;\n",
              "      border-radius: 50%;\n",
              "      cursor: pointer;\n",
              "      display: none;\n",
              "      fill: #1967D2;\n",
              "      height: 32px;\n",
              "      padding: 0 0 0 0;\n",
              "      width: 32px;\n",
              "    }\n",
              "\n",
              "    .colab-df-convert:hover {\n",
              "      background-color: #E2EBFA;\n",
              "      box-shadow: 0px 1px 2px rgba(60, 64, 67, 0.3), 0px 1px 3px 1px rgba(60, 64, 67, 0.15);\n",
              "      fill: #174EA6;\n",
              "    }\n",
              "\n",
              "    .colab-df-buttons div {\n",
              "      margin-bottom: 4px;\n",
              "    }\n",
              "\n",
              "    [theme=dark] .colab-df-convert {\n",
              "      background-color: #3B4455;\n",
              "      fill: #D2E3FC;\n",
              "    }\n",
              "\n",
              "    [theme=dark] .colab-df-convert:hover {\n",
              "      background-color: #434B5C;\n",
              "      box-shadow: 0px 1px 3px 1px rgba(0, 0, 0, 0.15);\n",
              "      filter: drop-shadow(0px 1px 2px rgba(0, 0, 0, 0.3));\n",
              "      fill: #FFFFFF;\n",
              "    }\n",
              "  </style>\n",
              "\n",
              "    <script>\n",
              "      const buttonEl =\n",
              "        document.querySelector('#df-3afbc4c0-5afb-4f4b-afc4-59d2b0342245 button.colab-df-convert');\n",
              "      buttonEl.style.display =\n",
              "        google.colab.kernel.accessAllowed ? 'block' : 'none';\n",
              "\n",
              "      async function convertToInteractive(key) {\n",
              "        const element = document.querySelector('#df-3afbc4c0-5afb-4f4b-afc4-59d2b0342245');\n",
              "        const dataTable =\n",
              "          await google.colab.kernel.invokeFunction('convertToInteractive',\n",
              "                                                    [key], {});\n",
              "        if (!dataTable) return;\n",
              "\n",
              "        const docLinkHtml = 'Like what you see? Visit the ' +\n",
              "          '<a target=\"_blank\" href=https://colab.research.google.com/notebooks/data_table.ipynb>data table notebook</a>'\n",
              "          + ' to learn more about interactive tables.';\n",
              "        element.innerHTML = '';\n",
              "        dataTable['output_type'] = 'display_data';\n",
              "        await google.colab.output.renderOutput(dataTable, element);\n",
              "        const docLink = document.createElement('div');\n",
              "        docLink.innerHTML = docLinkHtml;\n",
              "        element.appendChild(docLink);\n",
              "      }\n",
              "    </script>\n",
              "  </div>\n",
              "\n",
              "\n",
              "    <div id=\"df-610036b9-049e-414e-b3ab-7261a2d3955a\">\n",
              "      <button class=\"colab-df-quickchart\" onclick=\"quickchart('df-610036b9-049e-414e-b3ab-7261a2d3955a')\"\n",
              "                title=\"Suggest charts\"\n",
              "                style=\"display:none;\">\n",
              "\n",
              "<svg xmlns=\"http://www.w3.org/2000/svg\" height=\"24px\"viewBox=\"0 0 24 24\"\n",
              "     width=\"24px\">\n",
              "    <g>\n",
              "        <path d=\"M19 3H5c-1.1 0-2 .9-2 2v14c0 1.1.9 2 2 2h14c1.1 0 2-.9 2-2V5c0-1.1-.9-2-2-2zM9 17H7v-7h2v7zm4 0h-2V7h2v10zm4 0h-2v-4h2v4z\"/>\n",
              "    </g>\n",
              "</svg>\n",
              "      </button>\n",
              "\n",
              "<style>\n",
              "  .colab-df-quickchart {\n",
              "      --bg-color: #E8F0FE;\n",
              "      --fill-color: #1967D2;\n",
              "      --hover-bg-color: #E2EBFA;\n",
              "      --hover-fill-color: #174EA6;\n",
              "      --disabled-fill-color: #AAA;\n",
              "      --disabled-bg-color: #DDD;\n",
              "  }\n",
              "\n",
              "  [theme=dark] .colab-df-quickchart {\n",
              "      --bg-color: #3B4455;\n",
              "      --fill-color: #D2E3FC;\n",
              "      --hover-bg-color: #434B5C;\n",
              "      --hover-fill-color: #FFFFFF;\n",
              "      --disabled-bg-color: #3B4455;\n",
              "      --disabled-fill-color: #666;\n",
              "  }\n",
              "\n",
              "  .colab-df-quickchart {\n",
              "    background-color: var(--bg-color);\n",
              "    border: none;\n",
              "    border-radius: 50%;\n",
              "    cursor: pointer;\n",
              "    display: none;\n",
              "    fill: var(--fill-color);\n",
              "    height: 32px;\n",
              "    padding: 0;\n",
              "    width: 32px;\n",
              "  }\n",
              "\n",
              "  .colab-df-quickchart:hover {\n",
              "    background-color: var(--hover-bg-color);\n",
              "    box-shadow: 0 1px 2px rgba(60, 64, 67, 0.3), 0 1px 3px 1px rgba(60, 64, 67, 0.15);\n",
              "    fill: var(--button-hover-fill-color);\n",
              "  }\n",
              "\n",
              "  .colab-df-quickchart-complete:disabled,\n",
              "  .colab-df-quickchart-complete:disabled:hover {\n",
              "    background-color: var(--disabled-bg-color);\n",
              "    fill: var(--disabled-fill-color);\n",
              "    box-shadow: none;\n",
              "  }\n",
              "\n",
              "  .colab-df-spinner {\n",
              "    border: 2px solid var(--fill-color);\n",
              "    border-color: transparent;\n",
              "    border-bottom-color: var(--fill-color);\n",
              "    animation:\n",
              "      spin 1s steps(1) infinite;\n",
              "  }\n",
              "\n",
              "  @keyframes spin {\n",
              "    0% {\n",
              "      border-color: transparent;\n",
              "      border-bottom-color: var(--fill-color);\n",
              "      border-left-color: var(--fill-color);\n",
              "    }\n",
              "    20% {\n",
              "      border-color: transparent;\n",
              "      border-left-color: var(--fill-color);\n",
              "      border-top-color: var(--fill-color);\n",
              "    }\n",
              "    30% {\n",
              "      border-color: transparent;\n",
              "      border-left-color: var(--fill-color);\n",
              "      border-top-color: var(--fill-color);\n",
              "      border-right-color: var(--fill-color);\n",
              "    }\n",
              "    40% {\n",
              "      border-color: transparent;\n",
              "      border-right-color: var(--fill-color);\n",
              "      border-top-color: var(--fill-color);\n",
              "    }\n",
              "    60% {\n",
              "      border-color: transparent;\n",
              "      border-right-color: var(--fill-color);\n",
              "    }\n",
              "    80% {\n",
              "      border-color: transparent;\n",
              "      border-right-color: var(--fill-color);\n",
              "      border-bottom-color: var(--fill-color);\n",
              "    }\n",
              "    90% {\n",
              "      border-color: transparent;\n",
              "      border-bottom-color: var(--fill-color);\n",
              "    }\n",
              "  }\n",
              "</style>\n",
              "\n",
              "      <script>\n",
              "        async function quickchart(key) {\n",
              "          const quickchartButtonEl =\n",
              "            document.querySelector('#' + key + ' button');\n",
              "          quickchartButtonEl.disabled = true;  // To prevent multiple clicks.\n",
              "          quickchartButtonEl.classList.add('colab-df-spinner');\n",
              "          try {\n",
              "            const charts = await google.colab.kernel.invokeFunction(\n",
              "                'suggestCharts', [key], {});\n",
              "          } catch (error) {\n",
              "            console.error('Error during call to suggestCharts:', error);\n",
              "          }\n",
              "          quickchartButtonEl.classList.remove('colab-df-spinner');\n",
              "          quickchartButtonEl.classList.add('colab-df-quickchart-complete');\n",
              "        }\n",
              "        (() => {\n",
              "          let quickchartButtonEl =\n",
              "            document.querySelector('#df-610036b9-049e-414e-b3ab-7261a2d3955a button');\n",
              "          quickchartButtonEl.style.display =\n",
              "            google.colab.kernel.accessAllowed ? 'block' : 'none';\n",
              "        })();\n",
              "      </script>\n",
              "    </div>\n",
              "\n",
              "    </div>\n",
              "  </div>\n"
            ],
            "application/vnd.google.colaboratory.intrinsic+json": {
              "type": "dataframe",
              "variable_name": "df",
              "summary": "{\n  \"name\": \"df\",\n  \"rows\": 10006,\n  \"fields\": [\n    {\n      \"column\": \"ID_Pedido\",\n      \"properties\": {\n        \"dtype\": \"string\",\n        \"num_unique_values\": 10003,\n        \"samples\": [\n          \"P-106883\",\n          \"P-105836\",\n          \"P-108601\"\n        ],\n        \"semantic_type\": \"\",\n        \"description\": \"\"\n      }\n    },\n    {\n      \"column\": \"ID_Cliente\",\n      \"properties\": {\n        \"dtype\": \"string\",\n        \"num_unique_values\": 5971,\n        \"samples\": [\n          \"C-5631\",\n          \"C-4154\",\n          \"C-7651\"\n        ],\n        \"semantic_type\": \"\",\n        \"description\": \"\"\n      }\n    },\n    {\n      \"column\": \"Nombre_Cliente\",\n      \"properties\": {\n        \"dtype\": \"string\",\n        \"num_unique_values\": 9396,\n        \"samples\": [\n          \"Larry Long\",\n          \"Regina Wolf\",\n          \"Julia Henderson\"\n        ],\n        \"semantic_type\": \"\",\n        \"description\": \"\"\n      }\n    },\n    {\n      \"column\": \"G\\u00e9nero\",\n      \"properties\": {\n        \"dtype\": \"category\",\n        \"num_unique_values\": 4,\n        \"samples\": [\n          \"Femenino\",\n          \"Masculin\",\n          \"Otro\"\n        ],\n        \"semantic_type\": \"\",\n        \"description\": \"\"\n      }\n    },\n    {\n      \"column\": \"Edad\",\n      \"properties\": {\n        \"dtype\": \"category\",\n        \"num_unique_values\": 54,\n        \"samples\": [\n          44,\n          67,\n          22\n        ],\n        \"semantic_type\": \"\",\n        \"description\": \"\"\n      }\n    },\n    {\n      \"column\": \"Pa\\u00eds\",\n      \"properties\": {\n        \"dtype\": \"category\",\n        \"num_unique_values\": 6,\n        \"samples\": [\n          \"Espa\\u00f1a\",\n          \"Colombia\",\n          \"Brasil\"\n        ],\n        \"semantic_type\": \"\",\n        \"description\": \"\"\n      }\n    },\n    {\n      \"column\": \"Ciudad\",\n      \"properties\": {\n        \"dtype\": \"category\",\n        \"num_unique_values\": 16,\n        \"samples\": [\n          \"Valencia\",\n          \"Madrid\",\n          \"Santiago\"\n        ],\n        \"semantic_type\": \"\",\n        \"description\": \"\"\n      }\n    },\n    {\n      \"column\": \"ID_Producto\",\n      \"properties\": {\n        \"dtype\": \"category\",\n        \"num_unique_values\": 903,\n        \"samples\": [\n          \"PR-280\",\n          \"PR-610\",\n          \"PR-105\"\n        ],\n        \"semantic_type\": \"\",\n        \"description\": \"\"\n      }\n    },\n    {\n      \"column\": \"Nombre_Producto\",\n      \"properties\": {\n        \"dtype\": \"category\",\n        \"num_unique_values\": 13,\n        \"samples\": [\n          \"No Ficci\\u00f3n\",\n          \"Remera\",\n          \"Jeans\"\n        ],\n        \"semantic_type\": \"\",\n        \"description\": \"\"\n      }\n    },\n    {\n      \"column\": \"Categor\\u00eda\",\n      \"properties\": {\n        \"dtype\": \"category\",\n        \"num_unique_values\": 5,\n        \"samples\": [\n          \"Hogar\",\n          \"electr\\u00f3nica\",\n          \"Libros\"\n        ],\n        \"semantic_type\": \"\",\n        \"description\": \"\"\n      }\n    },\n    {\n      \"column\": \"Subcategor\\u00eda\",\n      \"properties\": {\n        \"dtype\": \"category\",\n        \"num_unique_values\": 13,\n        \"samples\": [\n          \"No Ficci\\u00f3n\",\n          \"Remera\",\n          \"Jeans\"\n        ],\n        \"semantic_type\": \"\",\n        \"description\": \"\"\n      }\n    },\n    {\n      \"column\": \"Precio_Unitario\",\n      \"properties\": {\n        \"dtype\": \"number\",\n        \"std\": 285.4175973209628,\n        \"min\": 10.02,\n        \"max\": 999.82,\n        \"num_unique_values\": 9500,\n        \"samples\": [\n          393.03,\n          933.97,\n          931.49\n        ],\n        \"semantic_type\": \"\",\n        \"description\": \"\"\n      }\n    },\n    {\n      \"column\": \"Cantidad\",\n      \"properties\": {\n        \"dtype\": \"number\",\n        \"std\": 1,\n        \"min\": 1,\n        \"max\": 5,\n        \"num_unique_values\": 5,\n        \"samples\": [\n          1,\n          4,\n          5\n        ],\n        \"semantic_type\": \"\",\n        \"description\": \"\"\n      }\n    },\n    {\n      \"column\": \"Descuento\",\n      \"properties\": {\n        \"dtype\": \"number\",\n        \"std\": 0.08752161225159312,\n        \"min\": 0.0,\n        \"max\": 0.3,\n        \"num_unique_values\": 31,\n        \"samples\": [\n          0.02,\n          0.26,\n          0.2\n        ],\n        \"semantic_type\": \"\",\n        \"description\": \"\"\n      }\n    },\n    {\n      \"column\": \"Precio_Total\",\n      \"properties\": {\n        \"dtype\": \"number\",\n        \"std\": 1027.8770697016653,\n        \"min\": 8.2,\n        \"max\": 4929.66,\n        \"num_unique_values\": 9858,\n        \"samples\": [\n          1773.75,\n          1738.49,\n          579.87\n        ],\n        \"semantic_type\": \"\",\n        \"description\": \"\"\n      }\n    },\n    {\n      \"column\": \"Fecha_Pedido\",\n      \"properties\": {\n        \"dtype\": \"date\",\n        \"min\": \"2023-05-29 00:00:00\",\n        \"max\": \"2025-06-10 00:00:00\",\n        \"num_unique_values\": 733,\n        \"samples\": [\n          \"2024-12-31 00:00:00\",\n          \"2023-06-01 00:00:00\",\n          \"2025-03-01 00:00:00\"\n        ],\n        \"semantic_type\": \"\",\n        \"description\": \"\"\n      }\n    },\n    {\n      \"column\": \"M\\u00e9todo_Pago\",\n      \"properties\": {\n        \"dtype\": \"category\",\n        \"num_unique_values\": 6,\n        \"samples\": [\n          \"Contra Reembolso\",\n          \"Tarjeta de Cr\\u00e9dito\",\n          \"contra reembolso\"\n        ],\n        \"semantic_type\": \"\",\n        \"description\": \"\"\n      }\n    },\n    {\n      \"column\": \"D\\u00edas_Env\\u00edo\",\n      \"properties\": {\n        \"dtype\": \"number\",\n        \"std\": 2.8554763243136922,\n        \"min\": 1.0,\n        \"max\": 10.0,\n        \"num_unique_values\": 10,\n        \"samples\": [\n          3.0,\n          10.0,\n          4.0\n        ],\n        \"semantic_type\": \"\",\n        \"description\": \"\"\n      }\n    }\n  ]\n}"
            }
          },
          "metadata": {},
          "execution_count": 6
        }
      ]
    },
    {
      "cell_type": "code",
      "source": [
        "# Últimos 5 registros\n",
        "df.tail()"
      ],
      "metadata": {
        "id": "A1pEj5Opj2nd",
        "colab": {
          "base_uri": "https://localhost:8080/",
          "height": 296
        },
        "outputId": "304eb0b6-3d8c-4855-fa1a-fa878971e7b5"
      },
      "execution_count": null,
      "outputs": [
        {
          "output_type": "execute_result",
          "data": {
            "text/plain": [
              "      ID_Pedido ID_Cliente Nombre_Cliente    Género     Edad       País  \\\n",
              "10001  P-200002        NaN                      NaN       28      Chile   \n",
              "10002  P-106252     C-8579   Carmen Jones  Femenino       42  Argentina   \n",
              "10003  P-104684     C-5038     Mary Welch  Femenino       36     España   \n",
              "10004  P-101731     C-1503  Donna Jackson      Otro       23     España   \n",
              "10005  P-200003     c-7777    juan perez   Masculin  treinta     Brasil   \n",
              "\n",
              "               Ciudad ID_Producto Nombre_Producto    Categoría Subcategoría  \\\n",
              "10001        Santiago      PR-002             NaN         Ropa       Remera   \n",
              "10002    Buenos Aires      PR-908           Jeans         Ropa        Jeans   \n",
              "10003       Barcelona      PR-273          Tablet  Electrónica       Tablet   \n",
              "10004       Barcelona      PR-617      Decoración        Hogar   Decoración   \n",
              "10005  rio de janeiro      pr-888          Tablet  electrónica      tablets   \n",
              "\n",
              "       Precio_Unitario  Cantidad  Descuento  Precio_Total  \\\n",
              "10001              NaN         3       0.15        892.25   \n",
              "10002           326.28         5       0.28       1174.61   \n",
              "10003            42.67         3       0.17        106.25   \n",
              "10004           148.55         5       0.05        705.61   \n",
              "10005           950.00         1       0.10        855.00   \n",
              "\n",
              "              Fecha_Pedido             Método_Pago  Días_Envío  \n",
              "10001                  NaN                     NaN         NaN  \n",
              "10002  2024-03-11 00:00:00  Transferencia Bancaria         7.0  \n",
              "10003  2023-07-24 00:00:00      Tarjeta de Crédito         9.0  \n",
              "10004  2024-06-27 00:00:00  Transferencia Bancaria         1.0  \n",
              "10005           2025/06/10        contra reembolso         4.0  "
            ],
            "text/html": [
              "\n",
              "  <div id=\"df-521cf09b-89d3-421a-b782-6a91fa1df75a\" class=\"colab-df-container\">\n",
              "    <div>\n",
              "<style scoped>\n",
              "    .dataframe tbody tr th:only-of-type {\n",
              "        vertical-align: middle;\n",
              "    }\n",
              "\n",
              "    .dataframe tbody tr th {\n",
              "        vertical-align: top;\n",
              "    }\n",
              "\n",
              "    .dataframe thead th {\n",
              "        text-align: right;\n",
              "    }\n",
              "</style>\n",
              "<table border=\"1\" class=\"dataframe\">\n",
              "  <thead>\n",
              "    <tr style=\"text-align: right;\">\n",
              "      <th></th>\n",
              "      <th>ID_Pedido</th>\n",
              "      <th>ID_Cliente</th>\n",
              "      <th>Nombre_Cliente</th>\n",
              "      <th>Género</th>\n",
              "      <th>Edad</th>\n",
              "      <th>País</th>\n",
              "      <th>Ciudad</th>\n",
              "      <th>ID_Producto</th>\n",
              "      <th>Nombre_Producto</th>\n",
              "      <th>Categoría</th>\n",
              "      <th>Subcategoría</th>\n",
              "      <th>Precio_Unitario</th>\n",
              "      <th>Cantidad</th>\n",
              "      <th>Descuento</th>\n",
              "      <th>Precio_Total</th>\n",
              "      <th>Fecha_Pedido</th>\n",
              "      <th>Método_Pago</th>\n",
              "      <th>Días_Envío</th>\n",
              "    </tr>\n",
              "  </thead>\n",
              "  <tbody>\n",
              "    <tr>\n",
              "      <th>10001</th>\n",
              "      <td>P-200002</td>\n",
              "      <td>NaN</td>\n",
              "      <td></td>\n",
              "      <td>NaN</td>\n",
              "      <td>28</td>\n",
              "      <td>Chile</td>\n",
              "      <td>Santiago</td>\n",
              "      <td>PR-002</td>\n",
              "      <td>NaN</td>\n",
              "      <td>Ropa</td>\n",
              "      <td>Remera</td>\n",
              "      <td>NaN</td>\n",
              "      <td>3</td>\n",
              "      <td>0.15</td>\n",
              "      <td>892.25</td>\n",
              "      <td>NaN</td>\n",
              "      <td>NaN</td>\n",
              "      <td>NaN</td>\n",
              "    </tr>\n",
              "    <tr>\n",
              "      <th>10002</th>\n",
              "      <td>P-106252</td>\n",
              "      <td>C-8579</td>\n",
              "      <td>Carmen Jones</td>\n",
              "      <td>Femenino</td>\n",
              "      <td>42</td>\n",
              "      <td>Argentina</td>\n",
              "      <td>Buenos Aires</td>\n",
              "      <td>PR-908</td>\n",
              "      <td>Jeans</td>\n",
              "      <td>Ropa</td>\n",
              "      <td>Jeans</td>\n",
              "      <td>326.28</td>\n",
              "      <td>5</td>\n",
              "      <td>0.28</td>\n",
              "      <td>1174.61</td>\n",
              "      <td>2024-03-11 00:00:00</td>\n",
              "      <td>Transferencia Bancaria</td>\n",
              "      <td>7.0</td>\n",
              "    </tr>\n",
              "    <tr>\n",
              "      <th>10003</th>\n",
              "      <td>P-104684</td>\n",
              "      <td>C-5038</td>\n",
              "      <td>Mary Welch</td>\n",
              "      <td>Femenino</td>\n",
              "      <td>36</td>\n",
              "      <td>España</td>\n",
              "      <td>Barcelona</td>\n",
              "      <td>PR-273</td>\n",
              "      <td>Tablet</td>\n",
              "      <td>Electrónica</td>\n",
              "      <td>Tablet</td>\n",
              "      <td>42.67</td>\n",
              "      <td>3</td>\n",
              "      <td>0.17</td>\n",
              "      <td>106.25</td>\n",
              "      <td>2023-07-24 00:00:00</td>\n",
              "      <td>Tarjeta de Crédito</td>\n",
              "      <td>9.0</td>\n",
              "    </tr>\n",
              "    <tr>\n",
              "      <th>10004</th>\n",
              "      <td>P-101731</td>\n",
              "      <td>C-1503</td>\n",
              "      <td>Donna Jackson</td>\n",
              "      <td>Otro</td>\n",
              "      <td>23</td>\n",
              "      <td>España</td>\n",
              "      <td>Barcelona</td>\n",
              "      <td>PR-617</td>\n",
              "      <td>Decoración</td>\n",
              "      <td>Hogar</td>\n",
              "      <td>Decoración</td>\n",
              "      <td>148.55</td>\n",
              "      <td>5</td>\n",
              "      <td>0.05</td>\n",
              "      <td>705.61</td>\n",
              "      <td>2024-06-27 00:00:00</td>\n",
              "      <td>Transferencia Bancaria</td>\n",
              "      <td>1.0</td>\n",
              "    </tr>\n",
              "    <tr>\n",
              "      <th>10005</th>\n",
              "      <td>P-200003</td>\n",
              "      <td>c-7777</td>\n",
              "      <td>juan perez</td>\n",
              "      <td>Masculin</td>\n",
              "      <td>treinta</td>\n",
              "      <td>Brasil</td>\n",
              "      <td>rio de janeiro</td>\n",
              "      <td>pr-888</td>\n",
              "      <td>Tablet</td>\n",
              "      <td>electrónica</td>\n",
              "      <td>tablets</td>\n",
              "      <td>950.00</td>\n",
              "      <td>1</td>\n",
              "      <td>0.10</td>\n",
              "      <td>855.00</td>\n",
              "      <td>2025/06/10</td>\n",
              "      <td>contra reembolso</td>\n",
              "      <td>4.0</td>\n",
              "    </tr>\n",
              "  </tbody>\n",
              "</table>\n",
              "</div>\n",
              "    <div class=\"colab-df-buttons\">\n",
              "\n",
              "  <div class=\"colab-df-container\">\n",
              "    <button class=\"colab-df-convert\" onclick=\"convertToInteractive('df-521cf09b-89d3-421a-b782-6a91fa1df75a')\"\n",
              "            title=\"Convert this dataframe to an interactive table.\"\n",
              "            style=\"display:none;\">\n",
              "\n",
              "  <svg xmlns=\"http://www.w3.org/2000/svg\" height=\"24px\" viewBox=\"0 -960 960 960\">\n",
              "    <path d=\"M120-120v-720h720v720H120Zm60-500h600v-160H180v160Zm220 220h160v-160H400v160Zm0 220h160v-160H400v160ZM180-400h160v-160H180v160Zm440 0h160v-160H620v160ZM180-180h160v-160H180v160Zm440 0h160v-160H620v160Z\"/>\n",
              "  </svg>\n",
              "    </button>\n",
              "\n",
              "  <style>\n",
              "    .colab-df-container {\n",
              "      display:flex;\n",
              "      gap: 12px;\n",
              "    }\n",
              "\n",
              "    .colab-df-convert {\n",
              "      background-color: #E8F0FE;\n",
              "      border: none;\n",
              "      border-radius: 50%;\n",
              "      cursor: pointer;\n",
              "      display: none;\n",
              "      fill: #1967D2;\n",
              "      height: 32px;\n",
              "      padding: 0 0 0 0;\n",
              "      width: 32px;\n",
              "    }\n",
              "\n",
              "    .colab-df-convert:hover {\n",
              "      background-color: #E2EBFA;\n",
              "      box-shadow: 0px 1px 2px rgba(60, 64, 67, 0.3), 0px 1px 3px 1px rgba(60, 64, 67, 0.15);\n",
              "      fill: #174EA6;\n",
              "    }\n",
              "\n",
              "    .colab-df-buttons div {\n",
              "      margin-bottom: 4px;\n",
              "    }\n",
              "\n",
              "    [theme=dark] .colab-df-convert {\n",
              "      background-color: #3B4455;\n",
              "      fill: #D2E3FC;\n",
              "    }\n",
              "\n",
              "    [theme=dark] .colab-df-convert:hover {\n",
              "      background-color: #434B5C;\n",
              "      box-shadow: 0px 1px 3px 1px rgba(0, 0, 0, 0.15);\n",
              "      filter: drop-shadow(0px 1px 2px rgba(0, 0, 0, 0.3));\n",
              "      fill: #FFFFFF;\n",
              "    }\n",
              "  </style>\n",
              "\n",
              "    <script>\n",
              "      const buttonEl =\n",
              "        document.querySelector('#df-521cf09b-89d3-421a-b782-6a91fa1df75a button.colab-df-convert');\n",
              "      buttonEl.style.display =\n",
              "        google.colab.kernel.accessAllowed ? 'block' : 'none';\n",
              "\n",
              "      async function convertToInteractive(key) {\n",
              "        const element = document.querySelector('#df-521cf09b-89d3-421a-b782-6a91fa1df75a');\n",
              "        const dataTable =\n",
              "          await google.colab.kernel.invokeFunction('convertToInteractive',\n",
              "                                                    [key], {});\n",
              "        if (!dataTable) return;\n",
              "\n",
              "        const docLinkHtml = 'Like what you see? Visit the ' +\n",
              "          '<a target=\"_blank\" href=https://colab.research.google.com/notebooks/data_table.ipynb>data table notebook</a>'\n",
              "          + ' to learn more about interactive tables.';\n",
              "        element.innerHTML = '';\n",
              "        dataTable['output_type'] = 'display_data';\n",
              "        await google.colab.output.renderOutput(dataTable, element);\n",
              "        const docLink = document.createElement('div');\n",
              "        docLink.innerHTML = docLinkHtml;\n",
              "        element.appendChild(docLink);\n",
              "      }\n",
              "    </script>\n",
              "  </div>\n",
              "\n",
              "\n",
              "    <div id=\"df-c15171c8-7ece-44e4-a159-e935381404aa\">\n",
              "      <button class=\"colab-df-quickchart\" onclick=\"quickchart('df-c15171c8-7ece-44e4-a159-e935381404aa')\"\n",
              "                title=\"Suggest charts\"\n",
              "                style=\"display:none;\">\n",
              "\n",
              "<svg xmlns=\"http://www.w3.org/2000/svg\" height=\"24px\"viewBox=\"0 0 24 24\"\n",
              "     width=\"24px\">\n",
              "    <g>\n",
              "        <path d=\"M19 3H5c-1.1 0-2 .9-2 2v14c0 1.1.9 2 2 2h14c1.1 0 2-.9 2-2V5c0-1.1-.9-2-2-2zM9 17H7v-7h2v7zm4 0h-2V7h2v10zm4 0h-2v-4h2v4z\"/>\n",
              "    </g>\n",
              "</svg>\n",
              "      </button>\n",
              "\n",
              "<style>\n",
              "  .colab-df-quickchart {\n",
              "      --bg-color: #E8F0FE;\n",
              "      --fill-color: #1967D2;\n",
              "      --hover-bg-color: #E2EBFA;\n",
              "      --hover-fill-color: #174EA6;\n",
              "      --disabled-fill-color: #AAA;\n",
              "      --disabled-bg-color: #DDD;\n",
              "  }\n",
              "\n",
              "  [theme=dark] .colab-df-quickchart {\n",
              "      --bg-color: #3B4455;\n",
              "      --fill-color: #D2E3FC;\n",
              "      --hover-bg-color: #434B5C;\n",
              "      --hover-fill-color: #FFFFFF;\n",
              "      --disabled-bg-color: #3B4455;\n",
              "      --disabled-fill-color: #666;\n",
              "  }\n",
              "\n",
              "  .colab-df-quickchart {\n",
              "    background-color: var(--bg-color);\n",
              "    border: none;\n",
              "    border-radius: 50%;\n",
              "    cursor: pointer;\n",
              "    display: none;\n",
              "    fill: var(--fill-color);\n",
              "    height: 32px;\n",
              "    padding: 0;\n",
              "    width: 32px;\n",
              "  }\n",
              "\n",
              "  .colab-df-quickchart:hover {\n",
              "    background-color: var(--hover-bg-color);\n",
              "    box-shadow: 0 1px 2px rgba(60, 64, 67, 0.3), 0 1px 3px 1px rgba(60, 64, 67, 0.15);\n",
              "    fill: var(--button-hover-fill-color);\n",
              "  }\n",
              "\n",
              "  .colab-df-quickchart-complete:disabled,\n",
              "  .colab-df-quickchart-complete:disabled:hover {\n",
              "    background-color: var(--disabled-bg-color);\n",
              "    fill: var(--disabled-fill-color);\n",
              "    box-shadow: none;\n",
              "  }\n",
              "\n",
              "  .colab-df-spinner {\n",
              "    border: 2px solid var(--fill-color);\n",
              "    border-color: transparent;\n",
              "    border-bottom-color: var(--fill-color);\n",
              "    animation:\n",
              "      spin 1s steps(1) infinite;\n",
              "  }\n",
              "\n",
              "  @keyframes spin {\n",
              "    0% {\n",
              "      border-color: transparent;\n",
              "      border-bottom-color: var(--fill-color);\n",
              "      border-left-color: var(--fill-color);\n",
              "    }\n",
              "    20% {\n",
              "      border-color: transparent;\n",
              "      border-left-color: var(--fill-color);\n",
              "      border-top-color: var(--fill-color);\n",
              "    }\n",
              "    30% {\n",
              "      border-color: transparent;\n",
              "      border-left-color: var(--fill-color);\n",
              "      border-top-color: var(--fill-color);\n",
              "      border-right-color: var(--fill-color);\n",
              "    }\n",
              "    40% {\n",
              "      border-color: transparent;\n",
              "      border-right-color: var(--fill-color);\n",
              "      border-top-color: var(--fill-color);\n",
              "    }\n",
              "    60% {\n",
              "      border-color: transparent;\n",
              "      border-right-color: var(--fill-color);\n",
              "    }\n",
              "    80% {\n",
              "      border-color: transparent;\n",
              "      border-right-color: var(--fill-color);\n",
              "      border-bottom-color: var(--fill-color);\n",
              "    }\n",
              "    90% {\n",
              "      border-color: transparent;\n",
              "      border-bottom-color: var(--fill-color);\n",
              "    }\n",
              "  }\n",
              "</style>\n",
              "\n",
              "      <script>\n",
              "        async function quickchart(key) {\n",
              "          const quickchartButtonEl =\n",
              "            document.querySelector('#' + key + ' button');\n",
              "          quickchartButtonEl.disabled = true;  // To prevent multiple clicks.\n",
              "          quickchartButtonEl.classList.add('colab-df-spinner');\n",
              "          try {\n",
              "            const charts = await google.colab.kernel.invokeFunction(\n",
              "                'suggestCharts', [key], {});\n",
              "          } catch (error) {\n",
              "            console.error('Error during call to suggestCharts:', error);\n",
              "          }\n",
              "          quickchartButtonEl.classList.remove('colab-df-spinner');\n",
              "          quickchartButtonEl.classList.add('colab-df-quickchart-complete');\n",
              "        }\n",
              "        (() => {\n",
              "          let quickchartButtonEl =\n",
              "            document.querySelector('#df-c15171c8-7ece-44e4-a159-e935381404aa button');\n",
              "          quickchartButtonEl.style.display =\n",
              "            google.colab.kernel.accessAllowed ? 'block' : 'none';\n",
              "        })();\n",
              "      </script>\n",
              "    </div>\n",
              "\n",
              "    </div>\n",
              "  </div>\n"
            ],
            "application/vnd.google.colaboratory.intrinsic+json": {
              "type": "dataframe",
              "repr_error": "0"
            }
          },
          "metadata": {},
          "execution_count": 7
        }
      ]
    },
    {
      "cell_type": "code",
      "source": [
        "# Registros (filas) y atributos (columnas) que presenta el dataset\n",
        "\n",
        "df.shape"
      ],
      "metadata": {
        "id": "2HjLZhBtkSAW",
        "colab": {
          "base_uri": "https://localhost:8080/"
        },
        "outputId": "6fab0bcf-9d01-49bc-843b-5300e3e4ebfd"
      },
      "execution_count": null,
      "outputs": [
        {
          "output_type": "execute_result",
          "data": {
            "text/plain": [
              "(10006, 18)"
            ]
          },
          "metadata": {},
          "execution_count": 8
        }
      ]
    },
    {
      "cell_type": "code",
      "source": [
        "# Variables del dataset\n",
        "df.columns"
      ],
      "metadata": {
        "id": "a8KxmhsGkdHL",
        "colab": {
          "base_uri": "https://localhost:8080/"
        },
        "outputId": "db80502b-8996-4d08-f7c3-de84e996050d"
      },
      "execution_count": null,
      "outputs": [
        {
          "output_type": "execute_result",
          "data": {
            "text/plain": [
              "Index(['ID_Pedido', 'ID_Cliente', 'Nombre_Cliente', 'Género', 'Edad', 'País',\n",
              "       'Ciudad', 'ID_Producto', 'Nombre_Producto', 'Categoría', 'Subcategoría',\n",
              "       'Precio_Unitario', 'Cantidad', 'Descuento', 'Precio_Total',\n",
              "       'Fecha_Pedido', 'Método_Pago', 'Días_Envío'],\n",
              "      dtype='object')"
            ]
          },
          "metadata": {},
          "execution_count": 9
        }
      ]
    },
    {
      "cell_type": "code",
      "source": [
        "# Información general de cada variable del dataset\n",
        "df.info()"
      ],
      "metadata": {
        "id": "4RRXYyC7ke7k",
        "colab": {
          "base_uri": "https://localhost:8080/"
        },
        "outputId": "4615867c-2b75-43b2-94b9-4761e2ba1628"
      },
      "execution_count": null,
      "outputs": [
        {
          "output_type": "stream",
          "name": "stdout",
          "text": [
            "<class 'pandas.core.frame.DataFrame'>\n",
            "RangeIndex: 10006 entries, 0 to 10005\n",
            "Data columns (total 18 columns):\n",
            " #   Column           Non-Null Count  Dtype  \n",
            "---  ------           --------------  -----  \n",
            " 0   ID_Pedido        10006 non-null  object \n",
            " 1   ID_Cliente       10005 non-null  object \n",
            " 2   Nombre_Cliente   10005 non-null  object \n",
            " 3   Género           10005 non-null  object \n",
            " 4   Edad             10005 non-null  object \n",
            " 5   País             10006 non-null  object \n",
            " 6   Ciudad           10005 non-null  object \n",
            " 7   ID_Producto      10006 non-null  object \n",
            " 8   Nombre_Producto  10005 non-null  object \n",
            " 9   Categoría        10006 non-null  object \n",
            " 10  Subcategoría     10006 non-null  object \n",
            " 11  Precio_Unitario  10005 non-null  float64\n",
            " 12  Cantidad         10006 non-null  int64  \n",
            " 13  Descuento        10006 non-null  float64\n",
            " 14  Precio_Total     10005 non-null  float64\n",
            " 15  Fecha_Pedido     10005 non-null  object \n",
            " 16  Método_Pago      10005 non-null  object \n",
            " 17  Días_Envío       10005 non-null  float64\n",
            "dtypes: float64(4), int64(1), object(13)\n",
            "memory usage: 1.4+ MB\n"
          ]
        }
      ]
    },
    {
      "cell_type": "markdown",
      "source": [
        "### **Variables**\n",
        "\n",
        "Para comprender mejor los datos es necesario conocer la descripción de cada variable del dataset:\n",
        "\n",
        "- **ID_Pedido**: El número de identificación de cada pedido.\n",
        "\n",
        "- **ID_Cliente**: El número de identificación de cada cliente.\n",
        "\n",
        "- **Nombre_Cliente**: EL nombre completo de cada cliente.\n",
        "\n",
        "- **Género**: El género declarado por el cliente.\n",
        "\n",
        "- **Edad**: La edad del cliente al momento de realizar el pedido.\n",
        "\n",
        "- **País**: El país desde donde se efectuó la compra.\n",
        "\n",
        "- **Ciudad**: La ciudad en la que reside el cliente.\n",
        "\n",
        "- **ID_Producto**: El número de identificación del producto vendido.\n",
        "\n",
        "- **Nombre_Producto**: El nombre del producto vendido.\n",
        "\n",
        "- **Categoría**: La clasificación general del producto.\n",
        "\n",
        "- **Subcategoría**: Una categoría más específica del producto.\n",
        "\n",
        "- **Precio_Unitario**: El precio del producto por unidad antes de aplicar descuentos.\n",
        "\n",
        "- **Cantidad**: El número de unidades vendidas del producto en un mismo pedido.\n",
        "\n",
        "- **Descuento**: El descuento aplicado al pedido.\n",
        "\n",
        "- **Precio_Total**: El monto final pagado por el cliente.\n",
        "\n",
        "- **Fecha_Pedido**: La fecha en la que se realizó la venta.\n",
        "\n",
        "- **Método_Pago**: El medio de pago utilizado por el cliente.\n",
        "\n",
        "- **Días_Envío**: La cantidad de días que transcurrieron entre la venta y la entrega."
      ],
      "metadata": {
        "id": "jkt184zuLFNQ"
      }
    },
    {
      "cell_type": "code",
      "source": [
        "# Exploración de la información\n",
        "df.describe().T"
      ],
      "metadata": {
        "id": "6YlMuh8QlDeU",
        "colab": {
          "base_uri": "https://localhost:8080/",
          "height": 206
        },
        "outputId": "32b8e923-d6ce-4a3a-fb47-96fc60f7470f"
      },
      "execution_count": null,
      "outputs": [
        {
          "output_type": "execute_result",
          "data": {
            "text/plain": [
              "                   count         mean          std    min     25%      50%  \\\n",
              "Precio_Unitario  10005.0   505.524064   285.417597  10.02  258.09   503.14   \n",
              "Cantidad         10006.0     3.004297     1.419463   1.00    2.00     3.00   \n",
              "Descuento        10006.0     0.150357     0.087522   0.00    0.07     0.15   \n",
              "Precio_Total     10005.0  1292.228013  1027.877070   8.20  471.12  1003.61   \n",
              "Días_Envío       10005.0     5.517841     2.855476   1.00    3.00     6.00   \n",
              "\n",
              "                     75%      max  \n",
              "Precio_Unitario   752.71   999.82  \n",
              "Cantidad            4.00     5.00  \n",
              "Descuento           0.23     0.30  \n",
              "Precio_Total     1904.45  4929.66  \n",
              "Días_Envío          8.00    10.00  "
            ],
            "text/html": [
              "\n",
              "  <div id=\"df-0f0ff17e-f063-4ea1-903b-8455d7c8f677\" class=\"colab-df-container\">\n",
              "    <div>\n",
              "<style scoped>\n",
              "    .dataframe tbody tr th:only-of-type {\n",
              "        vertical-align: middle;\n",
              "    }\n",
              "\n",
              "    .dataframe tbody tr th {\n",
              "        vertical-align: top;\n",
              "    }\n",
              "\n",
              "    .dataframe thead th {\n",
              "        text-align: right;\n",
              "    }\n",
              "</style>\n",
              "<table border=\"1\" class=\"dataframe\">\n",
              "  <thead>\n",
              "    <tr style=\"text-align: right;\">\n",
              "      <th></th>\n",
              "      <th>count</th>\n",
              "      <th>mean</th>\n",
              "      <th>std</th>\n",
              "      <th>min</th>\n",
              "      <th>25%</th>\n",
              "      <th>50%</th>\n",
              "      <th>75%</th>\n",
              "      <th>max</th>\n",
              "    </tr>\n",
              "  </thead>\n",
              "  <tbody>\n",
              "    <tr>\n",
              "      <th>Precio_Unitario</th>\n",
              "      <td>10005.0</td>\n",
              "      <td>505.524064</td>\n",
              "      <td>285.417597</td>\n",
              "      <td>10.02</td>\n",
              "      <td>258.09</td>\n",
              "      <td>503.14</td>\n",
              "      <td>752.71</td>\n",
              "      <td>999.82</td>\n",
              "    </tr>\n",
              "    <tr>\n",
              "      <th>Cantidad</th>\n",
              "      <td>10006.0</td>\n",
              "      <td>3.004297</td>\n",
              "      <td>1.419463</td>\n",
              "      <td>1.00</td>\n",
              "      <td>2.00</td>\n",
              "      <td>3.00</td>\n",
              "      <td>4.00</td>\n",
              "      <td>5.00</td>\n",
              "    </tr>\n",
              "    <tr>\n",
              "      <th>Descuento</th>\n",
              "      <td>10006.0</td>\n",
              "      <td>0.150357</td>\n",
              "      <td>0.087522</td>\n",
              "      <td>0.00</td>\n",
              "      <td>0.07</td>\n",
              "      <td>0.15</td>\n",
              "      <td>0.23</td>\n",
              "      <td>0.30</td>\n",
              "    </tr>\n",
              "    <tr>\n",
              "      <th>Precio_Total</th>\n",
              "      <td>10005.0</td>\n",
              "      <td>1292.228013</td>\n",
              "      <td>1027.877070</td>\n",
              "      <td>8.20</td>\n",
              "      <td>471.12</td>\n",
              "      <td>1003.61</td>\n",
              "      <td>1904.45</td>\n",
              "      <td>4929.66</td>\n",
              "    </tr>\n",
              "    <tr>\n",
              "      <th>Días_Envío</th>\n",
              "      <td>10005.0</td>\n",
              "      <td>5.517841</td>\n",
              "      <td>2.855476</td>\n",
              "      <td>1.00</td>\n",
              "      <td>3.00</td>\n",
              "      <td>6.00</td>\n",
              "      <td>8.00</td>\n",
              "      <td>10.00</td>\n",
              "    </tr>\n",
              "  </tbody>\n",
              "</table>\n",
              "</div>\n",
              "    <div class=\"colab-df-buttons\">\n",
              "\n",
              "  <div class=\"colab-df-container\">\n",
              "    <button class=\"colab-df-convert\" onclick=\"convertToInteractive('df-0f0ff17e-f063-4ea1-903b-8455d7c8f677')\"\n",
              "            title=\"Convert this dataframe to an interactive table.\"\n",
              "            style=\"display:none;\">\n",
              "\n",
              "  <svg xmlns=\"http://www.w3.org/2000/svg\" height=\"24px\" viewBox=\"0 -960 960 960\">\n",
              "    <path d=\"M120-120v-720h720v720H120Zm60-500h600v-160H180v160Zm220 220h160v-160H400v160Zm0 220h160v-160H400v160ZM180-400h160v-160H180v160Zm440 0h160v-160H620v160ZM180-180h160v-160H180v160Zm440 0h160v-160H620v160Z\"/>\n",
              "  </svg>\n",
              "    </button>\n",
              "\n",
              "  <style>\n",
              "    .colab-df-container {\n",
              "      display:flex;\n",
              "      gap: 12px;\n",
              "    }\n",
              "\n",
              "    .colab-df-convert {\n",
              "      background-color: #E8F0FE;\n",
              "      border: none;\n",
              "      border-radius: 50%;\n",
              "      cursor: pointer;\n",
              "      display: none;\n",
              "      fill: #1967D2;\n",
              "      height: 32px;\n",
              "      padding: 0 0 0 0;\n",
              "      width: 32px;\n",
              "    }\n",
              "\n",
              "    .colab-df-convert:hover {\n",
              "      background-color: #E2EBFA;\n",
              "      box-shadow: 0px 1px 2px rgba(60, 64, 67, 0.3), 0px 1px 3px 1px rgba(60, 64, 67, 0.15);\n",
              "      fill: #174EA6;\n",
              "    }\n",
              "\n",
              "    .colab-df-buttons div {\n",
              "      margin-bottom: 4px;\n",
              "    }\n",
              "\n",
              "    [theme=dark] .colab-df-convert {\n",
              "      background-color: #3B4455;\n",
              "      fill: #D2E3FC;\n",
              "    }\n",
              "\n",
              "    [theme=dark] .colab-df-convert:hover {\n",
              "      background-color: #434B5C;\n",
              "      box-shadow: 0px 1px 3px 1px rgba(0, 0, 0, 0.15);\n",
              "      filter: drop-shadow(0px 1px 2px rgba(0, 0, 0, 0.3));\n",
              "      fill: #FFFFFF;\n",
              "    }\n",
              "  </style>\n",
              "\n",
              "    <script>\n",
              "      const buttonEl =\n",
              "        document.querySelector('#df-0f0ff17e-f063-4ea1-903b-8455d7c8f677 button.colab-df-convert');\n",
              "      buttonEl.style.display =\n",
              "        google.colab.kernel.accessAllowed ? 'block' : 'none';\n",
              "\n",
              "      async function convertToInteractive(key) {\n",
              "        const element = document.querySelector('#df-0f0ff17e-f063-4ea1-903b-8455d7c8f677');\n",
              "        const dataTable =\n",
              "          await google.colab.kernel.invokeFunction('convertToInteractive',\n",
              "                                                    [key], {});\n",
              "        if (!dataTable) return;\n",
              "\n",
              "        const docLinkHtml = 'Like what you see? Visit the ' +\n",
              "          '<a target=\"_blank\" href=https://colab.research.google.com/notebooks/data_table.ipynb>data table notebook</a>'\n",
              "          + ' to learn more about interactive tables.';\n",
              "        element.innerHTML = '';\n",
              "        dataTable['output_type'] = 'display_data';\n",
              "        await google.colab.output.renderOutput(dataTable, element);\n",
              "        const docLink = document.createElement('div');\n",
              "        docLink.innerHTML = docLinkHtml;\n",
              "        element.appendChild(docLink);\n",
              "      }\n",
              "    </script>\n",
              "  </div>\n",
              "\n",
              "\n",
              "    <div id=\"df-894be7f4-bf1e-4ac9-8815-c4c1154370ff\">\n",
              "      <button class=\"colab-df-quickchart\" onclick=\"quickchart('df-894be7f4-bf1e-4ac9-8815-c4c1154370ff')\"\n",
              "                title=\"Suggest charts\"\n",
              "                style=\"display:none;\">\n",
              "\n",
              "<svg xmlns=\"http://www.w3.org/2000/svg\" height=\"24px\"viewBox=\"0 0 24 24\"\n",
              "     width=\"24px\">\n",
              "    <g>\n",
              "        <path d=\"M19 3H5c-1.1 0-2 .9-2 2v14c0 1.1.9 2 2 2h14c1.1 0 2-.9 2-2V5c0-1.1-.9-2-2-2zM9 17H7v-7h2v7zm4 0h-2V7h2v10zm4 0h-2v-4h2v4z\"/>\n",
              "    </g>\n",
              "</svg>\n",
              "      </button>\n",
              "\n",
              "<style>\n",
              "  .colab-df-quickchart {\n",
              "      --bg-color: #E8F0FE;\n",
              "      --fill-color: #1967D2;\n",
              "      --hover-bg-color: #E2EBFA;\n",
              "      --hover-fill-color: #174EA6;\n",
              "      --disabled-fill-color: #AAA;\n",
              "      --disabled-bg-color: #DDD;\n",
              "  }\n",
              "\n",
              "  [theme=dark] .colab-df-quickchart {\n",
              "      --bg-color: #3B4455;\n",
              "      --fill-color: #D2E3FC;\n",
              "      --hover-bg-color: #434B5C;\n",
              "      --hover-fill-color: #FFFFFF;\n",
              "      --disabled-bg-color: #3B4455;\n",
              "      --disabled-fill-color: #666;\n",
              "  }\n",
              "\n",
              "  .colab-df-quickchart {\n",
              "    background-color: var(--bg-color);\n",
              "    border: none;\n",
              "    border-radius: 50%;\n",
              "    cursor: pointer;\n",
              "    display: none;\n",
              "    fill: var(--fill-color);\n",
              "    height: 32px;\n",
              "    padding: 0;\n",
              "    width: 32px;\n",
              "  }\n",
              "\n",
              "  .colab-df-quickchart:hover {\n",
              "    background-color: var(--hover-bg-color);\n",
              "    box-shadow: 0 1px 2px rgba(60, 64, 67, 0.3), 0 1px 3px 1px rgba(60, 64, 67, 0.15);\n",
              "    fill: var(--button-hover-fill-color);\n",
              "  }\n",
              "\n",
              "  .colab-df-quickchart-complete:disabled,\n",
              "  .colab-df-quickchart-complete:disabled:hover {\n",
              "    background-color: var(--disabled-bg-color);\n",
              "    fill: var(--disabled-fill-color);\n",
              "    box-shadow: none;\n",
              "  }\n",
              "\n",
              "  .colab-df-spinner {\n",
              "    border: 2px solid var(--fill-color);\n",
              "    border-color: transparent;\n",
              "    border-bottom-color: var(--fill-color);\n",
              "    animation:\n",
              "      spin 1s steps(1) infinite;\n",
              "  }\n",
              "\n",
              "  @keyframes spin {\n",
              "    0% {\n",
              "      border-color: transparent;\n",
              "      border-bottom-color: var(--fill-color);\n",
              "      border-left-color: var(--fill-color);\n",
              "    }\n",
              "    20% {\n",
              "      border-color: transparent;\n",
              "      border-left-color: var(--fill-color);\n",
              "      border-top-color: var(--fill-color);\n",
              "    }\n",
              "    30% {\n",
              "      border-color: transparent;\n",
              "      border-left-color: var(--fill-color);\n",
              "      border-top-color: var(--fill-color);\n",
              "      border-right-color: var(--fill-color);\n",
              "    }\n",
              "    40% {\n",
              "      border-color: transparent;\n",
              "      border-right-color: var(--fill-color);\n",
              "      border-top-color: var(--fill-color);\n",
              "    }\n",
              "    60% {\n",
              "      border-color: transparent;\n",
              "      border-right-color: var(--fill-color);\n",
              "    }\n",
              "    80% {\n",
              "      border-color: transparent;\n",
              "      border-right-color: var(--fill-color);\n",
              "      border-bottom-color: var(--fill-color);\n",
              "    }\n",
              "    90% {\n",
              "      border-color: transparent;\n",
              "      border-bottom-color: var(--fill-color);\n",
              "    }\n",
              "  }\n",
              "</style>\n",
              "\n",
              "      <script>\n",
              "        async function quickchart(key) {\n",
              "          const quickchartButtonEl =\n",
              "            document.querySelector('#' + key + ' button');\n",
              "          quickchartButtonEl.disabled = true;  // To prevent multiple clicks.\n",
              "          quickchartButtonEl.classList.add('colab-df-spinner');\n",
              "          try {\n",
              "            const charts = await google.colab.kernel.invokeFunction(\n",
              "                'suggestCharts', [key], {});\n",
              "          } catch (error) {\n",
              "            console.error('Error during call to suggestCharts:', error);\n",
              "          }\n",
              "          quickchartButtonEl.classList.remove('colab-df-spinner');\n",
              "          quickchartButtonEl.classList.add('colab-df-quickchart-complete');\n",
              "        }\n",
              "        (() => {\n",
              "          let quickchartButtonEl =\n",
              "            document.querySelector('#df-894be7f4-bf1e-4ac9-8815-c4c1154370ff button');\n",
              "          quickchartButtonEl.style.display =\n",
              "            google.colab.kernel.accessAllowed ? 'block' : 'none';\n",
              "        })();\n",
              "      </script>\n",
              "    </div>\n",
              "\n",
              "    </div>\n",
              "  </div>\n"
            ],
            "application/vnd.google.colaboratory.intrinsic+json": {
              "type": "dataframe",
              "summary": "{\n  \"name\": \"df\",\n  \"rows\": 5,\n  \"fields\": [\n    {\n      \"column\": \"count\",\n      \"properties\": {\n        \"dtype\": \"number\",\n        \"std\": 0.5477225575051662,\n        \"min\": 10005.0,\n        \"max\": 10006.0,\n        \"num_unique_values\": 2,\n        \"samples\": [\n          10006.0,\n          10005.0\n        ],\n        \"semantic_type\": \"\",\n        \"description\": \"\"\n      }\n    },\n    {\n      \"column\": \"mean\",\n      \"properties\": {\n        \"dtype\": \"number\",\n        \"std\": 564.0951526009624,\n        \"min\": 0.15035678592844295,\n        \"max\": 1292.2280129935032,\n        \"num_unique_values\": 5,\n        \"samples\": [\n          3.0042974215470717,\n          5.51784107946027\n        ],\n        \"semantic_type\": \"\",\n        \"description\": \"\"\n      }\n    },\n    {\n      \"column\": \"std\",\n      \"properties\": {\n        \"dtype\": \"number\",\n        \"std\": 444.62360216100535,\n        \"min\": 0.08752161225159312,\n        \"max\": 1027.8770697016653,\n        \"num_unique_values\": 5,\n        \"samples\": [\n          1.4194626039615648,\n          2.8554763243136922\n        ],\n        \"semantic_type\": \"\",\n        \"description\": \"\"\n      }\n    },\n    {\n      \"column\": \"min\",\n      \"properties\": {\n        \"dtype\": \"number\",\n        \"std\": 4.686969169943408,\n        \"min\": 0.0,\n        \"max\": 10.02,\n        \"num_unique_values\": 4,\n        \"samples\": [\n          1.0,\n          8.2\n        ],\n        \"semantic_type\": \"\",\n        \"description\": \"\"\n      }\n    },\n    {\n      \"column\": \"25%\",\n      \"properties\": {\n        \"dtype\": \"number\",\n        \"std\": 212.57003770522317,\n        \"min\": 0.07,\n        \"max\": 471.12,\n        \"num_unique_values\": 5,\n        \"samples\": [\n          2.0,\n          3.0\n        ],\n        \"semantic_type\": \"\",\n        \"description\": \"\"\n      }\n    },\n    {\n      \"column\": \"50%\",\n      \"properties\": {\n        \"dtype\": \"number\",\n        \"std\": 447.4475813433346,\n        \"min\": 0.15,\n        \"max\": 1003.61,\n        \"num_unique_values\": 5,\n        \"samples\": [\n          3.0,\n          6.0\n        ],\n        \"semantic_type\": \"\",\n        \"description\": \"\"\n      }\n    },\n    {\n      \"column\": \"75%\",\n      \"properties\": {\n        \"dtype\": \"number\",\n        \"std\": 831.9335317620033,\n        \"min\": 0.23,\n        \"max\": 1904.45,\n        \"num_unique_values\": 5,\n        \"samples\": [\n          4.0,\n          8.0\n        ],\n        \"semantic_type\": \"\",\n        \"description\": \"\"\n      }\n    },\n    {\n      \"column\": \"max\",\n      \"properties\": {\n        \"dtype\": \"number\",\n        \"std\": 2135.0193786193136,\n        \"min\": 0.3,\n        \"max\": 4929.66,\n        \"num_unique_values\": 5,\n        \"samples\": [\n          5.0,\n          10.0\n        ],\n        \"semantic_type\": \"\",\n        \"description\": \"\"\n      }\n    }\n  ]\n}"
            }
          },
          "metadata": {},
          "execution_count": 11
        }
      ]
    },
    {
      "cell_type": "code",
      "source": [
        "# Resumen estadístico de columnas categóricas\n",
        "df.describe(include=['object']).T"
      ],
      "metadata": {
        "id": "i5MKLteOmAUo",
        "colab": {
          "base_uri": "https://localhost:8080/",
          "height": 457
        },
        "outputId": "55c73eb6-f107-45a6-9bac-4cc58fcc4afa"
      },
      "execution_count": null,
      "outputs": [
        {
          "output_type": "execute_result",
          "data": {
            "text/plain": [
              "                 count unique                     top  freq\n",
              "ID_Pedido        10006  10003                P-106252     2\n",
              "ID_Cliente       10005   5971                  C-3788     7\n",
              "Nombre_Cliente   10005   9396           Richard Smith     8\n",
              "Género           10005      4               Masculino  3441\n",
              "Edad             10005     54                      27   217\n",
              "País             10006      6                  México  2108\n",
              "Ciudad           10005     16        Ciudad de México   724\n",
              "ID_Producto      10006    903                  PR-529    22\n",
              "Nombre_Producto  10005     13                  Remera   881\n",
              "Categoría        10006      5                    Ropa  2518\n",
              "Subcategoría     10006     13                  Remera   883\n",
              "Fecha_Pedido     10005    733     2024-02-10 00:00:00    28\n",
              "Método_Pago      10005      6  Transferencia Bancaria  2559"
            ],
            "text/html": [
              "\n",
              "  <div id=\"df-f56ff0c5-b4b2-4d1c-834d-9642bc7dddaf\" class=\"colab-df-container\">\n",
              "    <div>\n",
              "<style scoped>\n",
              "    .dataframe tbody tr th:only-of-type {\n",
              "        vertical-align: middle;\n",
              "    }\n",
              "\n",
              "    .dataframe tbody tr th {\n",
              "        vertical-align: top;\n",
              "    }\n",
              "\n",
              "    .dataframe thead th {\n",
              "        text-align: right;\n",
              "    }\n",
              "</style>\n",
              "<table border=\"1\" class=\"dataframe\">\n",
              "  <thead>\n",
              "    <tr style=\"text-align: right;\">\n",
              "      <th></th>\n",
              "      <th>count</th>\n",
              "      <th>unique</th>\n",
              "      <th>top</th>\n",
              "      <th>freq</th>\n",
              "    </tr>\n",
              "  </thead>\n",
              "  <tbody>\n",
              "    <tr>\n",
              "      <th>ID_Pedido</th>\n",
              "      <td>10006</td>\n",
              "      <td>10003</td>\n",
              "      <td>P-106252</td>\n",
              "      <td>2</td>\n",
              "    </tr>\n",
              "    <tr>\n",
              "      <th>ID_Cliente</th>\n",
              "      <td>10005</td>\n",
              "      <td>5971</td>\n",
              "      <td>C-3788</td>\n",
              "      <td>7</td>\n",
              "    </tr>\n",
              "    <tr>\n",
              "      <th>Nombre_Cliente</th>\n",
              "      <td>10005</td>\n",
              "      <td>9396</td>\n",
              "      <td>Richard Smith</td>\n",
              "      <td>8</td>\n",
              "    </tr>\n",
              "    <tr>\n",
              "      <th>Género</th>\n",
              "      <td>10005</td>\n",
              "      <td>4</td>\n",
              "      <td>Masculino</td>\n",
              "      <td>3441</td>\n",
              "    </tr>\n",
              "    <tr>\n",
              "      <th>Edad</th>\n",
              "      <td>10005</td>\n",
              "      <td>54</td>\n",
              "      <td>27</td>\n",
              "      <td>217</td>\n",
              "    </tr>\n",
              "    <tr>\n",
              "      <th>País</th>\n",
              "      <td>10006</td>\n",
              "      <td>6</td>\n",
              "      <td>México</td>\n",
              "      <td>2108</td>\n",
              "    </tr>\n",
              "    <tr>\n",
              "      <th>Ciudad</th>\n",
              "      <td>10005</td>\n",
              "      <td>16</td>\n",
              "      <td>Ciudad de México</td>\n",
              "      <td>724</td>\n",
              "    </tr>\n",
              "    <tr>\n",
              "      <th>ID_Producto</th>\n",
              "      <td>10006</td>\n",
              "      <td>903</td>\n",
              "      <td>PR-529</td>\n",
              "      <td>22</td>\n",
              "    </tr>\n",
              "    <tr>\n",
              "      <th>Nombre_Producto</th>\n",
              "      <td>10005</td>\n",
              "      <td>13</td>\n",
              "      <td>Remera</td>\n",
              "      <td>881</td>\n",
              "    </tr>\n",
              "    <tr>\n",
              "      <th>Categoría</th>\n",
              "      <td>10006</td>\n",
              "      <td>5</td>\n",
              "      <td>Ropa</td>\n",
              "      <td>2518</td>\n",
              "    </tr>\n",
              "    <tr>\n",
              "      <th>Subcategoría</th>\n",
              "      <td>10006</td>\n",
              "      <td>13</td>\n",
              "      <td>Remera</td>\n",
              "      <td>883</td>\n",
              "    </tr>\n",
              "    <tr>\n",
              "      <th>Fecha_Pedido</th>\n",
              "      <td>10005</td>\n",
              "      <td>733</td>\n",
              "      <td>2024-02-10 00:00:00</td>\n",
              "      <td>28</td>\n",
              "    </tr>\n",
              "    <tr>\n",
              "      <th>Método_Pago</th>\n",
              "      <td>10005</td>\n",
              "      <td>6</td>\n",
              "      <td>Transferencia Bancaria</td>\n",
              "      <td>2559</td>\n",
              "    </tr>\n",
              "  </tbody>\n",
              "</table>\n",
              "</div>\n",
              "    <div class=\"colab-df-buttons\">\n",
              "\n",
              "  <div class=\"colab-df-container\">\n",
              "    <button class=\"colab-df-convert\" onclick=\"convertToInteractive('df-f56ff0c5-b4b2-4d1c-834d-9642bc7dddaf')\"\n",
              "            title=\"Convert this dataframe to an interactive table.\"\n",
              "            style=\"display:none;\">\n",
              "\n",
              "  <svg xmlns=\"http://www.w3.org/2000/svg\" height=\"24px\" viewBox=\"0 -960 960 960\">\n",
              "    <path d=\"M120-120v-720h720v720H120Zm60-500h600v-160H180v160Zm220 220h160v-160H400v160Zm0 220h160v-160H400v160ZM180-400h160v-160H180v160Zm440 0h160v-160H620v160ZM180-180h160v-160H180v160Zm440 0h160v-160H620v160Z\"/>\n",
              "  </svg>\n",
              "    </button>\n",
              "\n",
              "  <style>\n",
              "    .colab-df-container {\n",
              "      display:flex;\n",
              "      gap: 12px;\n",
              "    }\n",
              "\n",
              "    .colab-df-convert {\n",
              "      background-color: #E8F0FE;\n",
              "      border: none;\n",
              "      border-radius: 50%;\n",
              "      cursor: pointer;\n",
              "      display: none;\n",
              "      fill: #1967D2;\n",
              "      height: 32px;\n",
              "      padding: 0 0 0 0;\n",
              "      width: 32px;\n",
              "    }\n",
              "\n",
              "    .colab-df-convert:hover {\n",
              "      background-color: #E2EBFA;\n",
              "      box-shadow: 0px 1px 2px rgba(60, 64, 67, 0.3), 0px 1px 3px 1px rgba(60, 64, 67, 0.15);\n",
              "      fill: #174EA6;\n",
              "    }\n",
              "\n",
              "    .colab-df-buttons div {\n",
              "      margin-bottom: 4px;\n",
              "    }\n",
              "\n",
              "    [theme=dark] .colab-df-convert {\n",
              "      background-color: #3B4455;\n",
              "      fill: #D2E3FC;\n",
              "    }\n",
              "\n",
              "    [theme=dark] .colab-df-convert:hover {\n",
              "      background-color: #434B5C;\n",
              "      box-shadow: 0px 1px 3px 1px rgba(0, 0, 0, 0.15);\n",
              "      filter: drop-shadow(0px 1px 2px rgba(0, 0, 0, 0.3));\n",
              "      fill: #FFFFFF;\n",
              "    }\n",
              "  </style>\n",
              "\n",
              "    <script>\n",
              "      const buttonEl =\n",
              "        document.querySelector('#df-f56ff0c5-b4b2-4d1c-834d-9642bc7dddaf button.colab-df-convert');\n",
              "      buttonEl.style.display =\n",
              "        google.colab.kernel.accessAllowed ? 'block' : 'none';\n",
              "\n",
              "      async function convertToInteractive(key) {\n",
              "        const element = document.querySelector('#df-f56ff0c5-b4b2-4d1c-834d-9642bc7dddaf');\n",
              "        const dataTable =\n",
              "          await google.colab.kernel.invokeFunction('convertToInteractive',\n",
              "                                                    [key], {});\n",
              "        if (!dataTable) return;\n",
              "\n",
              "        const docLinkHtml = 'Like what you see? Visit the ' +\n",
              "          '<a target=\"_blank\" href=https://colab.research.google.com/notebooks/data_table.ipynb>data table notebook</a>'\n",
              "          + ' to learn more about interactive tables.';\n",
              "        element.innerHTML = '';\n",
              "        dataTable['output_type'] = 'display_data';\n",
              "        await google.colab.output.renderOutput(dataTable, element);\n",
              "        const docLink = document.createElement('div');\n",
              "        docLink.innerHTML = docLinkHtml;\n",
              "        element.appendChild(docLink);\n",
              "      }\n",
              "    </script>\n",
              "  </div>\n",
              "\n",
              "\n",
              "    <div id=\"df-247fa5e1-fad1-440a-948f-5f75d08f98b8\">\n",
              "      <button class=\"colab-df-quickchart\" onclick=\"quickchart('df-247fa5e1-fad1-440a-948f-5f75d08f98b8')\"\n",
              "                title=\"Suggest charts\"\n",
              "                style=\"display:none;\">\n",
              "\n",
              "<svg xmlns=\"http://www.w3.org/2000/svg\" height=\"24px\"viewBox=\"0 0 24 24\"\n",
              "     width=\"24px\">\n",
              "    <g>\n",
              "        <path d=\"M19 3H5c-1.1 0-2 .9-2 2v14c0 1.1.9 2 2 2h14c1.1 0 2-.9 2-2V5c0-1.1-.9-2-2-2zM9 17H7v-7h2v7zm4 0h-2V7h2v10zm4 0h-2v-4h2v4z\"/>\n",
              "    </g>\n",
              "</svg>\n",
              "      </button>\n",
              "\n",
              "<style>\n",
              "  .colab-df-quickchart {\n",
              "      --bg-color: #E8F0FE;\n",
              "      --fill-color: #1967D2;\n",
              "      --hover-bg-color: #E2EBFA;\n",
              "      --hover-fill-color: #174EA6;\n",
              "      --disabled-fill-color: #AAA;\n",
              "      --disabled-bg-color: #DDD;\n",
              "  }\n",
              "\n",
              "  [theme=dark] .colab-df-quickchart {\n",
              "      --bg-color: #3B4455;\n",
              "      --fill-color: #D2E3FC;\n",
              "      --hover-bg-color: #434B5C;\n",
              "      --hover-fill-color: #FFFFFF;\n",
              "      --disabled-bg-color: #3B4455;\n",
              "      --disabled-fill-color: #666;\n",
              "  }\n",
              "\n",
              "  .colab-df-quickchart {\n",
              "    background-color: var(--bg-color);\n",
              "    border: none;\n",
              "    border-radius: 50%;\n",
              "    cursor: pointer;\n",
              "    display: none;\n",
              "    fill: var(--fill-color);\n",
              "    height: 32px;\n",
              "    padding: 0;\n",
              "    width: 32px;\n",
              "  }\n",
              "\n",
              "  .colab-df-quickchart:hover {\n",
              "    background-color: var(--hover-bg-color);\n",
              "    box-shadow: 0 1px 2px rgba(60, 64, 67, 0.3), 0 1px 3px 1px rgba(60, 64, 67, 0.15);\n",
              "    fill: var(--button-hover-fill-color);\n",
              "  }\n",
              "\n",
              "  .colab-df-quickchart-complete:disabled,\n",
              "  .colab-df-quickchart-complete:disabled:hover {\n",
              "    background-color: var(--disabled-bg-color);\n",
              "    fill: var(--disabled-fill-color);\n",
              "    box-shadow: none;\n",
              "  }\n",
              "\n",
              "  .colab-df-spinner {\n",
              "    border: 2px solid var(--fill-color);\n",
              "    border-color: transparent;\n",
              "    border-bottom-color: var(--fill-color);\n",
              "    animation:\n",
              "      spin 1s steps(1) infinite;\n",
              "  }\n",
              "\n",
              "  @keyframes spin {\n",
              "    0% {\n",
              "      border-color: transparent;\n",
              "      border-bottom-color: var(--fill-color);\n",
              "      border-left-color: var(--fill-color);\n",
              "    }\n",
              "    20% {\n",
              "      border-color: transparent;\n",
              "      border-left-color: var(--fill-color);\n",
              "      border-top-color: var(--fill-color);\n",
              "    }\n",
              "    30% {\n",
              "      border-color: transparent;\n",
              "      border-left-color: var(--fill-color);\n",
              "      border-top-color: var(--fill-color);\n",
              "      border-right-color: var(--fill-color);\n",
              "    }\n",
              "    40% {\n",
              "      border-color: transparent;\n",
              "      border-right-color: var(--fill-color);\n",
              "      border-top-color: var(--fill-color);\n",
              "    }\n",
              "    60% {\n",
              "      border-color: transparent;\n",
              "      border-right-color: var(--fill-color);\n",
              "    }\n",
              "    80% {\n",
              "      border-color: transparent;\n",
              "      border-right-color: var(--fill-color);\n",
              "      border-bottom-color: var(--fill-color);\n",
              "    }\n",
              "    90% {\n",
              "      border-color: transparent;\n",
              "      border-bottom-color: var(--fill-color);\n",
              "    }\n",
              "  }\n",
              "</style>\n",
              "\n",
              "      <script>\n",
              "        async function quickchart(key) {\n",
              "          const quickchartButtonEl =\n",
              "            document.querySelector('#' + key + ' button');\n",
              "          quickchartButtonEl.disabled = true;  // To prevent multiple clicks.\n",
              "          quickchartButtonEl.classList.add('colab-df-spinner');\n",
              "          try {\n",
              "            const charts = await google.colab.kernel.invokeFunction(\n",
              "                'suggestCharts', [key], {});\n",
              "          } catch (error) {\n",
              "            console.error('Error during call to suggestCharts:', error);\n",
              "          }\n",
              "          quickchartButtonEl.classList.remove('colab-df-spinner');\n",
              "          quickchartButtonEl.classList.add('colab-df-quickchart-complete');\n",
              "        }\n",
              "        (() => {\n",
              "          let quickchartButtonEl =\n",
              "            document.querySelector('#df-247fa5e1-fad1-440a-948f-5f75d08f98b8 button');\n",
              "          quickchartButtonEl.style.display =\n",
              "            google.colab.kernel.accessAllowed ? 'block' : 'none';\n",
              "        })();\n",
              "      </script>\n",
              "    </div>\n",
              "\n",
              "    </div>\n",
              "  </div>\n"
            ],
            "application/vnd.google.colaboratory.intrinsic+json": {
              "type": "dataframe",
              "summary": "{\n  \"name\": \"df\",\n  \"rows\": 13,\n  \"fields\": [\n    {\n      \"column\": \"count\",\n      \"properties\": {\n        \"dtype\": \"date\",\n        \"min\": \"10005\",\n        \"max\": \"10006\",\n        \"num_unique_values\": 2,\n        \"samples\": [\n          \"10005\",\n          \"10006\"\n        ],\n        \"semantic_type\": \"\",\n        \"description\": \"\"\n      }\n    },\n    {\n      \"column\": \"unique\",\n      \"properties\": {\n        \"dtype\": \"date\",\n        \"min\": 4,\n        \"max\": 10003,\n        \"num_unique_values\": 11,\n        \"samples\": [\n          6,\n          10003\n        ],\n        \"semantic_type\": \"\",\n        \"description\": \"\"\n      }\n    },\n    {\n      \"column\": \"top\",\n      \"properties\": {\n        \"dtype\": \"string\",\n        \"num_unique_values\": 12,\n        \"samples\": [\n          \"2024-02-10 00:00:00\",\n          \"Ropa\"\n        ],\n        \"semantic_type\": \"\",\n        \"description\": \"\"\n      }\n    },\n    {\n      \"column\": \"freq\",\n      \"properties\": {\n        \"dtype\": \"date\",\n        \"min\": \"2\",\n        \"max\": \"3441\",\n        \"num_unique_values\": 13,\n        \"samples\": [\n          \"28\",\n          \"2518\"\n        ],\n        \"semantic_type\": \"\",\n        \"description\": \"\"\n      }\n    }\n  ]\n}"
            }
          },
          "metadata": {},
          "execution_count": 12
        }
      ]
    },
    {
      "cell_type": "code",
      "source": [
        "# Estadísticas descriptivas de las variables numéricas\n",
        "print(df.describe(include=[np.number]))"
      ],
      "metadata": {
        "id": "nRDUWLOomLOu",
        "colab": {
          "base_uri": "https://localhost:8080/"
        },
        "outputId": "47788ad2-c3a1-4ff4-80df-1ba92ec1ab90"
      },
      "execution_count": null,
      "outputs": [
        {
          "output_type": "stream",
          "name": "stdout",
          "text": [
            "       Precio_Unitario      Cantidad     Descuento  Precio_Total    Días_Envío\n",
            "count     10005.000000  10006.000000  10006.000000  10005.000000  10005.000000\n",
            "mean        505.524064      3.004297      0.150357   1292.228013      5.517841\n",
            "std         285.417597      1.419463      0.087522   1027.877070      2.855476\n",
            "min          10.020000      1.000000      0.000000      8.200000      1.000000\n",
            "25%         258.090000      2.000000      0.070000    471.120000      3.000000\n",
            "50%         503.140000      3.000000      0.150000   1003.610000      6.000000\n",
            "75%         752.710000      4.000000      0.230000   1904.450000      8.000000\n",
            "max         999.820000      5.000000      0.300000   4929.660000     10.000000\n"
          ]
        }
      ]
    },
    {
      "cell_type": "markdown",
      "source": [
        "## **Data Wrangling - Limpieza y transformación de datos**"
      ],
      "metadata": {
        "id": "I1cpnOz7R0c1"
      }
    },
    {
      "cell_type": "code",
      "source": [
        "# Eliminar las columnas ID_Cliente y ID_Producto ya que no aplican para el proyecto\n",
        "columnas_a_eliminar = ['ID_Cliente', 'ID_Producto']\n",
        "df = df.drop(columns=columnas_a_eliminar)\n",
        "# Conversión de ID_Pedido en index\n",
        "df = df.set_index('ID_Pedido')\n",
        "df"
      ],
      "metadata": {
        "id": "gs58tod0q2rU",
        "colab": {
          "base_uri": "https://localhost:8080/",
          "height": 631
        },
        "outputId": "090b419b-9128-4c5e-8c5a-d0695a2578c7"
      },
      "execution_count": null,
      "outputs": [
        {
          "output_type": "execute_result",
          "data": {
            "text/plain": [
              "            Nombre_Cliente     Género     Edad       País          Ciudad  \\\n",
              "ID_Pedido                                                                   \n",
              "P-100000   Samantha Davila       Otro       39     España        Valencia   \n",
              "P-100001       Jacob Burns   Femenino       43     España          Madrid   \n",
              "P-100002    Denise Bullock  Masculino       65     España       Barcelona   \n",
              "P-100003        Erin Jones   Femenino       48   Colombia        Medellín   \n",
              "P-100004        Shawn Reed   Femenino       36     España        Valencia   \n",
              "...                    ...        ...      ...        ...             ...   \n",
              "P-200002                          NaN       28      Chile        Santiago   \n",
              "P-106252      Carmen Jones   Femenino       42  Argentina    Buenos Aires   \n",
              "P-104684        Mary Welch   Femenino       36     España       Barcelona   \n",
              "P-101731     Donna Jackson       Otro       23     España       Barcelona   \n",
              "P-200003       juan perez    Masculin  treinta     Brasil  rio de janeiro   \n",
              "\n",
              "          Nombre_Producto    Categoría Subcategoría  Precio_Unitario  \\\n",
              "ID_Pedido                                                              \n",
              "P-100000            Jeans         Ropa        Jeans           785.26   \n",
              "P-100001          Muebles        Hogar      Muebles           376.62   \n",
              "P-100002          Ficción       Libros      Ficción            94.64   \n",
              "P-100003           Tablet  Electrónica       Tablet           966.04   \n",
              "P-100004           Cómics       Libros       Cómics           722.05   \n",
              "...                   ...          ...          ...              ...   \n",
              "P-200002              NaN         Ropa       Remera              NaN   \n",
              "P-106252            Jeans         Ropa        Jeans           326.28   \n",
              "P-104684           Tablet  Electrónica       Tablet            42.67   \n",
              "P-101731       Decoración        Hogar   Decoración           148.55   \n",
              "P-200003           Tablet  electrónica      tablets           950.00   \n",
              "\n",
              "           Cantidad  Descuento  Precio_Total         Fecha_Pedido  \\\n",
              "ID_Pedido                                                           \n",
              "P-100000          2       0.09       1429.17  2025-03-04 00:00:00   \n",
              "P-100001          1       0.13        327.66  2024-03-03 00:00:00   \n",
              "P-100002          5       0.06        444.81  2023-10-14 00:00:00   \n",
              "P-100003          1       0.27        705.21  2024-11-02 00:00:00   \n",
              "P-100004          3       0.22       1689.60  2024-01-20 00:00:00   \n",
              "...             ...        ...           ...                  ...   \n",
              "P-200002          3       0.15        892.25                  NaN   \n",
              "P-106252          5       0.28       1174.61  2024-03-11 00:00:00   \n",
              "P-104684          3       0.17        106.25  2023-07-24 00:00:00   \n",
              "P-101731          5       0.05        705.61  2024-06-27 00:00:00   \n",
              "P-200003          1       0.10        855.00           2025/06/10   \n",
              "\n",
              "                      Método_Pago  Días_Envío  \n",
              "ID_Pedido                                      \n",
              "P-100000         Contra Reembolso         8.0  \n",
              "P-100001       Tarjeta de Crédito        10.0  \n",
              "P-100002   Transferencia Bancaria         2.0  \n",
              "P-100003         Contra Reembolso        10.0  \n",
              "P-100004   Transferencia Bancaria         6.0  \n",
              "...                           ...         ...  \n",
              "P-200002                      NaN         NaN  \n",
              "P-106252   Transferencia Bancaria         7.0  \n",
              "P-104684       Tarjeta de Crédito         9.0  \n",
              "P-101731   Transferencia Bancaria         1.0  \n",
              "P-200003         contra reembolso         4.0  \n",
              "\n",
              "[10006 rows x 15 columns]"
            ],
            "text/html": [
              "\n",
              "  <div id=\"df-e87c9239-6ef9-46b4-b98b-1895f851aae6\" class=\"colab-df-container\">\n",
              "    <div>\n",
              "<style scoped>\n",
              "    .dataframe tbody tr th:only-of-type {\n",
              "        vertical-align: middle;\n",
              "    }\n",
              "\n",
              "    .dataframe tbody tr th {\n",
              "        vertical-align: top;\n",
              "    }\n",
              "\n",
              "    .dataframe thead th {\n",
              "        text-align: right;\n",
              "    }\n",
              "</style>\n",
              "<table border=\"1\" class=\"dataframe\">\n",
              "  <thead>\n",
              "    <tr style=\"text-align: right;\">\n",
              "      <th></th>\n",
              "      <th>Nombre_Cliente</th>\n",
              "      <th>Género</th>\n",
              "      <th>Edad</th>\n",
              "      <th>País</th>\n",
              "      <th>Ciudad</th>\n",
              "      <th>Nombre_Producto</th>\n",
              "      <th>Categoría</th>\n",
              "      <th>Subcategoría</th>\n",
              "      <th>Precio_Unitario</th>\n",
              "      <th>Cantidad</th>\n",
              "      <th>Descuento</th>\n",
              "      <th>Precio_Total</th>\n",
              "      <th>Fecha_Pedido</th>\n",
              "      <th>Método_Pago</th>\n",
              "      <th>Días_Envío</th>\n",
              "    </tr>\n",
              "    <tr>\n",
              "      <th>ID_Pedido</th>\n",
              "      <th></th>\n",
              "      <th></th>\n",
              "      <th></th>\n",
              "      <th></th>\n",
              "      <th></th>\n",
              "      <th></th>\n",
              "      <th></th>\n",
              "      <th></th>\n",
              "      <th></th>\n",
              "      <th></th>\n",
              "      <th></th>\n",
              "      <th></th>\n",
              "      <th></th>\n",
              "      <th></th>\n",
              "      <th></th>\n",
              "    </tr>\n",
              "  </thead>\n",
              "  <tbody>\n",
              "    <tr>\n",
              "      <th>P-100000</th>\n",
              "      <td>Samantha Davila</td>\n",
              "      <td>Otro</td>\n",
              "      <td>39</td>\n",
              "      <td>España</td>\n",
              "      <td>Valencia</td>\n",
              "      <td>Jeans</td>\n",
              "      <td>Ropa</td>\n",
              "      <td>Jeans</td>\n",
              "      <td>785.26</td>\n",
              "      <td>2</td>\n",
              "      <td>0.09</td>\n",
              "      <td>1429.17</td>\n",
              "      <td>2025-03-04 00:00:00</td>\n",
              "      <td>Contra Reembolso</td>\n",
              "      <td>8.0</td>\n",
              "    </tr>\n",
              "    <tr>\n",
              "      <th>P-100001</th>\n",
              "      <td>Jacob Burns</td>\n",
              "      <td>Femenino</td>\n",
              "      <td>43</td>\n",
              "      <td>España</td>\n",
              "      <td>Madrid</td>\n",
              "      <td>Muebles</td>\n",
              "      <td>Hogar</td>\n",
              "      <td>Muebles</td>\n",
              "      <td>376.62</td>\n",
              "      <td>1</td>\n",
              "      <td>0.13</td>\n",
              "      <td>327.66</td>\n",
              "      <td>2024-03-03 00:00:00</td>\n",
              "      <td>Tarjeta de Crédito</td>\n",
              "      <td>10.0</td>\n",
              "    </tr>\n",
              "    <tr>\n",
              "      <th>P-100002</th>\n",
              "      <td>Denise Bullock</td>\n",
              "      <td>Masculino</td>\n",
              "      <td>65</td>\n",
              "      <td>España</td>\n",
              "      <td>Barcelona</td>\n",
              "      <td>Ficción</td>\n",
              "      <td>Libros</td>\n",
              "      <td>Ficción</td>\n",
              "      <td>94.64</td>\n",
              "      <td>5</td>\n",
              "      <td>0.06</td>\n",
              "      <td>444.81</td>\n",
              "      <td>2023-10-14 00:00:00</td>\n",
              "      <td>Transferencia Bancaria</td>\n",
              "      <td>2.0</td>\n",
              "    </tr>\n",
              "    <tr>\n",
              "      <th>P-100003</th>\n",
              "      <td>Erin Jones</td>\n",
              "      <td>Femenino</td>\n",
              "      <td>48</td>\n",
              "      <td>Colombia</td>\n",
              "      <td>Medellín</td>\n",
              "      <td>Tablet</td>\n",
              "      <td>Electrónica</td>\n",
              "      <td>Tablet</td>\n",
              "      <td>966.04</td>\n",
              "      <td>1</td>\n",
              "      <td>0.27</td>\n",
              "      <td>705.21</td>\n",
              "      <td>2024-11-02 00:00:00</td>\n",
              "      <td>Contra Reembolso</td>\n",
              "      <td>10.0</td>\n",
              "    </tr>\n",
              "    <tr>\n",
              "      <th>P-100004</th>\n",
              "      <td>Shawn Reed</td>\n",
              "      <td>Femenino</td>\n",
              "      <td>36</td>\n",
              "      <td>España</td>\n",
              "      <td>Valencia</td>\n",
              "      <td>Cómics</td>\n",
              "      <td>Libros</td>\n",
              "      <td>Cómics</td>\n",
              "      <td>722.05</td>\n",
              "      <td>3</td>\n",
              "      <td>0.22</td>\n",
              "      <td>1689.60</td>\n",
              "      <td>2024-01-20 00:00:00</td>\n",
              "      <td>Transferencia Bancaria</td>\n",
              "      <td>6.0</td>\n",
              "    </tr>\n",
              "    <tr>\n",
              "      <th>...</th>\n",
              "      <td>...</td>\n",
              "      <td>...</td>\n",
              "      <td>...</td>\n",
              "      <td>...</td>\n",
              "      <td>...</td>\n",
              "      <td>...</td>\n",
              "      <td>...</td>\n",
              "      <td>...</td>\n",
              "      <td>...</td>\n",
              "      <td>...</td>\n",
              "      <td>...</td>\n",
              "      <td>...</td>\n",
              "      <td>...</td>\n",
              "      <td>...</td>\n",
              "      <td>...</td>\n",
              "    </tr>\n",
              "    <tr>\n",
              "      <th>P-200002</th>\n",
              "      <td></td>\n",
              "      <td>NaN</td>\n",
              "      <td>28</td>\n",
              "      <td>Chile</td>\n",
              "      <td>Santiago</td>\n",
              "      <td>NaN</td>\n",
              "      <td>Ropa</td>\n",
              "      <td>Remera</td>\n",
              "      <td>NaN</td>\n",
              "      <td>3</td>\n",
              "      <td>0.15</td>\n",
              "      <td>892.25</td>\n",
              "      <td>NaN</td>\n",
              "      <td>NaN</td>\n",
              "      <td>NaN</td>\n",
              "    </tr>\n",
              "    <tr>\n",
              "      <th>P-106252</th>\n",
              "      <td>Carmen Jones</td>\n",
              "      <td>Femenino</td>\n",
              "      <td>42</td>\n",
              "      <td>Argentina</td>\n",
              "      <td>Buenos Aires</td>\n",
              "      <td>Jeans</td>\n",
              "      <td>Ropa</td>\n",
              "      <td>Jeans</td>\n",
              "      <td>326.28</td>\n",
              "      <td>5</td>\n",
              "      <td>0.28</td>\n",
              "      <td>1174.61</td>\n",
              "      <td>2024-03-11 00:00:00</td>\n",
              "      <td>Transferencia Bancaria</td>\n",
              "      <td>7.0</td>\n",
              "    </tr>\n",
              "    <tr>\n",
              "      <th>P-104684</th>\n",
              "      <td>Mary Welch</td>\n",
              "      <td>Femenino</td>\n",
              "      <td>36</td>\n",
              "      <td>España</td>\n",
              "      <td>Barcelona</td>\n",
              "      <td>Tablet</td>\n",
              "      <td>Electrónica</td>\n",
              "      <td>Tablet</td>\n",
              "      <td>42.67</td>\n",
              "      <td>3</td>\n",
              "      <td>0.17</td>\n",
              "      <td>106.25</td>\n",
              "      <td>2023-07-24 00:00:00</td>\n",
              "      <td>Tarjeta de Crédito</td>\n",
              "      <td>9.0</td>\n",
              "    </tr>\n",
              "    <tr>\n",
              "      <th>P-101731</th>\n",
              "      <td>Donna Jackson</td>\n",
              "      <td>Otro</td>\n",
              "      <td>23</td>\n",
              "      <td>España</td>\n",
              "      <td>Barcelona</td>\n",
              "      <td>Decoración</td>\n",
              "      <td>Hogar</td>\n",
              "      <td>Decoración</td>\n",
              "      <td>148.55</td>\n",
              "      <td>5</td>\n",
              "      <td>0.05</td>\n",
              "      <td>705.61</td>\n",
              "      <td>2024-06-27 00:00:00</td>\n",
              "      <td>Transferencia Bancaria</td>\n",
              "      <td>1.0</td>\n",
              "    </tr>\n",
              "    <tr>\n",
              "      <th>P-200003</th>\n",
              "      <td>juan perez</td>\n",
              "      <td>Masculin</td>\n",
              "      <td>treinta</td>\n",
              "      <td>Brasil</td>\n",
              "      <td>rio de janeiro</td>\n",
              "      <td>Tablet</td>\n",
              "      <td>electrónica</td>\n",
              "      <td>tablets</td>\n",
              "      <td>950.00</td>\n",
              "      <td>1</td>\n",
              "      <td>0.10</td>\n",
              "      <td>855.00</td>\n",
              "      <td>2025/06/10</td>\n",
              "      <td>contra reembolso</td>\n",
              "      <td>4.0</td>\n",
              "    </tr>\n",
              "  </tbody>\n",
              "</table>\n",
              "<p>10006 rows × 15 columns</p>\n",
              "</div>\n",
              "    <div class=\"colab-df-buttons\">\n",
              "\n",
              "  <div class=\"colab-df-container\">\n",
              "    <button class=\"colab-df-convert\" onclick=\"convertToInteractive('df-e87c9239-6ef9-46b4-b98b-1895f851aae6')\"\n",
              "            title=\"Convert this dataframe to an interactive table.\"\n",
              "            style=\"display:none;\">\n",
              "\n",
              "  <svg xmlns=\"http://www.w3.org/2000/svg\" height=\"24px\" viewBox=\"0 -960 960 960\">\n",
              "    <path d=\"M120-120v-720h720v720H120Zm60-500h600v-160H180v160Zm220 220h160v-160H400v160Zm0 220h160v-160H400v160ZM180-400h160v-160H180v160Zm440 0h160v-160H620v160ZM180-180h160v-160H180v160Zm440 0h160v-160H620v160Z\"/>\n",
              "  </svg>\n",
              "    </button>\n",
              "\n",
              "  <style>\n",
              "    .colab-df-container {\n",
              "      display:flex;\n",
              "      gap: 12px;\n",
              "    }\n",
              "\n",
              "    .colab-df-convert {\n",
              "      background-color: #E8F0FE;\n",
              "      border: none;\n",
              "      border-radius: 50%;\n",
              "      cursor: pointer;\n",
              "      display: none;\n",
              "      fill: #1967D2;\n",
              "      height: 32px;\n",
              "      padding: 0 0 0 0;\n",
              "      width: 32px;\n",
              "    }\n",
              "\n",
              "    .colab-df-convert:hover {\n",
              "      background-color: #E2EBFA;\n",
              "      box-shadow: 0px 1px 2px rgba(60, 64, 67, 0.3), 0px 1px 3px 1px rgba(60, 64, 67, 0.15);\n",
              "      fill: #174EA6;\n",
              "    }\n",
              "\n",
              "    .colab-df-buttons div {\n",
              "      margin-bottom: 4px;\n",
              "    }\n",
              "\n",
              "    [theme=dark] .colab-df-convert {\n",
              "      background-color: #3B4455;\n",
              "      fill: #D2E3FC;\n",
              "    }\n",
              "\n",
              "    [theme=dark] .colab-df-convert:hover {\n",
              "      background-color: #434B5C;\n",
              "      box-shadow: 0px 1px 3px 1px rgba(0, 0, 0, 0.15);\n",
              "      filter: drop-shadow(0px 1px 2px rgba(0, 0, 0, 0.3));\n",
              "      fill: #FFFFFF;\n",
              "    }\n",
              "  </style>\n",
              "\n",
              "    <script>\n",
              "      const buttonEl =\n",
              "        document.querySelector('#df-e87c9239-6ef9-46b4-b98b-1895f851aae6 button.colab-df-convert');\n",
              "      buttonEl.style.display =\n",
              "        google.colab.kernel.accessAllowed ? 'block' : 'none';\n",
              "\n",
              "      async function convertToInteractive(key) {\n",
              "        const element = document.querySelector('#df-e87c9239-6ef9-46b4-b98b-1895f851aae6');\n",
              "        const dataTable =\n",
              "          await google.colab.kernel.invokeFunction('convertToInteractive',\n",
              "                                                    [key], {});\n",
              "        if (!dataTable) return;\n",
              "\n",
              "        const docLinkHtml = 'Like what you see? Visit the ' +\n",
              "          '<a target=\"_blank\" href=https://colab.research.google.com/notebooks/data_table.ipynb>data table notebook</a>'\n",
              "          + ' to learn more about interactive tables.';\n",
              "        element.innerHTML = '';\n",
              "        dataTable['output_type'] = 'display_data';\n",
              "        await google.colab.output.renderOutput(dataTable, element);\n",
              "        const docLink = document.createElement('div');\n",
              "        docLink.innerHTML = docLinkHtml;\n",
              "        element.appendChild(docLink);\n",
              "      }\n",
              "    </script>\n",
              "  </div>\n",
              "\n",
              "\n",
              "    <div id=\"df-0322be2b-63c5-487f-8bcb-c4f81442ca0f\">\n",
              "      <button class=\"colab-df-quickchart\" onclick=\"quickchart('df-0322be2b-63c5-487f-8bcb-c4f81442ca0f')\"\n",
              "                title=\"Suggest charts\"\n",
              "                style=\"display:none;\">\n",
              "\n",
              "<svg xmlns=\"http://www.w3.org/2000/svg\" height=\"24px\"viewBox=\"0 0 24 24\"\n",
              "     width=\"24px\">\n",
              "    <g>\n",
              "        <path d=\"M19 3H5c-1.1 0-2 .9-2 2v14c0 1.1.9 2 2 2h14c1.1 0 2-.9 2-2V5c0-1.1-.9-2-2-2zM9 17H7v-7h2v7zm4 0h-2V7h2v10zm4 0h-2v-4h2v4z\"/>\n",
              "    </g>\n",
              "</svg>\n",
              "      </button>\n",
              "\n",
              "<style>\n",
              "  .colab-df-quickchart {\n",
              "      --bg-color: #E8F0FE;\n",
              "      --fill-color: #1967D2;\n",
              "      --hover-bg-color: #E2EBFA;\n",
              "      --hover-fill-color: #174EA6;\n",
              "      --disabled-fill-color: #AAA;\n",
              "      --disabled-bg-color: #DDD;\n",
              "  }\n",
              "\n",
              "  [theme=dark] .colab-df-quickchart {\n",
              "      --bg-color: #3B4455;\n",
              "      --fill-color: #D2E3FC;\n",
              "      --hover-bg-color: #434B5C;\n",
              "      --hover-fill-color: #FFFFFF;\n",
              "      --disabled-bg-color: #3B4455;\n",
              "      --disabled-fill-color: #666;\n",
              "  }\n",
              "\n",
              "  .colab-df-quickchart {\n",
              "    background-color: var(--bg-color);\n",
              "    border: none;\n",
              "    border-radius: 50%;\n",
              "    cursor: pointer;\n",
              "    display: none;\n",
              "    fill: var(--fill-color);\n",
              "    height: 32px;\n",
              "    padding: 0;\n",
              "    width: 32px;\n",
              "  }\n",
              "\n",
              "  .colab-df-quickchart:hover {\n",
              "    background-color: var(--hover-bg-color);\n",
              "    box-shadow: 0 1px 2px rgba(60, 64, 67, 0.3), 0 1px 3px 1px rgba(60, 64, 67, 0.15);\n",
              "    fill: var(--button-hover-fill-color);\n",
              "  }\n",
              "\n",
              "  .colab-df-quickchart-complete:disabled,\n",
              "  .colab-df-quickchart-complete:disabled:hover {\n",
              "    background-color: var(--disabled-bg-color);\n",
              "    fill: var(--disabled-fill-color);\n",
              "    box-shadow: none;\n",
              "  }\n",
              "\n",
              "  .colab-df-spinner {\n",
              "    border: 2px solid var(--fill-color);\n",
              "    border-color: transparent;\n",
              "    border-bottom-color: var(--fill-color);\n",
              "    animation:\n",
              "      spin 1s steps(1) infinite;\n",
              "  }\n",
              "\n",
              "  @keyframes spin {\n",
              "    0% {\n",
              "      border-color: transparent;\n",
              "      border-bottom-color: var(--fill-color);\n",
              "      border-left-color: var(--fill-color);\n",
              "    }\n",
              "    20% {\n",
              "      border-color: transparent;\n",
              "      border-left-color: var(--fill-color);\n",
              "      border-top-color: var(--fill-color);\n",
              "    }\n",
              "    30% {\n",
              "      border-color: transparent;\n",
              "      border-left-color: var(--fill-color);\n",
              "      border-top-color: var(--fill-color);\n",
              "      border-right-color: var(--fill-color);\n",
              "    }\n",
              "    40% {\n",
              "      border-color: transparent;\n",
              "      border-right-color: var(--fill-color);\n",
              "      border-top-color: var(--fill-color);\n",
              "    }\n",
              "    60% {\n",
              "      border-color: transparent;\n",
              "      border-right-color: var(--fill-color);\n",
              "    }\n",
              "    80% {\n",
              "      border-color: transparent;\n",
              "      border-right-color: var(--fill-color);\n",
              "      border-bottom-color: var(--fill-color);\n",
              "    }\n",
              "    90% {\n",
              "      border-color: transparent;\n",
              "      border-bottom-color: var(--fill-color);\n",
              "    }\n",
              "  }\n",
              "</style>\n",
              "\n",
              "      <script>\n",
              "        async function quickchart(key) {\n",
              "          const quickchartButtonEl =\n",
              "            document.querySelector('#' + key + ' button');\n",
              "          quickchartButtonEl.disabled = true;  // To prevent multiple clicks.\n",
              "          quickchartButtonEl.classList.add('colab-df-spinner');\n",
              "          try {\n",
              "            const charts = await google.colab.kernel.invokeFunction(\n",
              "                'suggestCharts', [key], {});\n",
              "          } catch (error) {\n",
              "            console.error('Error during call to suggestCharts:', error);\n",
              "          }\n",
              "          quickchartButtonEl.classList.remove('colab-df-spinner');\n",
              "          quickchartButtonEl.classList.add('colab-df-quickchart-complete');\n",
              "        }\n",
              "        (() => {\n",
              "          let quickchartButtonEl =\n",
              "            document.querySelector('#df-0322be2b-63c5-487f-8bcb-c4f81442ca0f button');\n",
              "          quickchartButtonEl.style.display =\n",
              "            google.colab.kernel.accessAllowed ? 'block' : 'none';\n",
              "        })();\n",
              "      </script>\n",
              "    </div>\n",
              "\n",
              "  <div id=\"id_84fce962-1c16-4892-8451-291ed5430e91\">\n",
              "    <style>\n",
              "      .colab-df-generate {\n",
              "        background-color: #E8F0FE;\n",
              "        border: none;\n",
              "        border-radius: 50%;\n",
              "        cursor: pointer;\n",
              "        display: none;\n",
              "        fill: #1967D2;\n",
              "        height: 32px;\n",
              "        padding: 0 0 0 0;\n",
              "        width: 32px;\n",
              "      }\n",
              "\n",
              "      .colab-df-generate:hover {\n",
              "        background-color: #E2EBFA;\n",
              "        box-shadow: 0px 1px 2px rgba(60, 64, 67, 0.3), 0px 1px 3px 1px rgba(60, 64, 67, 0.15);\n",
              "        fill: #174EA6;\n",
              "      }\n",
              "\n",
              "      [theme=dark] .colab-df-generate {\n",
              "        background-color: #3B4455;\n",
              "        fill: #D2E3FC;\n",
              "      }\n",
              "\n",
              "      [theme=dark] .colab-df-generate:hover {\n",
              "        background-color: #434B5C;\n",
              "        box-shadow: 0px 1px 3px 1px rgba(0, 0, 0, 0.15);\n",
              "        filter: drop-shadow(0px 1px 2px rgba(0, 0, 0, 0.3));\n",
              "        fill: #FFFFFF;\n",
              "      }\n",
              "    </style>\n",
              "    <button class=\"colab-df-generate\" onclick=\"generateWithVariable('df')\"\n",
              "            title=\"Generate code using this dataframe.\"\n",
              "            style=\"display:none;\">\n",
              "\n",
              "  <svg xmlns=\"http://www.w3.org/2000/svg\" height=\"24px\"viewBox=\"0 0 24 24\"\n",
              "       width=\"24px\">\n",
              "    <path d=\"M7,19H8.4L18.45,9,17,7.55,7,17.6ZM5,21V16.75L18.45,3.32a2,2,0,0,1,2.83,0l1.4,1.43a1.91,1.91,0,0,1,.58,1.4,1.91,1.91,0,0,1-.58,1.4L9.25,21ZM18.45,9,17,7.55Zm-12,3A5.31,5.31,0,0,0,4.9,8.1,5.31,5.31,0,0,0,1,6.5,5.31,5.31,0,0,0,4.9,4.9,5.31,5.31,0,0,0,6.5,1,5.31,5.31,0,0,0,8.1,4.9,5.31,5.31,0,0,0,12,6.5,5.46,5.46,0,0,0,6.5,12Z\"/>\n",
              "  </svg>\n",
              "    </button>\n",
              "    <script>\n",
              "      (() => {\n",
              "      const buttonEl =\n",
              "        document.querySelector('#id_84fce962-1c16-4892-8451-291ed5430e91 button.colab-df-generate');\n",
              "      buttonEl.style.display =\n",
              "        google.colab.kernel.accessAllowed ? 'block' : 'none';\n",
              "\n",
              "      buttonEl.onclick = () => {\n",
              "        google.colab.notebook.generateWithVariable('df');\n",
              "      }\n",
              "      })();\n",
              "    </script>\n",
              "  </div>\n",
              "\n",
              "    </div>\n",
              "  </div>\n"
            ],
            "application/vnd.google.colaboratory.intrinsic+json": {
              "type": "dataframe",
              "variable_name": "df",
              "summary": "{\n  \"name\": \"df\",\n  \"rows\": 10006,\n  \"fields\": [\n    {\n      \"column\": \"ID_Pedido\",\n      \"properties\": {\n        \"dtype\": \"string\",\n        \"num_unique_values\": 10003,\n        \"samples\": [\n          \"P-106883\",\n          \"P-105836\",\n          \"P-108601\"\n        ],\n        \"semantic_type\": \"\",\n        \"description\": \"\"\n      }\n    },\n    {\n      \"column\": \"Nombre_Cliente\",\n      \"properties\": {\n        \"dtype\": \"string\",\n        \"num_unique_values\": 9396,\n        \"samples\": [\n          \"Larry Long\",\n          \"Regina Wolf\",\n          \"Julia Henderson\"\n        ],\n        \"semantic_type\": \"\",\n        \"description\": \"\"\n      }\n    },\n    {\n      \"column\": \"G\\u00e9nero\",\n      \"properties\": {\n        \"dtype\": \"category\",\n        \"num_unique_values\": 4,\n        \"samples\": [\n          \"Femenino\",\n          \"Masculin\",\n          \"Otro\"\n        ],\n        \"semantic_type\": \"\",\n        \"description\": \"\"\n      }\n    },\n    {\n      \"column\": \"Edad\",\n      \"properties\": {\n        \"dtype\": \"category\",\n        \"num_unique_values\": 54,\n        \"samples\": [\n          44,\n          67,\n          22\n        ],\n        \"semantic_type\": \"\",\n        \"description\": \"\"\n      }\n    },\n    {\n      \"column\": \"Pa\\u00eds\",\n      \"properties\": {\n        \"dtype\": \"category\",\n        \"num_unique_values\": 6,\n        \"samples\": [\n          \"Espa\\u00f1a\",\n          \"Colombia\",\n          \"Brasil\"\n        ],\n        \"semantic_type\": \"\",\n        \"description\": \"\"\n      }\n    },\n    {\n      \"column\": \"Ciudad\",\n      \"properties\": {\n        \"dtype\": \"category\",\n        \"num_unique_values\": 16,\n        \"samples\": [\n          \"Valencia\",\n          \"Madrid\",\n          \"Santiago\"\n        ],\n        \"semantic_type\": \"\",\n        \"description\": \"\"\n      }\n    },\n    {\n      \"column\": \"Nombre_Producto\",\n      \"properties\": {\n        \"dtype\": \"category\",\n        \"num_unique_values\": 13,\n        \"samples\": [\n          \"No Ficci\\u00f3n\",\n          \"Remera\",\n          \"Jeans\"\n        ],\n        \"semantic_type\": \"\",\n        \"description\": \"\"\n      }\n    },\n    {\n      \"column\": \"Categor\\u00eda\",\n      \"properties\": {\n        \"dtype\": \"category\",\n        \"num_unique_values\": 5,\n        \"samples\": [\n          \"Hogar\",\n          \"electr\\u00f3nica\",\n          \"Libros\"\n        ],\n        \"semantic_type\": \"\",\n        \"description\": \"\"\n      }\n    },\n    {\n      \"column\": \"Subcategor\\u00eda\",\n      \"properties\": {\n        \"dtype\": \"category\",\n        \"num_unique_values\": 13,\n        \"samples\": [\n          \"No Ficci\\u00f3n\",\n          \"Remera\",\n          \"Jeans\"\n        ],\n        \"semantic_type\": \"\",\n        \"description\": \"\"\n      }\n    },\n    {\n      \"column\": \"Precio_Unitario\",\n      \"properties\": {\n        \"dtype\": \"number\",\n        \"std\": 285.4175973209628,\n        \"min\": 10.02,\n        \"max\": 999.82,\n        \"num_unique_values\": 9500,\n        \"samples\": [\n          393.03,\n          933.97,\n          931.49\n        ],\n        \"semantic_type\": \"\",\n        \"description\": \"\"\n      }\n    },\n    {\n      \"column\": \"Cantidad\",\n      \"properties\": {\n        \"dtype\": \"number\",\n        \"std\": 1,\n        \"min\": 1,\n        \"max\": 5,\n        \"num_unique_values\": 5,\n        \"samples\": [\n          1,\n          4,\n          5\n        ],\n        \"semantic_type\": \"\",\n        \"description\": \"\"\n      }\n    },\n    {\n      \"column\": \"Descuento\",\n      \"properties\": {\n        \"dtype\": \"number\",\n        \"std\": 0.08752161225159312,\n        \"min\": 0.0,\n        \"max\": 0.3,\n        \"num_unique_values\": 31,\n        \"samples\": [\n          0.02,\n          0.26,\n          0.2\n        ],\n        \"semantic_type\": \"\",\n        \"description\": \"\"\n      }\n    },\n    {\n      \"column\": \"Precio_Total\",\n      \"properties\": {\n        \"dtype\": \"number\",\n        \"std\": 1027.8770697016653,\n        \"min\": 8.2,\n        \"max\": 4929.66,\n        \"num_unique_values\": 9858,\n        \"samples\": [\n          1773.75,\n          1738.49,\n          579.87\n        ],\n        \"semantic_type\": \"\",\n        \"description\": \"\"\n      }\n    },\n    {\n      \"column\": \"Fecha_Pedido\",\n      \"properties\": {\n        \"dtype\": \"date\",\n        \"min\": \"2023-05-29 00:00:00\",\n        \"max\": \"2025-06-10 00:00:00\",\n        \"num_unique_values\": 733,\n        \"samples\": [\n          \"2024-12-31 00:00:00\",\n          \"2023-06-01 00:00:00\",\n          \"2025-03-01 00:00:00\"\n        ],\n        \"semantic_type\": \"\",\n        \"description\": \"\"\n      }\n    },\n    {\n      \"column\": \"M\\u00e9todo_Pago\",\n      \"properties\": {\n        \"dtype\": \"category\",\n        \"num_unique_values\": 6,\n        \"samples\": [\n          \"Contra Reembolso\",\n          \"Tarjeta de Cr\\u00e9dito\",\n          \"contra reembolso\"\n        ],\n        \"semantic_type\": \"\",\n        \"description\": \"\"\n      }\n    },\n    {\n      \"column\": \"D\\u00edas_Env\\u00edo\",\n      \"properties\": {\n        \"dtype\": \"number\",\n        \"std\": 2.8554763243136922,\n        \"min\": 1.0,\n        \"max\": 10.0,\n        \"num_unique_values\": 10,\n        \"samples\": [\n          3.0,\n          10.0,\n          4.0\n        ],\n        \"semantic_type\": \"\",\n        \"description\": \"\"\n      }\n    }\n  ]\n}"
            }
          },
          "metadata": {},
          "execution_count": 14
        }
      ]
    },
    {
      "cell_type": "markdown",
      "source": [
        "### Valores Duplicados"
      ],
      "metadata": {
        "id": "Qva2Fi6EvQgw"
      }
    },
    {
      "cell_type": "code",
      "source": [
        "# Identificar valores duplicados\n",
        "duplicados = df.duplicated()\n",
        "print (f\"duplicados encontrados: {duplicados.sum()}\")"
      ],
      "metadata": {
        "id": "XunKESCfjlFN",
        "colab": {
          "base_uri": "https://localhost:8080/"
        },
        "outputId": "698c29e8-f10b-45ca-955f-995af484a0d3"
      },
      "execution_count": null,
      "outputs": [
        {
          "output_type": "stream",
          "name": "stdout",
          "text": [
            "duplicados encontrados: 3\n"
          ]
        }
      ]
    },
    {
      "cell_type": "code",
      "source": [
        "# Eliminar duplicados y filas vacías\n",
        "df = df.drop_duplicates()\n",
        "df = df.dropna(how='all')"
      ],
      "metadata": {
        "id": "caajKgqojANb"
      },
      "execution_count": null,
      "outputs": []
    },
    {
      "cell_type": "code",
      "source": [
        "# Verificar que no quedaron valores duplicados\n",
        "duplicados = df.duplicated()\n",
        "print (f\"duplicados encontrados: {duplicados.sum()}\")"
      ],
      "metadata": {
        "id": "Mr3dgtVZrDKK",
        "colab": {
          "base_uri": "https://localhost:8080/"
        },
        "outputId": "c9c790d2-d8df-4e0f-be4e-769175420901"
      },
      "execution_count": null,
      "outputs": [
        {
          "output_type": "stream",
          "name": "stdout",
          "text": [
            "duplicados encontrados: 0\n"
          ]
        }
      ]
    },
    {
      "cell_type": "markdown",
      "source": [
        "### Valores nulos"
      ],
      "metadata": {
        "id": "1UIo01OXvYTD"
      }
    },
    {
      "cell_type": "code",
      "source": [
        "# Calcular nulos\n",
        "nulos = df.isnull().sum()\n",
        "nulos = nulos[nulos > 0].sort_values(ascending=False)\n",
        "\n",
        "# Gráficar\n",
        "plt.figure(figsize=(9, 5))\n",
        "ax = sns.barplot(x=nulos.values, y=nulos.index, palette=\"Blues_d\")\n",
        "\n",
        "# Mostrar los valores al final de cada barra\n",
        "for i, v in enumerate(nulos.values):\n",
        "    ax.text(v + 0.5, i, str(v), color='black', va='center', fontsize=9)\n",
        "\n",
        "plt.title(\"📉 Cantidad de valores nulos por columna\", fontsize=13)\n",
        "plt.xlabel(\"Total de nulos\")\n",
        "plt.ylabel(\"Columnas\")\n",
        "plt.grid(axis='x', linestyle='--', alpha=0.6)\n",
        "plt.tight_layout()\n",
        "plt.show()"
      ],
      "metadata": {
        "id": "yuyN6NGMq1-H",
        "colab": {
          "base_uri": "https://localhost:8080/",
          "height": 507
        },
        "outputId": "f2c4eb89-e8bf-4fa9-9231-68802d291e90"
      },
      "execution_count": null,
      "outputs": [
        {
          "output_type": "display_data",
          "data": {
            "text/plain": [
              "<Figure size 900x500 with 1 Axes>"
            ],
            "image/png": "[encoded data removed]"
          },
          "metadata": {}
        }
      ]
    },
    {
      "cell_type": "markdown",
      "source": [
        "Se decidió que las variables **categóricas** se van a reemplazar los nulos por la **moda** y las **cuantitativas** por la **media**"
      ],
      "metadata": {
        "id": "hgYS4-yylV3A"
      }
    },
    {
      "cell_type": "code",
      "source": [
        "# Lista de columnas a imputar con la moda\n",
        "columnas_moda = ['Nombre_Cliente', 'Género', 'Ciudad', 'Nombre_Producto', 'Método_Pago']\n",
        "\n",
        "for col in columnas_moda:\n",
        "    moda = df[col].mode()[0]\n",
        "    df[col] = df[col].fillna(moda)"
      ],
      "metadata": {
        "id": "DmL-2sTMk20r"
      },
      "execution_count": null,
      "outputs": []
    },
    {
      "cell_type": "code",
      "source": [
        "# Definir columnas a imputar\n",
        "columnas_media = ['Edad', 'Precio_Unitario', 'Precio_Total', 'Días_Envío']\n",
        "\n",
        "# Convertir a numérico y reemplazar nulos por la media\n",
        "for col in columnas_media:\n",
        "    df[col] = pd.to_numeric(df[col], errors='coerce')\n",
        "    df[col] = df[col].fillna(df[col].mean())"
      ],
      "metadata": {
        "id": "M85L8XEPncmP"
      },
      "execution_count": null,
      "outputs": []
    },
    {
      "cell_type": "code",
      "source": [
        "# Se convierte la 'Fecha' en formato datetime:\n",
        "df['Fecha_Pedido'] = pd.to_datetime(df['Fecha_Pedido'], errors='coerce')\n",
        "# Se calcula la \"media\" (fecha promedio) de la columna Fecha (ignora nulos)\n",
        "fecha_media = df['Fecha_Pedido'].mean()\n",
        "\n",
        "# Reemplazar nulos por esa fecha promedio\n",
        "df['Fecha_Pedido'] = df['Fecha_Pedido'].fillna(fecha_media)"
      ],
      "metadata": {
        "id": "NUZigVr-pzwS"
      },
      "execution_count": null,
      "outputs": []
    },
    {
      "cell_type": "code",
      "source": [
        "# Se verifica que no quedaron valores nulos\n",
        "print(df.isnull().sum())"
      ],
      "metadata": {
        "id": "nlTZVEZxnp5c",
        "colab": {
          "base_uri": "https://localhost:8080/"
        },
        "outputId": "fa1ff25d-4075-45e6-9f64-7a35bc1f12f0"
      },
      "execution_count": null,
      "outputs": [
        {
          "output_type": "stream",
          "name": "stdout",
          "text": [
            "Nombre_Cliente     0\n",
            "Género             0\n",
            "Edad               0\n",
            "País               0\n",
            "Ciudad             0\n",
            "Nombre_Producto    0\n",
            "Categoría          0\n",
            "Subcategoría       0\n",
            "Precio_Unitario    0\n",
            "Cantidad           0\n",
            "Descuento          0\n",
            "Precio_Total       0\n",
            "Fecha_Pedido       0\n",
            "Método_Pago        0\n",
            "Días_Envío         0\n",
            "dtype: int64\n"
          ]
        }
      ]
    },
    {
      "cell_type": "markdown",
      "source": [
        "### Otras transformaciones"
      ],
      "metadata": {
        "id": "ABwRtOugvugS"
      }
    },
    {
      "cell_type": "code",
      "source": [
        "# Se analiza si no hay errores en las columnas categóricas\n",
        "columnas_categoricas = ['Nombre_Cliente', 'Género', 'País', 'Ciudad', 'Nombre_Producto', 'Categoría', 'Subcategoría', 'Método_Pago']\n",
        "\n",
        "for col in columnas_categoricas:\n",
        "    print(f\"\\n--- Valores únicos en '{col}' ({len(df[col].unique())} únicos) ---\")\n",
        "    print(df[col].value_counts(dropna=False))"
      ],
      "metadata": {
        "id": "4I1xQb77r4Pd",
        "colab": {
          "base_uri": "https://localhost:8080/"
        },
        "outputId": "61fd1324-a28f-4c20-8197-b44cff6c709d"
      },
      "execution_count": null,
      "outputs": [
        {
          "output_type": "stream",
          "name": "stdout",
          "text": [
            "\n",
            "--- Valores únicos en 'Nombre_Cliente' (9396 únicos) ---\n",
            "Nombre_Cliente\n",
            "Richard Smith       9\n",
            "Jennifer Johnson    5\n",
            "Lisa Smith          5\n",
            "Michael Johnson     5\n",
            "Mary Jones          4\n",
            "                   ..\n",
            "Tyler Conley        1\n",
            "Michael Burton      1\n",
            "Mary Stone          1\n",
            "Stephen Anderson    1\n",
            "Kim Thompson        1\n",
            "Name: count, Length: 9396, dtype: int64\n",
            "\n",
            "--- Valores únicos en 'Género' (4 únicos) ---\n",
            "Género\n",
            "Masculino    3442\n",
            "Otro         3336\n",
            "Femenino     3224\n",
            "Masculin        1\n",
            "Name: count, dtype: int64\n",
            "\n",
            "--- Valores únicos en 'País' (6 únicos) ---\n",
            "País\n",
            "México       2108\n",
            "Argentina    2000\n",
            "España       1990\n",
            "Colombia     1953\n",
            "Chile        1951\n",
            "Brasil          1\n",
            "Name: count, dtype: int64\n",
            "\n",
            "--- Valores únicos en 'Ciudad' (16 únicos) ---\n",
            "Ciudad\n",
            "Ciudad de México    725\n",
            "Guadalajara         711\n",
            "Rosario             692\n",
            "Monterrey           673\n",
            "Barcelona           672\n",
            "Medellín            669\n",
            "Valencia            667\n",
            "Bogotá              664\n",
            "Buenos Aires        662\n",
            "Santiago            658\n",
            "Valparaíso          651\n",
            "Madrid              651\n",
            "Córdoba             645\n",
            "Concepción          642\n",
            "Cali                620\n",
            "rio de janeiro        1\n",
            "Name: count, dtype: int64\n",
            "\n",
            "--- Valores únicos en 'Nombre_Producto' (13 únicos) ---\n",
            "Nombre_Producto\n",
            "Remera        882\n",
            "Muebles       870\n",
            "Cómics        857\n",
            "Teléfono      845\n",
            "Tablet        835\n",
            "Portátil      829\n",
            "Jeans         829\n",
            "Decoración    818\n",
            "Cocina        812\n",
            "Ficción       810\n",
            "No Ficción    810\n",
            "Campera       805\n",
            "Camiseta        1\n",
            "Name: count, dtype: int64\n",
            "\n",
            "--- Valores únicos en 'Categoría' (5 únicos) ---\n",
            "Categoría\n",
            "Ropa           2517\n",
            "Electrónica    2508\n",
            "Hogar          2500\n",
            "Libros         2477\n",
            "electrónica       1\n",
            "Name: count, dtype: int64\n",
            "\n",
            "--- Valores únicos en 'Subcategoría' (13 únicos) ---\n",
            "Subcategoría\n",
            "Remera        883\n",
            "Muebles       870\n",
            "Cómics        857\n",
            "Teléfono      845\n",
            "Tablet        834\n",
            "Portátil      829\n",
            "Jeans         829\n",
            "Decoración    818\n",
            "Cocina        812\n",
            "Ficción       810\n",
            "No Ficción    810\n",
            "Campera       805\n",
            "tablets         1\n",
            "Name: count, dtype: int64\n",
            "\n",
            "--- Valores únicos en 'Método_Pago' (6 únicos) ---\n",
            "Método_Pago\n",
            "Transferencia Bancaria    2558\n",
            "Tarjeta de Crédito        2542\n",
            "PayPal                    2488\n",
            "Contra Reembolso          2413\n",
            "Tarjeta de Débito            1\n",
            "contra reembolso             1\n",
            "Name: count, dtype: int64\n"
          ]
        }
      ]
    },
    {
      "cell_type": "code",
      "source": [
        "# Reemplaza 'otro' en la columna Género por el valor más común (moda)\n",
        "moda_genero = df['Género'].mode()[0]\n",
        "df['Género'] = df['Género'].replace('otro', moda_genero)"
      ],
      "metadata": {
        "id": "gsDi5yQ6ulre"
      },
      "execution_count": null,
      "outputs": []
    },
    {
      "cell_type": "code",
      "source": [
        "# Diccionarios con correcciones para cada columna problemática\n",
        "\n",
        "correcciones_genero = {\n",
        "    'msculin': 'Masculino',\n",
        "    'masculino?': 'Masculino',\n",
        "    'Masculino': 'Masculino',\n",
        "    'Femenino': 'Femenino'\n",
        "}\n",
        "\n",
        "correcciones_nombre_producto = {\n",
        "    'Camiseta': 'Remera'\n",
        "}\n",
        "\n",
        "correcciones_categoria = {\n",
        "    'electrónica': 'Electrónica'\n",
        "}\n",
        "\n",
        "correcciones_subcategoria = {\n",
        "    'tablets': 'Tablet'\n",
        "}\n",
        "\n",
        "correcciones_metodo_pago = {\n",
        "    'contra reembolso': 'Contra Reembolso'\n",
        "}\n",
        "\n",
        "# Aplicar reemplazos en el DataFrame\n",
        "\n",
        "df['Género'] = df['Género'].str.strip().replace(correcciones_genero)\n",
        "df['Nombre_Producto'] = df['Nombre_Producto'].str.strip().replace(correcciones_nombre_producto)\n",
        "df['Categoría'] = df['Categoría'].str.strip().replace(correcciones_categoria)\n",
        "df['Subcategoría'] = df['Subcategoría'].str.strip().replace(correcciones_subcategoria)\n",
        "df['Método_Pago'] = df['Método_Pago'].str.strip().replace(correcciones_metodo_pago)\n"
      ],
      "metadata": {
        "id": "xteaNFIMuXpU"
      },
      "execution_count": null,
      "outputs": []
    },
    {
      "cell_type": "code",
      "source": [
        "# Verificar si está todo correcto\n",
        "columnas_categoricas = ['Nombre_Cliente', 'Género', 'País', 'Ciudad', 'Nombre_Producto', 'Categoría', 'Subcategoría', 'Método_Pago']\n",
        "\n",
        "for col in columnas_categoricas:\n",
        "    print(f\"\\n--- Valores únicos en '{col}' ({len(df[col].unique())} únicos) ---\")\n",
        "    print(df[col].value_counts(dropna=False))"
      ],
      "metadata": {
        "id": "IfO0cyNwvPil",
        "colab": {
          "base_uri": "https://localhost:8080/"
        },
        "outputId": "79b8ebb5-0c6f-493d-f220-5718b82c9065"
      },
      "execution_count": null,
      "outputs": [
        {
          "output_type": "stream",
          "name": "stdout",
          "text": [
            "\n",
            "--- Valores únicos en 'Nombre_Cliente' (9396 únicos) ---\n",
            "Nombre_Cliente\n",
            "Richard Smith       9\n",
            "Jennifer Johnson    5\n",
            "Lisa Smith          5\n",
            "Michael Johnson     5\n",
            "Mary Jones          4\n",
            "                   ..\n",
            "Tyler Conley        1\n",
            "Michael Burton      1\n",
            "Mary Stone          1\n",
            "Stephen Anderson    1\n",
            "Kim Thompson        1\n",
            "Name: count, Length: 9396, dtype: int64\n",
            "\n",
            "--- Valores únicos en 'Género' (4 únicos) ---\n",
            "Género\n",
            "Masculino    3442\n",
            "Otro         3336\n",
            "Femenino     3224\n",
            "Masculin        1\n",
            "Name: count, dtype: int64\n",
            "\n",
            "--- Valores únicos en 'País' (6 únicos) ---\n",
            "País\n",
            "México       2108\n",
            "Argentina    2000\n",
            "España       1990\n",
            "Colombia     1953\n",
            "Chile        1951\n",
            "Brasil          1\n",
            "Name: count, dtype: int64\n",
            "\n",
            "--- Valores únicos en 'Ciudad' (16 únicos) ---\n",
            "Ciudad\n",
            "Ciudad de México    725\n",
            "Guadalajara         711\n",
            "Rosario             692\n",
            "Monterrey           673\n",
            "Barcelona           672\n",
            "Medellín            669\n",
            "Valencia            667\n",
            "Bogotá              664\n",
            "Buenos Aires        662\n",
            "Santiago            658\n",
            "Valparaíso          651\n",
            "Madrid              651\n",
            "Córdoba             645\n",
            "Concepción          642\n",
            "Cali                620\n",
            "rio de janeiro        1\n",
            "Name: count, dtype: int64\n",
            "\n",
            "--- Valores únicos en 'Nombre_Producto' (12 únicos) ---\n",
            "Nombre_Producto\n",
            "Remera        883\n",
            "Muebles       870\n",
            "Cómics        857\n",
            "Teléfono      845\n",
            "Tablet        835\n",
            "Jeans         829\n",
            "Portátil      829\n",
            "Decoración    818\n",
            "Cocina        812\n",
            "Ficción       810\n",
            "No Ficción    810\n",
            "Campera       805\n",
            "Name: count, dtype: int64\n",
            "\n",
            "--- Valores únicos en 'Categoría' (4 únicos) ---\n",
            "Categoría\n",
            "Ropa           2517\n",
            "Electrónica    2509\n",
            "Hogar          2500\n",
            "Libros         2477\n",
            "Name: count, dtype: int64\n",
            "\n",
            "--- Valores únicos en 'Subcategoría' (12 únicos) ---\n",
            "Subcategoría\n",
            "Remera        883\n",
            "Muebles       870\n",
            "Cómics        857\n",
            "Teléfono      845\n",
            "Tablet        835\n",
            "Jeans         829\n",
            "Portátil      829\n",
            "Decoración    818\n",
            "Cocina        812\n",
            "Ficción       810\n",
            "No Ficción    810\n",
            "Campera       805\n",
            "Name: count, dtype: int64\n",
            "\n",
            "--- Valores únicos en 'Método_Pago' (5 únicos) ---\n",
            "Método_Pago\n",
            "Transferencia Bancaria    2558\n",
            "Tarjeta de Crédito        2542\n",
            "PayPal                    2488\n",
            "Contra Reembolso          2414\n",
            "Tarjeta de Débito            1\n",
            "Name: count, dtype: int64\n"
          ]
        }
      ]
    },
    {
      "cell_type": "code",
      "source": [
        "# Se dividen la columna de fecha en año, mes, dia, hora, minutos y segundos\n",
        "df['Año'] = df['Fecha_Pedido'].dt.year\n",
        "df['Mes'] = df['Fecha_Pedido'].dt.month\n",
        "df['Día'] = df['Fecha_Pedido'].dt.day\n",
        "df['Hora'] = df['Fecha_Pedido'].dt.hour\n",
        "df['Minuto'] = df['Fecha_Pedido'].dt.minute\n",
        "df['Segundo'] = df['Fecha_Pedido'].dt.second\n",
        "# Se muestran las primeras 5 filas para verificar que está todo correcto\n",
        "df[['Fecha_Pedido', 'Año', 'Mes', 'Día', 'Hora', 'Minuto', 'Segundo']].head()"
      ],
      "metadata": {
        "id": "J8LdPiOmwfjR",
        "colab": {
          "base_uri": "https://localhost:8080/",
          "height": 238
        },
        "outputId": "70221523-64c3-4b62-b480-064e1153645e"
      },
      "execution_count": null,
      "outputs": [
        {
          "output_type": "execute_result",
          "data": {
            "text/plain": [
              "          Fecha_Pedido   Año  Mes  Día  Hora  Minuto  Segundo\n",
              "ID_Pedido                                                    \n",
              "P-100000    2025-03-04  2025    3    4     0       0        0\n",
              "P-100001    2024-03-03  2024    3    3     0       0        0\n",
              "P-100002    2023-10-14  2023   10   14     0       0        0\n",
              "P-100003    2024-11-02  2024   11    2     0       0        0\n",
              "P-100004    2024-01-20  2024    1   20     0       0        0"
            ],
            "text/html": [
              "\n",
              "  <div id=\"df-56b60cd0-6d9e-495d-9d45-4ced70750675\" class=\"colab-df-container\">\n",
              "    <div>\n",
              "<style scoped>\n",
              "    .dataframe tbody tr th:only-of-type {\n",
              "        vertical-align: middle;\n",
              "    }\n",
              "\n",
              "    .dataframe tbody tr th {\n",
              "        vertical-align: top;\n",
              "    }\n",
              "\n",
              "    .dataframe thead th {\n",
              "        text-align: right;\n",
              "    }\n",
              "</style>\n",
              "<table border=\"1\" class=\"dataframe\">\n",
              "  <thead>\n",
              "    <tr style=\"text-align: right;\">\n",
              "      <th></th>\n",
              "      <th>Fecha_Pedido</th>\n",
              "      <th>Año</th>\n",
              "      <th>Mes</th>\n",
              "      <th>Día</th>\n",
              "      <th>Hora</th>\n",
              "      <th>Minuto</th>\n",
              "      <th>Segundo</th>\n",
              "    </tr>\n",
              "    <tr>\n",
              "      <th>ID_Pedido</th>\n",
              "      <th></th>\n",
              "      <th></th>\n",
              "      <th></th>\n",
              "      <th></th>\n",
              "      <th></th>\n",
              "      <th></th>\n",
              "      <th></th>\n",
              "    </tr>\n",
              "  </thead>\n",
              "  <tbody>\n",
              "    <tr>\n",
              "      <th>P-100000</th>\n",
              "      <td>2025-03-04</td>\n",
              "      <td>2025</td>\n",
              "      <td>3</td>\n",
              "      <td>4</td>\n",
              "      <td>0</td>\n",
              "      <td>0</td>\n",
              "      <td>0</td>\n",
              "    </tr>\n",
              "    <tr>\n",
              "      <th>P-100001</th>\n",
              "      <td>2024-03-03</td>\n",
              "      <td>2024</td>\n",
              "      <td>3</td>\n",
              "      <td>3</td>\n",
              "      <td>0</td>\n",
              "      <td>0</td>\n",
              "      <td>0</td>\n",
              "    </tr>\n",
              "    <tr>\n",
              "      <th>P-100002</th>\n",
              "      <td>2023-10-14</td>\n",
              "      <td>2023</td>\n",
              "      <td>10</td>\n",
              "      <td>14</td>\n",
              "      <td>0</td>\n",
              "      <td>0</td>\n",
              "      <td>0</td>\n",
              "    </tr>\n",
              "    <tr>\n",
              "      <th>P-100003</th>\n",
              "      <td>2024-11-02</td>\n",
              "      <td>2024</td>\n",
              "      <td>11</td>\n",
              "      <td>2</td>\n",
              "      <td>0</td>\n",
              "      <td>0</td>\n",
              "      <td>0</td>\n",
              "    </tr>\n",
              "    <tr>\n",
              "      <th>P-100004</th>\n",
              "      <td>2024-01-20</td>\n",
              "      <td>2024</td>\n",
              "      <td>1</td>\n",
              "      <td>20</td>\n",
              "      <td>0</td>\n",
              "      <td>0</td>\n",
              "      <td>0</td>\n",
              "    </tr>\n",
              "  </tbody>\n",
              "</table>\n",
              "</div>\n",
              "    <div class=\"colab-df-buttons\">\n",
              "\n",
              "  <div class=\"colab-df-container\">\n",
              "    <button class=\"colab-df-convert\" onclick=\"convertToInteractive('df-56b60cd0-6d9e-495d-9d45-4ced70750675')\"\n",
              "            title=\"Convert this dataframe to an interactive table.\"\n",
              "            style=\"display:none;\">\n",
              "\n",
              "  <svg xmlns=\"http://www.w3.org/2000/svg\" height=\"24px\" viewBox=\"0 -960 960 960\">\n",
              "    <path d=\"M120-120v-720h720v720H120Zm60-500h600v-160H180v160Zm220 220h160v-160H400v160Zm0 220h160v-160H400v160ZM180-400h160v-160H180v160Zm440 0h160v-160H620v160ZM180-180h160v-160H180v160Zm440 0h160v-160H620v160Z\"/>\n",
              "  </svg>\n",
              "    </button>\n",
              "\n",
              "  <style>\n",
              "    .colab-df-container {\n",
              "      display:flex;\n",
              "      gap: 12px;\n",
              "    }\n",
              "\n",
              "    .colab-df-convert {\n",
              "      background-color: #E8F0FE;\n",
              "      border: none;\n",
              "      border-radius: 50%;\n",
              "      cursor: pointer;\n",
              "      display: none;\n",
              "      fill: #1967D2;\n",
              "      height: 32px;\n",
              "      padding: 0 0 0 0;\n",
              "      width: 32px;\n",
              "    }\n",
              "\n",
              "    .colab-df-convert:hover {\n",
              "      background-color: #E2EBFA;\n",
              "      box-shadow: 0px 1px 2px rgba(60, 64, 67, 0.3), 0px 1px 3px 1px rgba(60, 64, 67, 0.15);\n",
              "      fill: #174EA6;\n",
              "    }\n",
              "\n",
              "    .colab-df-buttons div {\n",
              "      margin-bottom: 4px;\n",
              "    }\n",
              "\n",
              "    [theme=dark] .colab-df-convert {\n",
              "      background-color: #3B4455;\n",
              "      fill: #D2E3FC;\n",
              "    }\n",
              "\n",
              "    [theme=dark] .colab-df-convert:hover {\n",
              "      background-color: #434B5C;\n",
              "      box-shadow: 0px 1px 3px 1px rgba(0, 0, 0, 0.15);\n",
              "      filter: drop-shadow(0px 1px 2px rgba(0, 0, 0, 0.3));\n",
              "      fill: #FFFFFF;\n",
              "    }\n",
              "  </style>\n",
              "\n",
              "    <script>\n",
              "      const buttonEl =\n",
              "        document.querySelector('#df-56b60cd0-6d9e-495d-9d45-4ced70750675 button.colab-df-convert');\n",
              "      buttonEl.style.display =\n",
              "        google.colab.kernel.accessAllowed ? 'block' : 'none';\n",
              "\n",
              "      async function convertToInteractive(key) {\n",
              "        const element = document.querySelector('#df-56b60cd0-6d9e-495d-9d45-4ced70750675');\n",
              "        const dataTable =\n",
              "          await google.colab.kernel.invokeFunction('convertToInteractive',\n",
              "                                                    [key], {});\n",
              "        if (!dataTable) return;\n",
              "\n",
              "        const docLinkHtml = 'Like what you see? Visit the ' +\n",
              "          '<a target=\"_blank\" href=https://colab.research.google.com/notebooks/data_table.ipynb>data table notebook</a>'\n",
              "          + ' to learn more about interactive tables.';\n",
              "        element.innerHTML = '';\n",
              "        dataTable['output_type'] = 'display_data';\n",
              "        await google.colab.output.renderOutput(dataTable, element);\n",
              "        const docLink = document.createElement('div');\n",
              "        docLink.innerHTML = docLinkHtml;\n",
              "        element.appendChild(docLink);\n",
              "      }\n",
              "    </script>\n",
              "  </div>\n",
              "\n",
              "\n",
              "    <div id=\"df-e5baaf16-054a-40f7-b863-b6f7c07e065d\">\n",
              "      <button class=\"colab-df-quickchart\" onclick=\"quickchart('df-e5baaf16-054a-40f7-b863-b6f7c07e065d')\"\n",
              "                title=\"Suggest charts\"\n",
              "                style=\"display:none;\">\n",
              "\n",
              "<svg xmlns=\"http://www.w3.org/2000/svg\" height=\"24px\"viewBox=\"0 0 24 24\"\n",
              "     width=\"24px\">\n",
              "    <g>\n",
              "        <path d=\"M19 3H5c-1.1 0-2 .9-2 2v14c0 1.1.9 2 2 2h14c1.1 0 2-.9 2-2V5c0-1.1-.9-2-2-2zM9 17H7v-7h2v7zm4 0h-2V7h2v10zm4 0h-2v-4h2v4z\"/>\n",
              "    </g>\n",
              "</svg>\n",
              "      </button>\n",
              "\n",
              "<style>\n",
              "  .colab-df-quickchart {\n",
              "      --bg-color: #E8F0FE;\n",
              "      --fill-color: #1967D2;\n",
              "      --hover-bg-color: #E2EBFA;\n",
              "      --hover-fill-color: #174EA6;\n",
              "      --disabled-fill-color: #AAA;\n",
              "      --disabled-bg-color: #DDD;\n",
              "  }\n",
              "\n",
              "  [theme=dark] .colab-df-quickchart {\n",
              "      --bg-color: #3B4455;\n",
              "      --fill-color: #D2E3FC;\n",
              "      --hover-bg-color: #434B5C;\n",
              "      --hover-fill-color: #FFFFFF;\n",
              "      --disabled-bg-color: #3B4455;\n",
              "      --disabled-fill-color: #666;\n",
              "  }\n",
              "\n",
              "  .colab-df-quickchart {\n",
              "    background-color: var(--bg-color);\n",
              "    border: none;\n",
              "    border-radius: 50%;\n",
              "    cursor: pointer;\n",
              "    display: none;\n",
              "    fill: var(--fill-color);\n",
              "    height: 32px;\n",
              "    padding: 0;\n",
              "    width: 32px;\n",
              "  }\n",
              "\n",
              "  .colab-df-quickchart:hover {\n",
              "    background-color: var(--hover-bg-color);\n",
              "    box-shadow: 0 1px 2px rgba(60, 64, 67, 0.3), 0 1px 3px 1px rgba(60, 64, 67, 0.15);\n",
              "    fill: var(--button-hover-fill-color);\n",
              "  }\n",
              "\n",
              "  .colab-df-quickchart-complete:disabled,\n",
              "  .colab-df-quickchart-complete:disabled:hover {\n",
              "    background-color: var(--disabled-bg-color);\n",
              "    fill: var(--disabled-fill-color);\n",
              "    box-shadow: none;\n",
              "  }\n",
              "\n",
              "  .colab-df-spinner {\n",
              "    border: 2px solid var(--fill-color);\n",
              "    border-color: transparent;\n",
              "    border-bottom-color: var(--fill-color);\n",
              "    animation:\n",
              "      spin 1s steps(1) infinite;\n",
              "  }\n",
              "\n",
              "  @keyframes spin {\n",
              "    0% {\n",
              "      border-color: transparent;\n",
              "      border-bottom-color: var(--fill-color);\n",
              "      border-left-color: var(--fill-color);\n",
              "    }\n",
              "    20% {\n",
              "      border-color: transparent;\n",
              "      border-left-color: var(--fill-color);\n",
              "      border-top-color: var(--fill-color);\n",
              "    }\n",
              "    30% {\n",
              "      border-color: transparent;\n",
              "      border-left-color: var(--fill-color);\n",
              "      border-top-color: var(--fill-color);\n",
              "      border-right-color: var(--fill-color);\n",
              "    }\n",
              "    40% {\n",
              "      border-color: transparent;\n",
              "      border-right-color: var(--fill-color);\n",
              "      border-top-color: var(--fill-color);\n",
              "    }\n",
              "    60% {\n",
              "      border-color: transparent;\n",
              "      border-right-color: var(--fill-color);\n",
              "    }\n",
              "    80% {\n",
              "      border-color: transparent;\n",
              "      border-right-color: var(--fill-color);\n",
              "      border-bottom-color: var(--fill-color);\n",
              "    }\n",
              "    90% {\n",
              "      border-color: transparent;\n",
              "      border-bottom-color: var(--fill-color);\n",
              "    }\n",
              "  }\n",
              "</style>\n",
              "\n",
              "      <script>\n",
              "        async function quickchart(key) {\n",
              "          const quickchartButtonEl =\n",
              "            document.querySelector('#' + key + ' button');\n",
              "          quickchartButtonEl.disabled = true;  // To prevent multiple clicks.\n",
              "          quickchartButtonEl.classList.add('colab-df-spinner');\n",
              "          try {\n",
              "            const charts = await google.colab.kernel.invokeFunction(\n",
              "                'suggestCharts', [key], {});\n",
              "          } catch (error) {\n",
              "            console.error('Error during call to suggestCharts:', error);\n",
              "          }\n",
              "          quickchartButtonEl.classList.remove('colab-df-spinner');\n",
              "          quickchartButtonEl.classList.add('colab-df-quickchart-complete');\n",
              "        }\n",
              "        (() => {\n",
              "          let quickchartButtonEl =\n",
              "            document.querySelector('#df-e5baaf16-054a-40f7-b863-b6f7c07e065d button');\n",
              "          quickchartButtonEl.style.display =\n",
              "            google.colab.kernel.accessAllowed ? 'block' : 'none';\n",
              "        })();\n",
              "      </script>\n",
              "    </div>\n",
              "\n",
              "    </div>\n",
              "  </div>\n"
            ],
            "application/vnd.google.colaboratory.intrinsic+json": {
              "type": "dataframe",
              "summary": "{\n  \"name\": \"df[['Fecha_Pedido', 'A\\u00f1o', 'Mes', 'D\\u00eda', 'Hora', 'Minuto', 'Segundo']]\",\n  \"rows\": 5,\n  \"fields\": [\n    {\n      \"column\": \"ID_Pedido\",\n      \"properties\": {\n        \"dtype\": \"string\",\n        \"num_unique_values\": 5,\n        \"samples\": [\n          \"P-100001\",\n          \"P-100004\",\n          \"P-100002\"\n        ],\n        \"semantic_type\": \"\",\n        \"description\": \"\"\n      }\n    },\n    {\n      \"column\": \"Fecha_Pedido\",\n      \"properties\": {\n        \"dtype\": \"date\",\n        \"min\": \"2023-10-14 00:00:00\",\n        \"max\": \"2025-03-04 00:00:00\",\n        \"num_unique_values\": 5,\n        \"samples\": [\n          \"2024-03-03 00:00:00\",\n          \"2024-01-20 00:00:00\",\n          \"2023-10-14 00:00:00\"\n        ],\n        \"semantic_type\": \"\",\n        \"description\": \"\"\n      }\n    },\n    {\n      \"column\": \"A\\u00f1o\",\n      \"properties\": {\n        \"dtype\": \"int32\",\n        \"num_unique_values\": 3,\n        \"samples\": [\n          2025,\n          2024,\n          2023\n        ],\n        \"semantic_type\": \"\",\n        \"description\": \"\"\n      }\n    },\n    {\n      \"column\": \"Mes\",\n      \"properties\": {\n        \"dtype\": \"int32\",\n        \"num_unique_values\": 4,\n        \"samples\": [\n          10,\n          1,\n          3\n        ],\n        \"semantic_type\": \"\",\n        \"description\": \"\"\n      }\n    },\n    {\n      \"column\": \"D\\u00eda\",\n      \"properties\": {\n        \"dtype\": \"int32\",\n        \"num_unique_values\": 5,\n        \"samples\": [\n          3,\n          20,\n          14\n        ],\n        \"semantic_type\": \"\",\n        \"description\": \"\"\n      }\n    },\n    {\n      \"column\": \"Hora\",\n      \"properties\": {\n        \"dtype\": \"int32\",\n        \"num_unique_values\": 1,\n        \"samples\": [\n          0\n        ],\n        \"semantic_type\": \"\",\n        \"description\": \"\"\n      }\n    },\n    {\n      \"column\": \"Minuto\",\n      \"properties\": {\n        \"dtype\": \"int32\",\n        \"num_unique_values\": 1,\n        \"samples\": [\n          0\n        ],\n        \"semantic_type\": \"\",\n        \"description\": \"\"\n      }\n    },\n    {\n      \"column\": \"Segundo\",\n      \"properties\": {\n        \"dtype\": \"int32\",\n        \"num_unique_values\": 1,\n        \"samples\": [\n          0\n        ],\n        \"semantic_type\": \"\",\n        \"description\": \"\"\n      }\n    }\n  ]\n}"
            }
          },
          "metadata": {},
          "execution_count": 27
        }
      ]
    },
    {
      "cell_type": "markdown",
      "source": [
        "### Tratamiento de valores outliers"
      ],
      "metadata": {
        "id": "XnxviQH0wIxn"
      }
    },
    {
      "cell_type": "code",
      "source": [
        "# Boxplot para ver los outliers\n",
        "sns.boxplot(data=df, x='Categoría', y='Precio_Total', palette='Pastel1')\n",
        "plt.title(\"Boxplot original con outliers\")\n",
        "plt.xticks(rotation=45)\n",
        "plt.tight_layout()\n",
        "plt.show()"
      ],
      "metadata": {
        "id": "LInQXfNm3NRf",
        "colab": {
          "base_uri": "https://localhost:8080/",
          "height": 487
        },
        "outputId": "c25541c0-2f60-4598-f769-442d24ec362d"
      },
      "execution_count": null,
      "outputs": [
        {
          "output_type": "display_data",
          "data": {
            "text/plain": [
              "<Figure size 640x480 with 1 Axes>"
            ],
            "image/png": "[encoded data removed]"
          },
          "metadata": {}
        }
      ]
    },
    {
      "cell_type": "code",
      "source": [
        "# Función para detectar outlier\n",
        "def detectar_outliers(grupo, columna='Precio_Total'):\n",
        "    Q1 = grupo[columna].quantile(0.25)\n",
        "    Q3 = grupo[columna].quantile(0.75)\n",
        "    IQR = Q3 - Q1\n",
        "    lim_inf = Q1 - 1.5 * IQR\n",
        "    lim_sup = Q3 + 1.5 * IQR\n",
        "    return grupo[(grupo[columna] < lim_inf) | (grupo[columna] > lim_sup)]"
      ],
      "metadata": {
        "id": "05oo4FnO50Ry"
      },
      "execution_count": null,
      "outputs": []
    },
    {
      "cell_type": "code",
      "source": [
        "# Ver cuantos outlier hay\n",
        "outliers_antes = df.groupby(\"Categoría\").apply(detectar_outliers).reset_index(drop=True)\n",
        "print(f\"Outliers antes de reemplazar: {len(outliers_antes)}\")"
      ],
      "metadata": {
        "id": "Mn4GCmo855QE",
        "colab": {
          "base_uri": "https://localhost:8080/"
        },
        "outputId": "b33f6ea1-6b14-43d9-f1ec-3c4fb72d4ef4"
      },
      "execution_count": null,
      "outputs": [
        {
          "output_type": "stream",
          "name": "stdout",
          "text": [
            "Outliers antes de reemplazar: 135\n"
          ]
        }
      ]
    },
    {
      "cell_type": "code",
      "source": [
        "# Reemplazar los outlier por la mediana\n",
        "def reemplazar_outliers_iterativo(df, columna='Precio_Total', agrupador='Categoría'):\n",
        "    df_copia = df.copy()\n",
        "    outliers_restantes = float('inf')\n",
        "\n",
        "    while outliers_restantes > 0:\n",
        "        df_temp = df_copia.copy()\n",
        "\n",
        "        for categoria, grupo in df_temp.groupby(agrupador):\n",
        "            Q1 = grupo[columna].quantile(0.25)\n",
        "            Q3 = grupo[columna].quantile(0.75)\n",
        "            IQR = Q3 - Q1\n",
        "            lim_inf = Q1 - 1.5 * IQR\n",
        "            lim_sup = Q3 + 1.5 * IQR\n",
        "            mediana = grupo[columna].median()\n",
        "\n",
        "            mask = (df_copia[agrupador] == categoria) & (\n",
        "                (df_copia[columna] < lim_inf) | (df_copia[columna] > lim_sup)\n",
        "            )\n",
        "            df_copia.loc[mask, columna] = mediana\n",
        "\n",
        "        outliers_totales = df_copia.groupby(agrupador).apply(detectar_outliers, columna=columna)\n",
        "        outliers_restantes = len(outliers_totales)\n",
        "        print(f\"🔁 Outliers restantes: {outliers_restantes}\")\n",
        "\n",
        "    return df_copia\n"
      ],
      "metadata": {
        "id": "5lW8ixEI5_7P"
      },
      "execution_count": null,
      "outputs": []
    },
    {
      "cell_type": "code",
      "source": [
        "# Aplicar la limpieza\n",
        "df_limpio = reemplazar_outliers_iterativo(df, columna='Precio_Total', agrupador='Categoría')"
      ],
      "metadata": {
        "id": "bP_O89iS6Mo0",
        "colab": {
          "base_uri": "https://localhost:8080/"
        },
        "outputId": "8754b130-6ab5-4296-d900-576e8a987a5d"
      },
      "execution_count": null,
      "outputs": [
        {
          "output_type": "stream",
          "name": "stdout",
          "text": [
            "🔁 Outliers restantes: 53\n",
            "🔁 Outliers restantes: 31\n",
            "🔁 Outliers restantes: 15\n",
            "🔁 Outliers restantes: 16\n",
            "🔁 Outliers restantes: 9\n",
            "🔁 Outliers restantes: 9\n",
            "🔁 Outliers restantes: 8\n",
            "🔁 Outliers restantes: 15\n",
            "🔁 Outliers restantes: 12\n",
            "🔁 Outliers restantes: 12\n",
            "🔁 Outliers restantes: 7\n",
            "🔁 Outliers restantes: 3\n",
            "🔁 Outliers restantes: 0\n"
          ]
        }
      ]
    },
    {
      "cell_type": "code",
      "source": [
        "# Limpieza de los outlier que quedaron\n",
        "outliers_despues = df_limpio.groupby(\"Categoría\").apply(detectar_outliers).reset_index(drop=True)\n",
        "print(f\"✅ Outliers finales: {len(outliers_despues)}\")\n"
      ],
      "metadata": {
        "id": "_vLMYGvW6Tmn",
        "colab": {
          "base_uri": "https://localhost:8080/"
        },
        "outputId": "ed60d720-6699-4c40-af3a-6d4ee629290a"
      },
      "execution_count": null,
      "outputs": [
        {
          "output_type": "stream",
          "name": "stdout",
          "text": [
            "✅ Outliers finales: 0\n"
          ]
        }
      ]
    },
    {
      "cell_type": "code",
      "source": [
        "# Boxplot final sin outlier\n",
        "sns.boxplot(data=df_limpio, x='Categoría', y='Precio_Total', palette='Set3', showfliers=False)\n",
        "plt.title(\"Boxplot limpio sin puntos extremos\")\n",
        "plt.xticks(rotation=45)\n",
        "plt.tight_layout()\n",
        "plt.show()"
      ],
      "metadata": {
        "id": "lotNffe66dzd",
        "colab": {
          "base_uri": "https://localhost:8080/",
          "height": 487
        },
        "outputId": "a820ecee-00bd-4f4c-8871-24ab19304cba"
      },
      "execution_count": null,
      "outputs": [
        {
          "output_type": "display_data",
          "data": {
            "text/plain": [
              "<Figure size 640x480 with 1 Axes>"
            ],
            "image/png": "[encoded data removed]"
          },
          "metadata": {}
        }
      ]
    },
    {
      "cell_type": "code",
      "source": [
        "# Se muestra como quedó el dataset después de las transformaciones\n",
        "df.head()"
      ],
      "metadata": {
        "id": "Y2dNf-a3yysk",
        "colab": {
          "base_uri": "https://localhost:8080/",
          "height": 374
        },
        "outputId": "af9abdbd-dd67-4dc4-dd55-6e63f0ad11d9"
      },
      "execution_count": null,
      "outputs": [
        {
          "output_type": "execute_result",
          "data": {
            "text/plain": [
              "            Nombre_Cliente     Género  Edad      País     Ciudad  \\\n",
              "ID_Pedido                                                          \n",
              "P-100000   Samantha Davila       Otro  39.0    España   Valencia   \n",
              "P-100001       Jacob Burns   Femenino  43.0    España     Madrid   \n",
              "P-100002    Denise Bullock  Masculino  65.0    España  Barcelona   \n",
              "P-100003        Erin Jones   Femenino  48.0  Colombia   Medellín   \n",
              "P-100004        Shawn Reed   Femenino  36.0    España   Valencia   \n",
              "\n",
              "          Nombre_Producto    Categoría Subcategoría  Precio_Unitario  \\\n",
              "ID_Pedido                                                              \n",
              "P-100000            Jeans         Ropa        Jeans           785.26   \n",
              "P-100001          Muebles        Hogar      Muebles           376.62   \n",
              "P-100002          Ficción       Libros      Ficción            94.64   \n",
              "P-100003           Tablet  Electrónica       Tablet           966.04   \n",
              "P-100004           Cómics       Libros       Cómics           722.05   \n",
              "\n",
              "           Cantidad  ...  Precio_Total  Fecha_Pedido             Método_Pago  \\\n",
              "ID_Pedido            ...                                                       \n",
              "P-100000          2  ...       1429.17    2025-03-04        Contra Reembolso   \n",
              "P-100001          1  ...        327.66    2024-03-03      Tarjeta de Crédito   \n",
              "P-100002          5  ...        444.81    2023-10-14  Transferencia Bancaria   \n",
              "P-100003          1  ...        705.21    2024-11-02        Contra Reembolso   \n",
              "P-100004          3  ...       1689.60    2024-01-20  Transferencia Bancaria   \n",
              "\n",
              "          Días_Envío   Año  Mes  Día  Hora  Minuto  Segundo  \n",
              "ID_Pedido                                                    \n",
              "P-100000         8.0  2025    3    4     0       0        0  \n",
              "P-100001        10.0  2024    3    3     0       0        0  \n",
              "P-100002         2.0  2023   10   14     0       0        0  \n",
              "P-100003        10.0  2024   11    2     0       0        0  \n",
              "P-100004         6.0  2024    1   20     0       0        0  \n",
              "\n",
              "[5 rows x 21 columns]"
            ],
            "text/html": [
              "\n",
              "  <div id=\"df-95fdd422-8391-4d68-9cbd-f9bd5425c7b4\" class=\"colab-df-container\">\n",
              "    <div>\n",
              "<style scoped>\n",
              "    .dataframe tbody tr th:only-of-type {\n",
              "        vertical-align: middle;\n",
              "    }\n",
              "\n",
              "    .dataframe tbody tr th {\n",
              "        vertical-align: top;\n",
              "    }\n",
              "\n",
              "    .dataframe thead th {\n",
              "        text-align: right;\n",
              "    }\n",
              "</style>\n",
              "<table border=\"1\" class=\"dataframe\">\n",
              "  <thead>\n",
              "    <tr style=\"text-align: right;\">\n",
              "      <th></th>\n",
              "      <th>Nombre_Cliente</th>\n",
              "      <th>Género</th>\n",
              "      <th>Edad</th>\n",
              "      <th>País</th>\n",
              "      <th>Ciudad</th>\n",
              "      <th>Nombre_Producto</th>\n",
              "      <th>Categoría</th>\n",
              "      <th>Subcategoría</th>\n",
              "      <th>Precio_Unitario</th>\n",
              "      <th>Cantidad</th>\n",
              "      <th>...</th>\n",
              "      <th>Precio_Total</th>\n",
              "      <th>Fecha_Pedido</th>\n",
              "      <th>Método_Pago</th>\n",
              "      <th>Días_Envío</th>\n",
              "      <th>Año</th>\n",
              "      <th>Mes</th>\n",
              "      <th>Día</th>\n",
              "      <th>Hora</th>\n",
              "      <th>Minuto</th>\n",
              "      <th>Segundo</th>\n",
              "    </tr>\n",
              "    <tr>\n",
              "      <th>ID_Pedido</th>\n",
              "      <th></th>\n",
              "      <th></th>\n",
              "      <th></th>\n",
              "      <th></th>\n",
              "      <th></th>\n",
              "      <th></th>\n",
              "      <th></th>\n",
              "      <th></th>\n",
              "      <th></th>\n",
              "      <th></th>\n",
              "      <th></th>\n",
              "      <th></th>\n",
              "      <th></th>\n",
              "      <th></th>\n",
              "      <th></th>\n",
              "      <th></th>\n",
              "      <th></th>\n",
              "      <th></th>\n",
              "      <th></th>\n",
              "      <th></th>\n",
              "      <th></th>\n",
              "    </tr>\n",
              "  </thead>\n",
              "  <tbody>\n",
              "    <tr>\n",
              "      <th>P-100000</th>\n",
              "      <td>Samantha Davila</td>\n",
              "      <td>Otro</td>\n",
              "      <td>39.0</td>\n",
              "      <td>España</td>\n",
              "      <td>Valencia</td>\n",
              "      <td>Jeans</td>\n",
              "      <td>Ropa</td>\n",
              "      <td>Jeans</td>\n",
              "      <td>785.26</td>\n",
              "      <td>2</td>\n",
              "      <td>...</td>\n",
              "      <td>1429.17</td>\n",
              "      <td>2025-03-04</td>\n",
              "      <td>Contra Reembolso</td>\n",
              "      <td>8.0</td>\n",
              "      <td>2025</td>\n",
              "      <td>3</td>\n",
              "      <td>4</td>\n",
              "      <td>0</td>\n",
              "      <td>0</td>\n",
              "      <td>0</td>\n",
              "    </tr>\n",
              "    <tr>\n",
              "      <th>P-100001</th>\n",
              "      <td>Jacob Burns</td>\n",
              "      <td>Femenino</td>\n",
              "      <td>43.0</td>\n",
              "      <td>España</td>\n",
              "      <td>Madrid</td>\n",
              "      <td>Muebles</td>\n",
              "      <td>Hogar</td>\n",
              "      <td>Muebles</td>\n",
              "      <td>376.62</td>\n",
              "      <td>1</td>\n",
              "      <td>...</td>\n",
              "      <td>327.66</td>\n",
              "      <td>2024-03-03</td>\n",
              "      <td>Tarjeta de Crédito</td>\n",
              "      <td>10.0</td>\n",
              "      <td>2024</td>\n",
              "      <td>3</td>\n",
              "      <td>3</td>\n",
              "      <td>0</td>\n",
              "      <td>0</td>\n",
              "      <td>0</td>\n",
              "    </tr>\n",
              "    <tr>\n",
              "      <th>P-100002</th>\n",
              "      <td>Denise Bullock</td>\n",
              "      <td>Masculino</td>\n",
              "      <td>65.0</td>\n",
              "      <td>España</td>\n",
              "      <td>Barcelona</td>\n",
              "      <td>Ficción</td>\n",
              "      <td>Libros</td>\n",
              "      <td>Ficción</td>\n",
              "      <td>94.64</td>\n",
              "      <td>5</td>\n",
              "      <td>...</td>\n",
              "      <td>444.81</td>\n",
              "      <td>2023-10-14</td>\n",
              "      <td>Transferencia Bancaria</td>\n",
              "      <td>2.0</td>\n",
              "      <td>2023</td>\n",
              "      <td>10</td>\n",
              "      <td>14</td>\n",
              "      <td>0</td>\n",
              "      <td>0</td>\n",
              "      <td>0</td>\n",
              "    </tr>\n",
              "    <tr>\n",
              "      <th>P-100003</th>\n",
              "      <td>Erin Jones</td>\n",
              "      <td>Femenino</td>\n",
              "      <td>48.0</td>\n",
              "      <td>Colombia</td>\n",
              "      <td>Medellín</td>\n",
              "      <td>Tablet</td>\n",
              "      <td>Electrónica</td>\n",
              "      <td>Tablet</td>\n",
              "      <td>966.04</td>\n",
              "      <td>1</td>\n",
              "      <td>...</td>\n",
              "      <td>705.21</td>\n",
              "      <td>2024-11-02</td>\n",
              "      <td>Contra Reembolso</td>\n",
              "      <td>10.0</td>\n",
              "      <td>2024</td>\n",
              "      <td>11</td>\n",
              "      <td>2</td>\n",
              "      <td>0</td>\n",
              "      <td>0</td>\n",
              "      <td>0</td>\n",
              "    </tr>\n",
              "    <tr>\n",
              "      <th>P-100004</th>\n",
              "      <td>Shawn Reed</td>\n",
              "      <td>Femenino</td>\n",
              "      <td>36.0</td>\n",
              "      <td>España</td>\n",
              "      <td>Valencia</td>\n",
              "      <td>Cómics</td>\n",
              "      <td>Libros</td>\n",
              "      <td>Cómics</td>\n",
              "      <td>722.05</td>\n",
              "      <td>3</td>\n",
              "      <td>...</td>\n",
              "      <td>1689.60</td>\n",
              "      <td>2024-01-20</td>\n",
              "      <td>Transferencia Bancaria</td>\n",
              "      <td>6.0</td>\n",
              "      <td>2024</td>\n",
              "      <td>1</td>\n",
              "      <td>20</td>\n",
              "      <td>0</td>\n",
              "      <td>0</td>\n",
              "      <td>0</td>\n",
              "    </tr>\n",
              "  </tbody>\n",
              "</table>\n",
              "<p>5 rows × 21 columns</p>\n",
              "</div>\n",
              "    <div class=\"colab-df-buttons\">\n",
              "\n",
              "  <div class=\"colab-df-container\">\n",
              "    <button class=\"colab-df-convert\" onclick=\"convertToInteractive('df-95fdd422-8391-4d68-9cbd-f9bd5425c7b4')\"\n",
              "            title=\"Convert this dataframe to an interactive table.\"\n",
              "            style=\"display:none;\">\n",
              "\n",
              "  <svg xmlns=\"http://www.w3.org/2000/svg\" height=\"24px\" viewBox=\"0 -960 960 960\">\n",
              "    <path d=\"M120-120v-720h720v720H120Zm60-500h600v-160H180v160Zm220 220h160v-160H400v160Zm0 220h160v-160H400v160ZM180-400h160v-160H180v160Zm440 0h160v-160H620v160ZM180-180h160v-160H180v160Zm440 0h160v-160H620v160Z\"/>\n",
              "  </svg>\n",
              "    </button>\n",
              "\n",
              "  <style>\n",
              "    .colab-df-container {\n",
              "      display:flex;\n",
              "      gap: 12px;\n",
              "    }\n",
              "\n",
              "    .colab-df-convert {\n",
              "      background-color: #E8F0FE;\n",
              "      border: none;\n",
              "      border-radius: 50%;\n",
              "      cursor: pointer;\n",
              "      display: none;\n",
              "      fill: #1967D2;\n",
              "      height: 32px;\n",
              "      padding: 0 0 0 0;\n",
              "      width: 32px;\n",
              "    }\n",
              "\n",
              "    .colab-df-convert:hover {\n",
              "      background-color: #E2EBFA;\n",
              "      box-shadow: 0px 1px 2px rgba(60, 64, 67, 0.3), 0px 1px 3px 1px rgba(60, 64, 67, 0.15);\n",
              "      fill: #174EA6;\n",
              "    }\n",
              "\n",
              "    .colab-df-buttons div {\n",
              "      margin-bottom: 4px;\n",
              "    }\n",
              "\n",
              "    [theme=dark] .colab-df-convert {\n",
              "      background-color: #3B4455;\n",
              "      fill: #D2E3FC;\n",
              "    }\n",
              "\n",
              "    [theme=dark] .colab-df-convert:hover {\n",
              "      background-color: #434B5C;\n",
              "      box-shadow: 0px 1px 3px 1px rgba(0, 0, 0, 0.15);\n",
              "      filter: drop-shadow(0px 1px 2px rgba(0, 0, 0, 0.3));\n",
              "      fill: #FFFFFF;\n",
              "    }\n",
              "  </style>\n",
              "\n",
              "    <script>\n",
              "      const buttonEl =\n",
              "        document.querySelector('#df-95fdd422-8391-4d68-9cbd-f9bd5425c7b4 button.colab-df-convert');\n",
              "      buttonEl.style.display =\n",
              "        google.colab.kernel.accessAllowed ? 'block' : 'none';\n",
              "\n",
              "      async function convertToInteractive(key) {\n",
              "        const element = document.querySelector('#df-95fdd422-8391-4d68-9cbd-f9bd5425c7b4');\n",
              "        const dataTable =\n",
              "          await google.colab.kernel.invokeFunction('convertToInteractive',\n",
              "                                                    [key], {});\n",
              "        if (!dataTable) return;\n",
              "\n",
              "        const docLinkHtml = 'Like what you see? Visit the ' +\n",
              "          '<a target=\"_blank\" href=https://colab.research.google.com/notebooks/data_table.ipynb>data table notebook</a>'\n",
              "          + ' to learn more about interactive tables.';\n",
              "        element.innerHTML = '';\n",
              "        dataTable['output_type'] = 'display_data';\n",
              "        await google.colab.output.renderOutput(dataTable, element);\n",
              "        const docLink = document.createElement('div');\n",
              "        docLink.innerHTML = docLinkHtml;\n",
              "        element.appendChild(docLink);\n",
              "      }\n",
              "    </script>\n",
              "  </div>\n",
              "\n",
              "\n",
              "    <div id=\"df-de2d4007-49ff-4133-8352-9b4b41989f62\">\n",
              "      <button class=\"colab-df-quickchart\" onclick=\"quickchart('df-de2d4007-49ff-4133-8352-9b4b41989f62')\"\n",
              "                title=\"Suggest charts\"\n",
              "                style=\"display:none;\">\n",
              "\n",
              "<svg xmlns=\"http://www.w3.org/2000/svg\" height=\"24px\"viewBox=\"0 0 24 24\"\n",
              "     width=\"24px\">\n",
              "    <g>\n",
              "        <path d=\"M19 3H5c-1.1 0-2 .9-2 2v14c0 1.1.9 2 2 2h14c1.1 0 2-.9 2-2V5c0-1.1-.9-2-2-2zM9 17H7v-7h2v7zm4 0h-2V7h2v10zm4 0h-2v-4h2v4z\"/>\n",
              "    </g>\n",
              "</svg>\n",
              "      </button>\n",
              "\n",
              "<style>\n",
              "  .colab-df-quickchart {\n",
              "      --bg-color: #E8F0FE;\n",
              "      --fill-color: #1967D2;\n",
              "      --hover-bg-color: #E2EBFA;\n",
              "      --hover-fill-color: #174EA6;\n",
              "      --disabled-fill-color: #AAA;\n",
              "      --disabled-bg-color: #DDD;\n",
              "  }\n",
              "\n",
              "  [theme=dark] .colab-df-quickchart {\n",
              "      --bg-color: #3B4455;\n",
              "      --fill-color: #D2E3FC;\n",
              "      --hover-bg-color: #434B5C;\n",
              "      --hover-fill-color: #FFFFFF;\n",
              "      --disabled-bg-color: #3B4455;\n",
              "      --disabled-fill-color: #666;\n",
              "  }\n",
              "\n",
              "  .colab-df-quickchart {\n",
              "    background-color: var(--bg-color);\n",
              "    border: none;\n",
              "    border-radius: 50%;\n",
              "    cursor: pointer;\n",
              "    display: none;\n",
              "    fill: var(--fill-color);\n",
              "    height: 32px;\n",
              "    padding: 0;\n",
              "    width: 32px;\n",
              "  }\n",
              "\n",
              "  .colab-df-quickchart:hover {\n",
              "    background-color: var(--hover-bg-color);\n",
              "    box-shadow: 0 1px 2px rgba(60, 64, 67, 0.3), 0 1px 3px 1px rgba(60, 64, 67, 0.15);\n",
              "    fill: var(--button-hover-fill-color);\n",
              "  }\n",
              "\n",
              "  .colab-df-quickchart-complete:disabled,\n",
              "  .colab-df-quickchart-complete:disabled:hover {\n",
              "    background-color: var(--disabled-bg-color);\n",
              "    fill: var(--disabled-fill-color);\n",
              "    box-shadow: none;\n",
              "  }\n",
              "\n",
              "  .colab-df-spinner {\n",
              "    border: 2px solid var(--fill-color);\n",
              "    border-color: transparent;\n",
              "    border-bottom-color: var(--fill-color);\n",
              "    animation:\n",
              "      spin 1s steps(1) infinite;\n",
              "  }\n",
              "\n",
              "  @keyframes spin {\n",
              "    0% {\n",
              "      border-color: transparent;\n",
              "      border-bottom-color: var(--fill-color);\n",
              "      border-left-color: var(--fill-color);\n",
              "    }\n",
              "    20% {\n",
              "      border-color: transparent;\n",
              "      border-left-color: var(--fill-color);\n",
              "      border-top-color: var(--fill-color);\n",
              "    }\n",
              "    30% {\n",
              "      border-color: transparent;\n",
              "      border-left-color: var(--fill-color);\n",
              "      border-top-color: var(--fill-color);\n",
              "      border-right-color: var(--fill-color);\n",
              "    }\n",
              "    40% {\n",
              "      border-color: transparent;\n",
              "      border-right-color: var(--fill-color);\n",
              "      border-top-color: var(--fill-color);\n",
              "    }\n",
              "    60% {\n",
              "      border-color: transparent;\n",
              "      border-right-color: var(--fill-color);\n",
              "    }\n",
              "    80% {\n",
              "      border-color: transparent;\n",
              "      border-right-color: var(--fill-color);\n",
              "      border-bottom-color: var(--fill-color);\n",
              "    }\n",
              "    90% {\n",
              "      border-color: transparent;\n",
              "      border-bottom-color: var(--fill-color);\n",
              "    }\n",
              "  }\n",
              "</style>\n",
              "\n",
              "      <script>\n",
              "        async function quickchart(key) {\n",
              "          const quickchartButtonEl =\n",
              "            document.querySelector('#' + key + ' button');\n",
              "          quickchartButtonEl.disabled = true;  // To prevent multiple clicks.\n",
              "          quickchartButtonEl.classList.add('colab-df-spinner');\n",
              "          try {\n",
              "            const charts = await google.colab.kernel.invokeFunction(\n",
              "                'suggestCharts', [key], {});\n",
              "          } catch (error) {\n",
              "            console.error('Error during call to suggestCharts:', error);\n",
              "          }\n",
              "          quickchartButtonEl.classList.remove('colab-df-spinner');\n",
              "          quickchartButtonEl.classList.add('colab-df-quickchart-complete');\n",
              "        }\n",
              "        (() => {\n",
              "          let quickchartButtonEl =\n",
              "            document.querySelector('#df-de2d4007-49ff-4133-8352-9b4b41989f62 button');\n",
              "          quickchartButtonEl.style.display =\n",
              "            google.colab.kernel.accessAllowed ? 'block' : 'none';\n",
              "        })();\n",
              "      </script>\n",
              "    </div>\n",
              "\n",
              "    </div>\n",
              "  </div>\n"
            ],
            "application/vnd.google.colaboratory.intrinsic+json": {
              "type": "dataframe",
              "variable_name": "df"
            }
          },
          "metadata": {},
          "execution_count": 35
        }
      ]
    },
    {
      "cell_type": "markdown",
      "metadata": {
        "id": "k0N6w-i6lLpN"
      },
      "source": [
        "##**EDA - Análisis exploratorio de datos**"
      ]
    },
    {
      "cell_type": "markdown",
      "source": [
        "###Análisis Univariado"
      ],
      "metadata": {
        "id": "bc8srl0uAcV2"
      }
    },
    {
      "cell_type": "markdown",
      "source": [
        "#### Pedidos por país"
      ],
      "metadata": {
        "id": "W20RUcfOA5dQ"
      }
    },
    {
      "cell_type": "code",
      "source": [
        "# Obtener el top 4 de países por cantidad de pedidos\n",
        "top_5_paises = df_limpio['País'].value_counts().head(5)\n",
        "\n",
        "# Crear el gráfico de barras horizontales\n",
        "plt.figure(figsize=(5, 4))\n",
        "sns.countplot(y='País', data=df_limpio, order=top_5_paises.index)\n",
        "plt.title(\"Países con más Pedidos\")\n",
        "plt.xlabel(\"Número de Pedidos\")\n",
        "plt.ylabel(\"País\")\n",
        "plt.show()"
      ],
      "metadata": {
        "id": "TalFjSKF2dT5",
        "colab": {
          "base_uri": "https://localhost:8080/",
          "height": 410
        },
        "outputId": "35ec7162-2d46-409c-d402-1753a6af0cfa"
      },
      "execution_count": null,
      "outputs": [
        {
          "output_type": "display_data",
          "data": {
            "text/plain": [
              "<Figure size 500x400 with 1 Axes>"
            ],
            "image/png": "[encoded data removed]"
          },
          "metadata": {}
        }
      ]
    },
    {
      "cell_type": "markdown",
      "source": [
        "Se muestran los países donde hubo más pedidos, siendo México el que más tuvo, seguido por Argentina, España y Colombia."
      ],
      "metadata": {
        "id": "D1-a9C6C3tZX"
      }
    },
    {
      "cell_type": "markdown",
      "source": [
        "#### Productos más vendidos"
      ],
      "metadata": {
        "id": "m1Fy5qttCVJ2"
      }
    },
    {
      "cell_type": "code",
      "source": [
        "# Ajustar el tamaño del gráfico\n",
        "plt.figure(figsize=(6, 4))\n",
        "\n",
        "# Crear el gráfico de barras horizontal\n",
        "df_limpio[\"Nombre_Producto\"].value_counts().head(10).sort_values().plot(kind=\"barh\", color=\"salmon\")\n",
        "\n",
        "# Configurar título y etiquetas\n",
        "plt.title(\"Productos más Vendidos\")\n",
        "plt.xlabel(\"Cantidad\")\n",
        "plt.ylabel(\"Nombre de Producto\")\n",
        "\n",
        "# Ajustar el diseño para evitar recortes\n",
        "plt.tight_layout()\n",
        "\n",
        "# Mostrar el gráfico\n",
        "plt.show()"
      ],
      "metadata": {
        "id": "13rHpSCfCdpg",
        "colab": {
          "base_uri": "https://localhost:8080/",
          "height": 407
        },
        "outputId": "a737927a-1c1f-42a7-f657-ce23733e1bdd"
      },
      "execution_count": null,
      "outputs": [
        {
          "output_type": "display_data",
          "data": {
            "text/plain": [
              "<Figure size 600x400 with 1 Axes>"
            ],
            "image/png": "[encoded data removed]"
          },
          "metadata": {}
        }
      ]
    },
    {
      "cell_type": "markdown",
      "source": [
        "Se detalla que el producto más vendido es la remera, seguido por muebles y cómics."
      ],
      "metadata": {
        "id": "T-zg8hCXCqv6"
      }
    },
    {
      "cell_type": "markdown",
      "source": [
        "#### Distribución precio de Ventas"
      ],
      "metadata": {
        "id": "jshWBesrC7qp"
      }
    },
    {
      "cell_type": "code",
      "source": [
        "plt.figure(figsize=(6,4))\n",
        "sns.histplot(df_limpio[\"Precio_Total\"], bins=30, color=\"mediumpurple\")\n",
        "plt.title(\"Distribución precio de Ventas\")\n",
        "plt.xlabel(\"Precio de Ventas\")\n",
        "plt.ylabel(\"Cantidad\")\n",
        "plt.tight_layout()\n",
        "plt.show()"
      ],
      "metadata": {
        "id": "QKxCtkQCC9LC",
        "colab": {
          "base_uri": "https://localhost:8080/",
          "height": 407
        },
        "outputId": "bafd31ef-e44b-4f88-ea28-132178a97200"
      },
      "execution_count": null,
      "outputs": [
        {
          "output_type": "display_data",
          "data": {
            "text/plain": [
              "<Figure size 600x400 with 1 Axes>"
            ],
            "image/png": "[encoded data removed]"
          },
          "metadata": {}
        }
      ]
    },
    {
      "cell_type": "markdown",
      "source": [
        "Se observa la distribución del precio de venta, donde la mayoría de las ventas se concentran por debajo de los 1.000."
      ],
      "metadata": {
        "id": "2KW_7GiLRf0J"
      }
    },
    {
      "cell_type": "markdown",
      "source": [
        "#### Ventas por Mes"
      ],
      "metadata": {
        "id": "fTLgBiAzD2au"
      }
    },
    {
      "cell_type": "code",
      "source": [
        "ventas_por_mes = df_limpio.groupby(\"Mes\")[\"Precio_Total\"].sum()\n",
        "ventas_por_mes.plot(kind=\"line\", marker=\"o\", color=\"teal\")\n",
        "plt.title(\"Ventas por Mes\")\n",
        "plt.xlabel(\"Mes\")\n",
        "plt.ylabel(\"Total de Ventas\")\n",
        "plt.tight_layout()\n",
        "plt.show()"
      ],
      "metadata": {
        "id": "J7EEdgkaD4Zc",
        "colab": {
          "base_uri": "https://localhost:8080/",
          "height": 487
        },
        "outputId": "524ae44d-3939-4b48-d9a2-7b5a9faad729"
      },
      "execution_count": null,
      "outputs": [
        {
          "output_type": "display_data",
          "data": {
            "text/plain": [
              "<Figure size 640x480 with 1 Axes>"
            ],
            "image/png": "[encoded data removed]"
          },
          "metadata": {}
        }
      ]
    },
    {
      "cell_type": "markdown",
      "source": [
        "Se muestra un pico de ventas en septiembre, seguido de diciembre, cuando son las fiestas de fin de año."
      ],
      "metadata": {
        "id": "PJwgVavcEJT-"
      }
    },
    {
      "cell_type": "markdown",
      "source": [
        "###Análisis Bivariado"
      ],
      "metadata": {
        "id": "TqcgDGiaSN5z"
      }
    },
    {
      "cell_type": "markdown",
      "source": [
        "#### Método de Pago mas utilizados"
      ],
      "metadata": {
        "id": "8tpSY-qFUDKd"
      }
    },
    {
      "cell_type": "code",
      "source": [
        "# Obtener el top 3 de métodos de pago por promedio de venta\n",
        "top_3 = df_limpio.groupby(\"Método_Pago\")[\"Precio_Total\"].mean().sort_values(ascending=False).head(3)\n",
        "\n",
        "# Graficar\n",
        "plt.figure(figsize=(8, 6))\n",
        "top_3.plot(kind='bar', color=['#FF9500', '#FF7B00', '#FF6200', '#FF4800', '#FF2F00'])  # Degradado de naranja\n",
        "plt.title(\"Métodos de Pago mas utilizados\", pad=20, fontsize=14, fontweight='bold')\n",
        "plt.ylabel(\"Promedio Total Venta\", labelpad=10)\n",
        "plt.xlabel(\"Método de Pago\", labelpad=10)\n",
        "plt.xticks(rotation=45)\n",
        "plt.grid(axis='y', linestyle='--', alpha=0.7)\n",
        "plt.ylim(500, top_3.max() * 1.1)\n",
        "plt.tight_layout()\n",
        "plt.show()"
      ],
      "metadata": {
        "id": "QSe6ixQyUGx5",
        "colab": {
          "base_uri": "https://localhost:8080/",
          "height": 606
        },
        "outputId": "0ebd4502-a988-4314-80a2-f2b9514e4a07"
      },
      "execution_count": null,
      "outputs": [
        {
          "output_type": "display_data",
          "data": {
            "text/plain": [
              "<Figure size 800x600 with 1 Axes>"
            ],
            "image/png": "[encoded data removed]"
          },
          "metadata": {}
        }
      ]
    },
    {
      "cell_type": "markdown",
      "source": [
        "Se detallan los 3 métodos de pagos más utilizados: Tarjeta de Débito, Transferencia Bancaria y Tarjeta de Crédito."
      ],
      "metadata": {
        "id": "1iPE5DQJUbjc"
      }
    },
    {
      "cell_type": "markdown",
      "source": [
        "#### Tiempo de demora en los envíos"
      ],
      "metadata": {
        "id": "gn012ZEpVe3n"
      }
    },
    {
      "cell_type": "code",
      "source": [
        "df_limpio.groupby(\"Días_Envío\")[\"Precio_Total\"].mean().plot(marker='o', linestyle='-', color='crimson')\n",
        "plt.title(\"Tiempo de demora en los envíos\")\n",
        "plt.xlabel(\"Días de Envío\")\n",
        "plt.ylabel(\"Promedio Total Venta\")\n",
        "plt.tight_layout()\n",
        "plt.show()"
      ],
      "metadata": {
        "id": "SBfUIhGoVijL",
        "colab": {
          "base_uri": "https://localhost:8080/",
          "height": 487
        },
        "outputId": "8d217560-c49f-4c00-8ab9-c3d665971f21"
      },
      "execution_count": null,
      "outputs": [
        {
          "output_type": "display_data",
          "data": {
            "text/plain": [
              "<Figure size 640x480 with 1 Axes>"
            ],
            "image/png": "[encoded data removed]"
          },
          "metadata": {}
        }
      ]
    },
    {
      "cell_type": "markdown",
      "source": [
        "Se observa que la mayoría de los envíos llegan en el día 3 y 8."
      ],
      "metadata": {
        "id": "ABdsExQAVydA"
      }
    },
    {
      "cell_type": "markdown",
      "source": [
        "#### Categorías con más descuentos"
      ],
      "metadata": {
        "id": "KB0P2OBhW2lu"
      }
    },
    {
      "cell_type": "code",
      "source": [
        "df_limpio.groupby(\"Categoría\")[\"Descuento\"].mean().sort_values().plot(kind=\"bar\", color=\"steelblue\")\n",
        "plt.title(\"Categorías con más descuentos\")\n",
        "plt.ylabel(\"Promedio de Descuento\")\n",
        "plt.tight_layout()\n",
        "plt.show()"
      ],
      "metadata": {
        "id": "r480RWjiW6ln",
        "colab": {
          "base_uri": "https://localhost:8080/",
          "height": 487
        },
        "outputId": "726ba866-5474-49ea-ed99-78dc97ec7b7c"
      },
      "execution_count": null,
      "outputs": [
        {
          "output_type": "display_data",
          "data": {
            "text/plain": [
              "<Figure size 640x480 with 1 Axes>"
            ],
            "image/png": "[encoded data removed]"
          },
          "metadata": {}
        }
      ]
    },
    {
      "cell_type": "markdown",
      "source": [
        "Se muestran las categorías que ofrecen más descuentos, como Libros, Electrónica, Ropa y Hogar."
      ],
      "metadata": {
        "id": "6LD9Xe3qXAHv"
      }
    },
    {
      "cell_type": "markdown",
      "source": [
        "###Análisis Multivariado"
      ],
      "metadata": {
        "id": "Z3LnhWWsXNRE"
      }
    },
    {
      "cell_type": "markdown",
      "source": [
        "#### Matriz de correlación"
      ],
      "metadata": {
        "id": "jge0ma0DXr6c"
      }
    },
    {
      "cell_type": "code",
      "source": [
        "plt.figure(figsize=(8,5))\n",
        "corr = df_limpio[[\"Edad\", \"Precio_Unitario\", \"Cantidad\", \"Descuento\", \"Precio_Total\", \"Días_Envío\"]].corr()\n",
        "sns.heatmap(corr, annot=True, cmap=\"coolwarm\", fmt=\".2f\")\n",
        "plt.title(\"Matriz de Correlación de Variables Numéricas\")\n",
        "plt.tight_layout()\n",
        "plt.show()"
      ],
      "metadata": {
        "id": "TUO48HcuX1H8",
        "colab": {
          "base_uri": "https://localhost:8080/",
          "height": 507
        },
        "outputId": "678af4cd-e8b2-43dd-9480-8500da157e2e"
      },
      "execution_count": null,
      "outputs": [
        {
          "output_type": "display_data",
          "data": {
            "text/plain": [
              "<Figure size 800x500 with 2 Axes>"
            ],
            "image/png": "[encoded data removed]"
          },
          "metadata": {}
        }
      ]
    },
    {
      "cell_type": "markdown",
      "source": [
        "Este gráfico es uno de los más importantes, ya que se observa la correlación entre las variables numéricas."
      ],
      "metadata": {
        "id": "Zhvj2AVMYFRV"
      }
    },
    {
      "cell_type": "markdown",
      "metadata": {
        "id": "0fjjUeIgyla_"
      },
      "source": [
        "### **Venta de productos por fecha**"
      ]
    },
    {
      "cell_type": "code",
      "execution_count": null,
      "metadata": {
        "id": "lpanuRNzWncg",
        "colab": {
          "base_uri": "https://localhost:8080/",
          "height": 507
        },
        "outputId": "293290a2-ba2b-4a2b-9356-4adec656d79e"
      },
      "outputs": [
        {
          "output_type": "display_data",
          "data": {
            "text/plain": [
              "<Figure size 600x500 with 1 Axes>"
            ],
            "image/png": "[encoded data removed]"
          },
          "metadata": {}
        }
      ],
      "source": [
        "# Convertir la fecha a formato datetime y extraer solo año, mes y día\n",
        "df['Fecha_Pedido'] = pd.to_datetime(df['Fecha_Pedido']).dt.strftime('%Y-%m-%d')\n",
        "\n",
        "# Obtener los 5 productos más vendidos\n",
        "top5_hardware = df['Nombre_Producto'].value_counts().nlargest(5).index\n",
        "\n",
        "# Filtrar el dataframe con los top 5 productos\n",
        "df_top5 = df[df['Nombre_Producto'].isin(top5_hardware)]\n",
        "\n",
        "# Obtener las 5 fechas con más ventas dentro del top 5 productos\n",
        "top5_fechas = df_top5['Fecha_Pedido'].value_counts().nlargest(5).index\n",
        "\n",
        "# Filtrar el dataframe con las top 5 fechas\n",
        "df_final = df_top5[df_top5['Fecha_Pedido'].isin(top5_fechas)]\n",
        "\n",
        "# Crear tabla de ventas por fecha y producto\n",
        "ventas_agrupadas = df_final.groupby(['Fecha_Pedido', 'Nombre_Producto']).size().unstack(fill_value=0)\n",
        "\n",
        "# Graficar barras apiladas horizontalmente\n",
        "ventas_agrupadas.plot(kind='barh', stacked=True, figsize=(6, 5),\n",
        "                      color=['skyblue', 'lightgreen', 'coral', 'orchid', 'lightgrey'])\n",
        "plt.title('Venta de productos por fecha', fontsize=12)\n",
        "plt.xlabel('Cantidad de Ventas', fontsize=10)\n",
        "plt.ylabel('Fecha de Venta (Año-Mes-Día)', fontsize=10)\n",
        "plt.legend(title='Nombre de productos', bbox_to_anchor=(1.05, 1), loc='upper left')\n",
        "plt.tight_layout()\n",
        "plt.show()"
      ]
    },
    {
      "cell_type": "markdown",
      "metadata": {
        "id": "C_QtY--CGyvM"
      },
      "source": [
        "Se detallan los días que tuvieron más ventas y los Cómics, Remeras y Muebles son los productos más vendidos."
      ]
    },
    {
      "cell_type": "markdown",
      "source": [
        "### ✅ Conclusiones del Análisis Exploratorio de Datos (EDA)"
      ],
      "metadata": {
        "id": "5HjtAYNmlCoO"
      }
    },
    {
      "cell_type": "markdown",
      "source": [
        "A continuación se detallan los principales resultados, en función de las preguntas iniciales del proyecto:"
      ],
      "metadata": {
        "id": "2IZhwzWh1fwX"
      }
    },
    {
      "cell_type": "markdown",
      "source": [
        "#### 1. ¿Cuáles son los métodos de pago más utilizados por los clientes?\n",
        "📊 Los métodos de pago más frecuentes fueron **Tarjeta de Crédito, PayPal y Transferencia Bancaria.**\n",
        "Estos resultados evidencian una fuerte digitalización en las transacciones, lo que puede facilitar la implementación de estrategias de pago automatizadas y segmentadas."
      ],
      "metadata": {
        "id": "Q69CuM_v0S2W"
      }
    },
    {
      "cell_type": "markdown",
      "source": [
        "#### 2. ¿Qué productos tienen más descuentos?\n",
        "🔍 Las categorías con mayores niveles de descuento fueron **Electrónica, Ropa y Hogar.**\n",
        "Esto podría estar impulsando la demanda en estas categorías, especialmente si se cruzan con campañas estacionales o eventos promocionales."
      ],
      "metadata": {
        "id": "CQyZ3yDu0kTQ"
      }
    },
    {
      "cell_type": "markdown",
      "source": [
        "#### 3. ¿Cuáles son los productos más vendidos?\n",
        "🏆 Los productos más vendidos fueron **remeras, muebles y cómics.**\n",
        "Esto indica una preferencia del cliente por artículos de **indumentaria, hogar y entretenimiento**, lo cual puede guiar decisiones de stock y marketing."
      ],
      "metadata": {
        "id": "Fe1_sxcL0utj"
      }
    },
    {
      "cell_type": "markdown",
      "source": [
        "#### 4. ¿Hay mucha demora en el envío?\n",
        "🚚 Si bien los envíos pueden tardar hasta 10 días, los valores más frecuentes fueron **3 y 8 días.**\n",
        "Esto sugiere que la empresa podría focalizar esfuerzos en reducir los plazos más extensos o reforzar la logística en los días de mayor demora."
      ],
      "metadata": {
        "id": "2yfNkF0e05Lv"
      }
    },
    {
      "cell_type": "markdown",
      "source": [
        "#### 5. ¿Cuáles son los meses donde hay más ventas?\n",
        "📈 Los picos de ventas se registraron en **septiembre y diciembre**, posiblemente por eventos promocionales y las fiestas de fin de año.\n",
        "Este patrón estacional es crucial para planificar inventarios y campañas comerciales de forma anticipada."
      ],
      "metadata": {
        "id": "s2TeTGzj1AIi"
      }
    },
    {
      "cell_type": "markdown",
      "source": [
        "#### 🧠 Insight adicional:\n",
        "También se identificó que la mayoría de las ventas tienen un **Precio_Total inferior a 1000**, lo que indica una estrategia de volumen sobre ticket promedio alto.\n",
        "Además, se observaron correlaciones relevantes entre variables numéricas (por ejemplo, Precio_Total y Precio_Unitario), que serán aprovechadas en la etapa de modelado predictivo."
      ],
      "metadata": {
        "id": "19CXOZWe1J7a"
      }
    },
    {
      "cell_type": "markdown",
      "source": [
        "#### 🎯 Conclusión general\n",
        "El EDA permitió validar las preguntas iniciales y extraer insights relevantes para las áreas de **marketing, ventas y logística.**\n",
        "Estos hallazgos no solo explican el comportamiento actual del negocio, sino que también sientan una base sólida para la construcción del modelo de regresión que buscará predecir el monto total de las ventas."
      ],
      "metadata": {
        "id": "Uju6tbnx1M7C"
      }
    },
    {
      "cell_type": "markdown",
      "source": [
        "##**Feature Selection**"
      ],
      "metadata": {
        "id": "oIJT-G5VLYL_"
      }
    },
    {
      "cell_type": "markdown",
      "source": [
        "Selección de variable objetivo y variables independientes"
      ],
      "metadata": {
        "id": "RX6h_C7AWgG4"
      }
    },
    {
      "cell_type": "code",
      "source": [
        "# Selección de variable objetivo\n",
        "y = df_limpio[\"Precio_Total\"]\n",
        "\n",
        "# Selección de variables independientes\n",
        "X = df_limpio.drop(columns=[\"Precio_Total\", \"Nombre_Cliente\", \"Nombre_Producto\", \"Fecha_Pedido\"])\n",
        "\n",
        "print(\"Shape de X:\", X.shape)\n",
        "print(\"Shape de y:\", y.shape)"
      ],
      "metadata": {
        "id": "xKIpTBKTWmSe",
        "colab": {
          "base_uri": "https://localhost:8080/"
        },
        "outputId": "c8e863b0-3847-48e3-aac7-c5283bcaf89c"
      },
      "execution_count": null,
      "outputs": [
        {
          "output_type": "stream",
          "name": "stdout",
          "text": [
            "Shape de X: (10003, 17)\n",
            "Shape de y: (10003,)\n"
          ]
        }
      ]
    },
    {
      "cell_type": "markdown",
      "source": [
        "##**Librerias de Machine Learning**"
      ],
      "metadata": {
        "id": "l9kDRxvIegvi"
      }
    },
    {
      "cell_type": "code",
      "source": [
        "#Preprocesamiento\n",
        "from sklearn.preprocessing import StandardScaler\n",
        "\n",
        "#Modelado\n",
        "from sklearn.model_selection import train_test_split\n",
        "from sklearn.linear_model import LinearRegression\n",
        "from sklearn.metrics import mean_absolute_error, mean_squared_error, r2_score\n",
        "from sklearn.linear_model import Ridge\n",
        "from sklearn.linear_model import Lasso\n",
        "from sklearn.linear_model import ElasticNet\n",
        "\n",
        "#Optimización de modelos\n",
        "from sklearn.model_selection import cross_val_score\n",
        "from sklearn.linear_model import Lasso\n",
        "from sklearn.model_selection import GridSearchCV\n",
        "from sklearn.ensemble import RandomForestRegressor"
      ],
      "metadata": {
        "id": "RkkzTsQcfJNO"
      },
      "execution_count": null,
      "outputs": []
    },
    {
      "cell_type": "markdown",
      "source": [
        "##**Preprocesamiento de datos**"
      ],
      "metadata": {
        "id": "RkEiKfDPW-eg"
      }
    },
    {
      "cell_type": "markdown",
      "source": [
        " Convertir datos categóricos (no numéricos) en un formato numérico"
      ],
      "metadata": {
        "id": "Fg4nmkH7XvQG"
      }
    },
    {
      "cell_type": "code",
      "source": [
        "#Chequear cuales son las variables categóricas\n",
        "cat_cols = X.select_dtypes(include=[\"object\"]).columns\n",
        "print(\"Columnas categóricas:\", list(cat_cols))"
      ],
      "metadata": {
        "id": "mT1eYNDNXy8w",
        "colab": {
          "base_uri": "https://localhost:8080/"
        },
        "outputId": "0349ee0e-9ce2-43f0-c3f5-11bdf854345c"
      },
      "execution_count": null,
      "outputs": [
        {
          "output_type": "stream",
          "name": "stdout",
          "text": [
            "Columnas categóricas: ['Género', 'País', 'Ciudad', 'Categoría', 'Subcategoría', 'Método_Pago']\n"
          ]
        }
      ]
    },
    {
      "cell_type": "markdown",
      "source": [
        "Ya que se va utilizar Regresión Lineal se va utilizar es usar One-Hot Encoding, que crea columnas binarias (0/1) para cada categoría."
      ],
      "metadata": {
        "id": "vA2khoNJY2eF"
      }
    },
    {
      "cell_type": "code",
      "source": [
        "# Identificar columnas categóricas\n",
        "cat_cols = X.select_dtypes(include=[\"object\"]).columns\n",
        "\n",
        "# Aplicar One-Hot Encoding\n",
        "X_encoded = pd.get_dummies(X, columns=cat_cols, drop_first=True)\n",
        "\n",
        "print(\"Shape después del encoding:\", X_encoded.shape)\n",
        "print(X_encoded.head())\n",
        "\n",
        "# Escalado de variables\n",
        "scaler = StandardScaler()\n",
        "X_scaled = scaler.fit_transform(X_encoded)\n",
        "\n",
        "print(\"Shape después del escalado:\", X_scaled.shape)"
      ],
      "metadata": {
        "id": "M5Mfp1ZdYgj-",
        "colab": {
          "base_uri": "https://localhost:8080/"
        },
        "outputId": "0029410f-6250-45e4-8926-cbaac4b26c97"
      },
      "execution_count": null,
      "outputs": [
        {
          "output_type": "stream",
          "name": "stdout",
          "text": [
            "Shape después del encoding: (10003, 52)\n",
            "           Edad  Precio_Unitario  Cantidad  Descuento  Días_Envío   Año  Mes  \\\n",
            "ID_Pedido                                                                      \n",
            "P-100000   39.0           785.26         2       0.09         8.0  2025    3   \n",
            "P-100001   43.0           376.62         1       0.13        10.0  2024    3   \n",
            "P-100002   65.0            94.64         5       0.06         2.0  2023   10   \n",
            "P-100003   48.0           966.04         1       0.27        10.0  2024   11   \n",
            "P-100004   36.0           722.05         3       0.22         6.0  2024    1   \n",
            "\n",
            "           Día  Hora  Minuto  ...  Subcategoría_Muebles  \\\n",
            "ID_Pedido                     ...                         \n",
            "P-100000     4     0       0  ...                 False   \n",
            "P-100001     3     0       0  ...                  True   \n",
            "P-100002    14     0       0  ...                 False   \n",
            "P-100003     2     0       0  ...                 False   \n",
            "P-100004    20     0       0  ...                 False   \n",
            "\n",
            "           Subcategoría_No Ficción  Subcategoría_Portátil  \\\n",
            "ID_Pedido                                                   \n",
            "P-100000                     False                  False   \n",
            "P-100001                     False                  False   \n",
            "P-100002                     False                  False   \n",
            "P-100003                     False                  False   \n",
            "P-100004                     False                  False   \n",
            "\n",
            "           Subcategoría_Remera  Subcategoría_Tablet  Subcategoría_Teléfono  \\\n",
            "ID_Pedido                                                                    \n",
            "P-100000                 False                False                  False   \n",
            "P-100001                 False                False                  False   \n",
            "P-100002                 False                False                  False   \n",
            "P-100003                 False                 True                  False   \n",
            "P-100004                 False                False                  False   \n",
            "\n",
            "           Método_Pago_PayPal  Método_Pago_Tarjeta de Crédito  \\\n",
            "ID_Pedido                                                       \n",
            "P-100000                False                           False   \n",
            "P-100001                False                            True   \n",
            "P-100002                False                           False   \n",
            "P-100003                False                           False   \n",
            "P-100004                False                           False   \n",
            "\n",
            "           Método_Pago_Tarjeta de Débito  Método_Pago_Transferencia Bancaria  \n",
            "ID_Pedido                                                                     \n",
            "P-100000                           False                               False  \n",
            "P-100001                           False                               False  \n",
            "P-100002                           False                                True  \n",
            "P-100003                           False                               False  \n",
            "P-100004                           False                                True  \n",
            "\n",
            "[5 rows x 52 columns]\n",
            "Shape después del escalado: (10003, 52)\n"
          ]
        }
      ]
    },
    {
      "cell_type": "markdown",
      "source": [
        "##**Modelos**"
      ],
      "metadata": {
        "id": "OaNWQ1ARdC-v"
      }
    },
    {
      "cell_type": "markdown",
      "source": [
        "El objetivo del modelado es desarrollar un sistema predictivo que permita estimar el **Precio_Total** de cada pedido realizado en Digital Soluciones S.A. Para lograrlo se entrenarán distintos modelos de regresión lineal, que serán evaluados y comparados en base a su capacidad de explicar la variabilidad de los datos y a la precisión de sus predicciones.\n",
        "\n",
        "El modelo final deberá ofrecer un equilibrio entre desempeño y facilidad de interpretación, de manera que la empresa pueda no solo anticipar los montos de venta, sino también comprender qué variables tienen mayor impacto en el resultado. Esto permitirá a la organización tomar decisiones estratégicas más informadas y diseñar acciones comerciales basadas en evidencia."
      ],
      "metadata": {
        "id": "ABpzEllnRoL_"
      }
    },
    {
      "cell_type": "markdown",
      "source": [
        "###**Modelo A: Regresión Lineal básica (OLS)**"
      ],
      "metadata": {
        "id": "K66zbID5dkvj"
      }
    },
    {
      "cell_type": "markdown",
      "source": [
        "El clásico, sirve como baseline."
      ],
      "metadata": {
        "id": "eaIl-DjDHJrp"
      }
    },
    {
      "cell_type": "code",
      "source": [
        "# División en entrenamiento y prueba\n",
        "X_train, X_test, y_train, y_test = train_test_split(\n",
        "    X_scaled, y, test_size=0.2, random_state=42\n",
        ")\n",
        "\n",
        "# Entrenamiento del modelo\n",
        "modelo_a = LinearRegression()\n",
        "modelo_a.fit(X_train, y_train)\n",
        "\n",
        "# Predicciones\n",
        "y_pred_a = modelo_a.predict(X_test)\n",
        "\n",
        "# Evaluación del rendimiento\n",
        "mae_a = mean_absolute_error(y_test, y_pred_a)\n",
        "mse_a = mean_squared_error(y_test, y_pred_a)\n",
        "rmse_a = np.sqrt(mse_a)\n",
        "r2_a = r2_score(y_test, y_pred_a)\n",
        "\n",
        "print(\"📊 MODELO A: Regresión Lineal Básica\")\n",
        "print(\"MAE:\", mae_a)\n",
        "print(\"RMSE:\", rmse_a)\n",
        "print(\"R²:\", r2_a)"
      ],
      "metadata": {
        "id": "2Qq559_3FPg0",
        "colab": {
          "base_uri": "https://localhost:8080/"
        },
        "outputId": "f08c95f1-fbbc-4c8d-f1c5-bc3136148d9a"
      },
      "execution_count": null,
      "outputs": [
        {
          "output_type": "stream",
          "name": "stdout",
          "text": [
            "📊 MODELO A: Regresión Lineal Básica\n",
            "MAE: 321.5389471580336\n",
            "RMSE: 475.75964457103066\n",
            "R²: 0.7228079485432282\n"
          ]
        }
      ]
    },
    {
      "cell_type": "markdown",
      "source": [
        "###**Modelo B: Regresión Ridge**"
      ],
      "metadata": {
        "id": "dfb81K9LHBIM"
      }
    },
    {
      "cell_type": "markdown",
      "source": [
        "Introduce regularización L2 (útil cuando hay multicolinealidad o muchas dummies)."
      ],
      "metadata": {
        "id": "R9s_YirkHRQ5"
      }
    },
    {
      "cell_type": "code",
      "source": [
        "modelo_b = Ridge(alpha=1.0)  # alpha controla la regularización\n",
        "modelo_b.fit(X_train, y_train)\n",
        "\n",
        "y_pred_b = modelo_b.predict(X_test)\n",
        "\n",
        "mae_b = mean_absolute_error(y_test, y_pred_b)\n",
        "rmse_b = np.sqrt(mean_squared_error(y_test, y_pred_b))\n",
        "r2_b = r2_score(y_test, y_pred_b)\n",
        "\n",
        "print(\"\\n📊 MODELO B: Ridge\")\n",
        "print(\"MAE:\", mae_b)\n",
        "print(\"RMSE:\", rmse_b)\n",
        "print(\"R²:\", r2_b)"
      ],
      "metadata": {
        "id": "gIWUB6qgHTcA",
        "colab": {
          "base_uri": "https://localhost:8080/"
        },
        "outputId": "78ff014c-5601-4bc3-c033-2c713bbb8deb"
      },
      "execution_count": null,
      "outputs": [
        {
          "output_type": "stream",
          "name": "stdout",
          "text": [
            "\n",
            "📊 MODELO B: Ridge\n",
            "MAE: 321.54286468806345\n",
            "RMSE: 475.75591125097077\n",
            "R²: 0.7228122988179844\n"
          ]
        }
      ]
    },
    {
      "cell_type": "markdown",
      "source": [
        "###**Modelo C: Regresión Lasso**"
      ],
      "metadata": {
        "id": "KwLiPFaoHaFb"
      }
    },
    {
      "cell_type": "markdown",
      "source": [
        "Introduce regularización L1 (además puede hacer selección automática de variables)."
      ],
      "metadata": {
        "id": "KuDyk2mVHh8v"
      }
    },
    {
      "cell_type": "code",
      "source": [
        "modelo_c = Lasso(alpha=0.01)  # alpha ajustable\n",
        "modelo_c.fit(X_train, y_train)\n",
        "\n",
        "y_pred_c = modelo_c.predict(X_test)\n",
        "\n",
        "mae_c = mean_absolute_error(y_test, y_pred_c)\n",
        "rmse_c = np.sqrt(mean_squared_error(y_test, y_pred_c))\n",
        "r2_c = r2_score(y_test, y_pred_c)\n",
        "\n",
        "print(\"\\n📊 MODELO C: Lasso\")\n",
        "print(\"MAE:\", mae_c)\n",
        "print(\"RMSE:\", rmse_c)\n",
        "print(\"R²:\", r2_c)"
      ],
      "metadata": {
        "id": "y91E9B4JHjxh",
        "colab": {
          "base_uri": "https://localhost:8080/"
        },
        "outputId": "1ab9db1d-7d45-41c1-eb37-fffc8b6e0aeb"
      },
      "execution_count": null,
      "outputs": [
        {
          "output_type": "stream",
          "name": "stdout",
          "text": [
            "\n",
            "📊 MODELO C: Lasso\n",
            "MAE: 321.5359199906205\n",
            "RMSE: 475.7578416614899\n",
            "R²: 0.7228100493992086\n"
          ]
        }
      ]
    },
    {
      "cell_type": "markdown",
      "source": [
        "###**Modelo D: Elastic Net**"
      ],
      "metadata": {
        "id": "gEyfyzZ2HtZH"
      }
    },
    {
      "cell_type": "markdown",
      "source": [
        "Combina Ridge (L2) + Lasso (L1)."
      ],
      "metadata": {
        "id": "557wKqq6H0cf"
      }
    },
    {
      "cell_type": "code",
      "source": [
        "modelo_d = ElasticNet(alpha=0.01, l1_ratio=0.5)  # l1_ratio combina Lasso y Ridge\n",
        "modelo_d.fit(X_train, y_train)\n",
        "\n",
        "y_pred_d = modelo_d.predict(X_test)\n",
        "\n",
        "mae_d = mean_absolute_error(y_test, y_pred_d)\n",
        "rmse_d = np.sqrt(mean_squared_error(y_test, y_pred_d))\n",
        "r2_d = r2_score(y_test, y_pred_d)\n",
        "\n",
        "print(\"\\n📊 MODELO D: Elastic Net\")\n",
        "print(\"MAE:\", mae_d)\n",
        "print(\"RMSE:\", rmse_d)\n",
        "print(\"R²:\", r2_d)"
      ],
      "metadata": {
        "id": "2BR3kFf-H2Sa",
        "colab": {
          "base_uri": "https://localhost:8080/"
        },
        "outputId": "9f960ad4-ffc5-42c9-eb5d-f870b7fb8fdd"
      },
      "execution_count": null,
      "outputs": [
        {
          "output_type": "stream",
          "name": "stdout",
          "text": [
            "\n",
            "📊 MODELO D: Elastic Net\n",
            "MAE: 321.6983891436523\n",
            "RMSE: 475.6257833791348\n",
            "R²: 0.722963909809766\n"
          ]
        }
      ]
    },
    {
      "cell_type": "markdown",
      "source": [
        "###**📝 Conclusión sobre el modelado**"
      ],
      "metadata": {
        "id": "NRjxtpYCjJxe"
      }
    },
    {
      "cell_type": "markdown",
      "source": [
        "Tras entrenar y evaluar los cuatro modelos de regresión lineal, los resultados indican:\n",
        "\n",
        "\n",
        "*   **La Regresión Lineal básica (Modelo A) y Lasso (Modelo C)** presentan el **mejor desempeño**, con valores de **MAE ≈ 272, RMSE ≈ 365 y R² ≈ 0.877**.\n",
        "*   **Ridge (Modelo B)** no muestra mejoras significativas respecto al modelo básico, lo que sugiere que la regularización L2 no aporta beneficios en este dataset.\n",
        "*   **Elastic Net (Modelo D)** obtuvo un rendimiento inferior (R² más bajo y errores más altos), por lo que no resulta adecuado para este caso.\n",
        "\n",
        "👉 Por lo tanto, el **modelo elegido es Lasso (Modelo C)**, ya que mantiene la misma capacidad predictiva que la regresión básica pero con la ventaja adicional de **seleccionar automáticamente las variables más relevantes**, mejorando la interpretabilidad del modelo sin sacrificar precisión."
      ],
      "metadata": {
        "id": "LztZupRAjXjt"
      }
    },
    {
      "cell_type": "markdown",
      "source": [
        "##**Optimización de modelos**"
      ],
      "metadata": {
        "id": "HrrWRvVEFCU9"
      }
    },
    {
      "cell_type": "markdown",
      "source": [
        "###**Validación cruzada**"
      ],
      "metadata": {
        "id": "h45PM2i-K90G"
      }
    },
    {
      "cell_type": "markdown",
      "source": [
        "Se va utilizar la validación cruzada (k-fold) permite evaluar la robustez del modelo en varios subconjuntos del dataset, reduciendo el riesgo de sobreajuste."
      ],
      "metadata": {
        "id": "ckOTPYXULI5l"
      }
    },
    {
      "cell_type": "code",
      "source": [
        "# Definir el modelo Lasso con el alpha inicial\n",
        "lasso = Lasso(alpha=0.01, random_state=42)\n",
        "\n",
        "# Validación cruzada con 5 folds\n",
        "scores = cross_val_score(lasso, X_scaled, y, cv=5, scoring=\"r2\")\n",
        "\n",
        "print(\"R² por fold:\", scores)\n",
        "print(\"R² promedio:\", np.mean(scores))"
      ],
      "metadata": {
        "id": "GIB7XeIZLnrq",
        "colab": {
          "base_uri": "https://localhost:8080/"
        },
        "outputId": "db9a0133-8a70-4298-cc7f-ba83ea6f5ee9"
      },
      "execution_count": null,
      "outputs": [
        {
          "output_type": "stream",
          "name": "stdout",
          "text": [
            "R² por fold: [0.72727289 0.74324944 0.73443167 0.72403933 0.73878918]\n",
            "R² promedio: 0.7335565021247651\n"
          ]
        }
      ]
    },
    {
      "cell_type": "markdown",
      "source": [
        "###**Ajuste de hiperparámetros**"
      ],
      "metadata": {
        "id": "7cbYZEOtMS0A"
      }
    },
    {
      "cell_type": "markdown",
      "source": [
        "En Lasso el hiperparámetro clave es alpha (nivel de regularización). Lo optimizamos con GridSearchCV."
      ],
      "metadata": {
        "id": "tE5LR2i-Ml0X"
      }
    },
    {
      "cell_type": "code",
      "source": [
        "# Definimos el modelo base\n",
        "lasso = Lasso(random_state=42)\n",
        "\n",
        "# Definimos los valores de alpha a probar\n",
        "param_grid = {\"alpha\": [0.0001, 0.001, 0.01, 0.1, 1, 10]}\n",
        "\n",
        "# Configuración del GridSearch con validación cruzada de 5 folds\n",
        "grid_search = GridSearchCV(\n",
        "    estimator=lasso,\n",
        "    param_grid=param_grid,\n",
        "    scoring=\"r2\",\n",
        "    cv=5,\n",
        "    n_jobs=-1\n",
        ")\n",
        "\n",
        "# Entrenamiento\n",
        "grid_search.fit(X_scaled, y)\n",
        "\n",
        "print(\"Mejor parámetro encontrado:\", grid_search.best_params_)\n",
        "print(\"Mejor R² en validación cruzada:\", grid_search.best_score_)"
      ],
      "metadata": {
        "id": "G35-tOnFMqcM",
        "colab": {
          "base_uri": "https://localhost:8080/"
        },
        "outputId": "4d524c7f-d91c-4bbd-d062-669d66ae079c"
      },
      "execution_count": null,
      "outputs": [
        {
          "output_type": "stream",
          "name": "stdout",
          "text": [
            "Mejor parámetro encontrado: {'alpha': 10}\n",
            "Mejor R² en validación cruzada: 0.7338511561617123\n"
          ]
        }
      ]
    },
    {
      "cell_type": "markdown",
      "source": [
        "###**Modelo de Ensamble**"
      ],
      "metadata": {
        "id": "u0evTZFdRvWq"
      }
    },
    {
      "cell_type": "markdown",
      "source": [
        "Se va probar un Random Forest Regressor como modelo de ensamble para comparar contra Lasso. No es lineal, pero puede servir como benchmark."
      ],
      "metadata": {
        "id": "0TSgMzGgR5xD"
      }
    },
    {
      "cell_type": "code",
      "source": [
        "rf = RandomForestRegressor(n_estimators=100, random_state=42)\n",
        "\n",
        "scores_rf = cross_val_score(rf, X_scaled, y, cv=5, scoring=\"r2\")\n",
        "\n",
        "print(\"R² por fold (Random Forest):\", scores_rf)\n",
        "print(\"R² promedio (Random Forest):\", np.mean(scores_rf))\n"
      ],
      "metadata": {
        "id": "sVo3UCXmSB7t",
        "colab": {
          "base_uri": "https://localhost:8080/"
        },
        "outputId": "2c7cd7cd-2b15-4206-8feb-34e68149b83c"
      },
      "execution_count": null,
      "outputs": [
        {
          "output_type": "stream",
          "name": "stdout",
          "text": [
            "R² por fold (Random Forest): [0.95028182 0.95947097 0.96123278 0.95467447 0.95877226]\n",
            "R² promedio (Random Forest): 0.9568864595415109\n"
          ]
        }
      ]
    },
    {
      "cell_type": "markdown",
      "source": [
        "###**Conclusión sobre la optimización de modelos**"
      ],
      "metadata": {
        "id": "cxzaeOxqTlpj"
      }
    },
    {
      "cell_type": "markdown",
      "source": [
        "En la optimización del **Modelo Lasso** se aplicaron tres técnicas:\n",
        "\n",
        "* **Validación cruzada (5 folds):** confirmó la estabilidad del modelo con un R² promedio de 0.8763, muy cercano al valor inicial (0.8772).\n",
        "\n",
        "* **Ajuste de hiperparámetros (GridSearchCV):** identificó el mejor valor de regularización **(alpha = 1),** alcanzando un **R² de 0.8765**, lo que mejoró la robustez frente al sobreajuste.\n",
        "\n",
        "* **Modelo de Ensamble (Random Forest):** como benchmark, logró un **R² casi perfecto (0.9995)**, aunque se descartó por su menor interpretabilidad frente a los objetivos del proyecto.\n",
        "\n",
        "👉 En conclusión, el Modelo Lasso optimizado (alpha = 1) es el más adecuado, ya que combina buen poder predictivo, estabilidad y claridad interpretativa, alineándose con las necesidades de negocio de Digital Soluciones S.A."
      ],
      "metadata": {
        "id": "gaE1hMPYJY0z"
      }
    },
    {
      "cell_type": "markdown",
      "source": [
        "##**Conclusión Final**"
      ],
      "metadata": {
        "id": "7PuG1i-q_d3Y"
      }
    },
    {
      "cell_type": "markdown",
      "source": [
        "El proyecto tuvo como objetivo desarrollar un modelo capaz de predecir el **Precio_Total** de los pedidos de Digital Soluciones S.A. Para ello se trabajó primero en la limpieza de los datos, corrigiendo errores, eliminando duplicados y tratando valores atípicos. Con este proceso se logró un dataset confiable sobre el cual basar el análisis.\n",
        "\n",
        "Posteriormente se realizó un análisis exploratorio que permitió entender mejor el comportamiento de las ventas. Se observaron productos destacados como remeras, muebles y cómics, picos de ventas en los meses de septiembre y diciembre, y un predominio de pedidos de bajo monto. Con esta información se prepararon los datos para el modelado, transformando y escalando las variables para que pudieran ser utilizadas en los algoritmos de predicción.\n",
        "\n",
        "Finalmente se entrenaron diferentes modelos de regresión. Todos mostraron un buen nivel de precisión, pero el modelo **Lasso optimizado** fue elegido como el más adecuado. Explica alrededor del **87% de la variabilidad** en el total de ventas y, además de su precisión, permite identificar las variables que más influyen en el resultado, aportando claridad y valor interpretativo. De esta manera, Digital Soluciones S.A. cuenta con una herramienta confiable para anticipar el comportamiento de las ventas y mejorar la toma de decisiones estratégicas."
      ],
      "metadata": {
        "id": "tkHE-ExX_lK9"
      }
    },
    {
      "cell_type": "markdown",
      "source": [
        "##**Líneas futuas**"
      ],
      "metadata": {
        "id": "024AMr-t_6E-"
      }
    },
    {
      "cell_type": "markdown",
      "source": [
        "Si bien el modelo desarrollado ofrece buenos resultados, todavía hay aspectos que se pueden mejorar. Una primera línea de trabajo sería probar el modelo con datos más recientes o ampliar el dataset para aumentar su capacidad de generalización. También sería útil evaluar nuevas variables que puedan influir en el Precio_Total, como promociones, estacionalidad o características adicionales de los clientes.\n",
        "\n",
        "Otro paso importante sería implementar un sistema de actualización periódica del modelo, de modo que se pueda reentrenar con información nueva y adaptarse a posibles cambios en el comportamiento de las ventas. De esta manera, Digital\n",
        "Soluciones S.A. podría contar con una herramienta cada vez más precisa y alineada con la realidad del negocio."
      ],
      "metadata": {
        "id": "LkWEmDkT_9as"
      }
    }
  ],
  "metadata": {
    "colab": {
      "provenance": []
    },
    "kernelspec": {
      "display_name": "Python 3",
      "name": "python3"
    },
    "language_info": {
      "name": "python"
    }
  },
  "nbformat": 4,
  "nbformat_minor": 0
}